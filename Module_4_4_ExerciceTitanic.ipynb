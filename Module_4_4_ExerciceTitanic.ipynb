{
 "cells": [
  {
   "cell_type": "markdown",
   "metadata": {},
   "source": [
    "---\n",
    "# Exercice pratique\n",
    "---\n",
    "\n",
    "<center><img src=\"./img/mlprocess_0.png\" alt=\"Processus d'apprentissage automatique\" width=\"50%\"/></center>\n",
    "\n",
    "En utilisant le jeu de données Titanic et en reprenant vos résultats du thème 3 sur la classification, déterminez quel modèle est le plus adapté pour prédire la survie d'un passager et quelle(s) métrique(s) justifient vos résultats.\n",
    "\n",
    "En plus des éléments discutés dans l'exercice du thème 3, n'oubliez pas qu'il vous faut une méthode pour collecter les différentes métriques d'évaluation utilisées selon les modèles et hyperparamètres utilisés pour pouvoir comparer les modèles ensuite.\n",
    "\n",
    "Ajoutez ensuite sur le forum, quel a été le meilleur modèle appris, quels sont les hyperparamètres qui ont été choisis et quelles valeurs de métriques vous avez obtenues, afin que d'autres participants puissent reproduire vos résultats. \n",
    "\n",
    "Évitez de donner du code sur le forum pour laisser la possibilité à chacun de trouver par soi-même ;-) \n"
   ]
  },
  {
   "cell_type": "code",
   "execution_count": null,
   "metadata": {},
   "outputs": [],
   "source": []
  }
 ],
 "metadata": {
  "kernelspec": {
   "display_name": "Python 3",
   "language": "python",
   "name": "python3"
  },
  "language_info": {
   "codemirror_mode": {
    "name": "ipython",
    "version": 3
   },
   "file_extension": ".py",
   "mimetype": "text/x-python",
   "name": "python",
   "nbconvert_exporter": "python",
   "pygments_lexer": "ipython3",
   "version": "3.7.3"
  }
 },
 "nbformat": 4,
 "nbformat_minor": 4
}
