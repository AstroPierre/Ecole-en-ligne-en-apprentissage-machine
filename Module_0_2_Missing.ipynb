{
 "cells": [
  {
   "cell_type": "markdown",
   "metadata": {
    "colab_type": "text",
    "id": "CDEWTP-vNB_R"
   },
   "source": [
    "---\n",
    "# Préparation des données\n",
    "\n",
    "---\n",
    "\n",
    "\n",
    "Pour préparer adéquatement les données avant de les fournir à un ou plusieurs algorithmes d'apprentissage automatique, il faut également s'assurer de l'intégrité de ces données pour ne pas fournir de valeurs manquantes aux algorithmes qui pourraient alors donner une valeur manquante à leur tour.\n",
    "\n",
    "<center><img src=\"./img/mlprocess_2.png\" alt=\"Processus d'apprentissage automatique\" width=\"50%\"/></center>\n",
    "\n",
    "1. Le nettoyage et les aberrations statistiques\n",
    "2. **L'imputation de données manquantes**\n",
    "3. Équilibrage de données déséquilibrées\n",
    "4. Transformation des caractéristiques\n",
    "    1. *rescaling* et *normalizing* (\\[0, 1\\] ou \\[-1, 1\\]), *standardizing* (loi normale)\n",
    "    2. Représentation matricielle de données catégorisées\n",
    "    3. Réduction de la dimensionnalité ou création de caractéristiques\n",
    "\n",
    "\n",
    "\n"
   ]
  },
  {
   "cell_type": "markdown",
   "metadata": {
    "colab_type": "text",
    "id": "0yQg0QdRJYFn"
   },
   "source": [
    "## 2. Imputation des données manquantes \n",
    "Si vous voulez faire simple : `scikit-learn` offre un [`SimpleImputer`](http://scikit-learn.org/stable/modules/generated/sklearn.impute.SimpleImputer.html#sklearn.impute.SimpleImputer) et un [`MissingIndicator`](http://scikit-learn.org/stable/modules/generated/sklearn.impute.MissingIndicator.html#sklearn.impute.MissingIndicator) alors que `pandas` offre la méthode [`fillna()`](http://pandas.pydata.org/pandas-docs/stable/generated/pandas.DataFrame.fillna.html).\n",
    "Sinon, utilisez les fonctionalités de la librairie [`impypute`](https://pypi.org/project/impyute/):\n",
    "- Outils de diagnostic\n",
    "     - Journaux\n",
    "     - Distribution des valeurs nulles\n",
    "     - Comparaison des imputations\n",
    "     - [Test MCAR de Little](https://impyute.readthedocs.io/en/latest/user_guide/diagnostics.html#little-s-mcar-test-1)\n",
    "- Imputation de données transversales\n",
    "     - Imputation aléatoire\n",
    "     - K-voisins les plus proches\n",
    "     - Imputation moyenne\n",
    "     - Imputation par mode\n",
    "     - Imputation médiane\n",
    "     - Imputation multivariée par équations chaînées ([MICE](https://www.ncbi.nlm.nih.gov/pmc/articles/PMC3074241/))\n",
    "     - Espérance/maximisation\n",
    "- Imputation de données chronologiques\n",
    "     - Dernière observation reportée\n",
    "     - Fenêtre mobile\n",
    "     - Moyenne mobile intégrée autorégressive (WIP)\n",
    "     \n",
    "Ou bien : [`fancyimpute`](https://pypi.org/project/fancyimpute/) :\n",
    "* `SimpleFill`: Remplace les entrées manquantes par la moyenne ou la médiane de chaque colonne.\n",
    "* `KNN`: Imputations du voisin le plus proche qui pondère les échantillons en utilisant la différence quadratique moyenne sur les entités pour lesquelles deux lignes contiennent des données observées.\n",
    "* `SoftImpute`: Complétion de la matrice par seuillage souple itératif des décompositions SVD. Inspiré de la librairie [softImpute](https://web.stanford.edu/~hastie/swData/softImpute/vignette.html) pour R, basé sur [Spectral Regularization Algorithms for Learning Large Incomplete Matrices](http://web.stanford.edu/~hastie/Papers/mazumder10a.pdf) de Mazumder et. Al.\n",
    "* `IterativeSVD`: Achèvement de la matrice par décomposition itérative SVD de bas rang. Devrait être similaire à SVDimpute de [Missing value estimation methods for DNA microarrays](http://www.ncbi.nlm.nih.gov/pubmed/11395428) de Troyanskaya et. Al.\n",
    "* `IterativeImputer` (ex MICE): Une stratégie pour imputer les valeurs manquantes en modélisant chaque entité avec des valeurs manquantes en fonction des autres entités de manière alternée.\n",
    "* `MatrixFactorization`: Factorisation directe de la matrice incomplète en« U »et« V »de bas rang, avec une pénalité de faible densité L1 sur les éléments de« U »et une pénalité de L2 sur les éléments de« V ». Résolu par descente progressive.\n",
    "* `NuclearNormMinimization`: Implémentation simple de [Exact Matrix Completion via Convex Optimization](http://statweb.stanford.edu/~candes/papers/MatrixCompletion.pdf) d'Emmanuel Candes et Benjamin Recht utilisant [cvxpy](http://www.cvxpy.org). Algorithme trop lent pour les grandes matrices.\n",
    "* `BiScaler`: Estimation itérative de la moyenne des rangées/colonnes et des écarts types pour obtenir une double normalisation. Pas garanti de converger, mais fonctionne bien dans la pratique. Tiré de [Matrix Completion and Low-Rank SVD via Fast Alternating Least Squares](http://arxiv.org/abs/1410.2596)."
   ]
  },
  {
   "cell_type": "markdown",
   "metadata": {
    "_cell_guid": "b57ada49-2e30-473d-9e6e-fa57afd87bc5",
    "_uuid": "c66c9a187266122b4fdc5b50ad650988f9e23603",
    "colab_type": "text",
    "id": "aborTJDPJYFn"
   },
   "source": [
    "Essayons de manipuler des données manquantes provenant de la compétition Kaggle sur le Titanic[$^1$](https://www.kaggle.com/c/titanic):\n",
    "\n",
    "Nous aurons à retravailler dessus lors des exercices de classification (Module 3)\n",
    "\n",
    "### Chargement des données\n",
    "\n",
    " - survival: Survival (0 = No, 1 = Yes)\n",
    " - pclass: Ticket class(1 = 1st, 2 = 2nd, 3 = 3rd)\n",
    " - sex: Sex\n",
    " - Age: Age in years\n",
    " - sibsp: Number of siblings / spouses aboard the Titanic\n",
    " - parch: Number of parents / children aboard the Titanic\n",
    " - ticket: Ticket number\n",
    " - name: Passenger name\n",
    " - fare: Passenger fare\n",
    " - embarked: Port of Embarkation(C = Cherbourg, Q = Queenstown, S = Southampton)\n"
   ]
  },
  {
   "cell_type": "code",
   "execution_count": 1,
   "metadata": {
    "colab": {},
    "colab_type": "code",
    "id": "emJ03L5ZJYFo"
   },
   "outputs": [
    {
     "name": "stderr",
     "output_type": "stream",
     "text": [
      "'rm' n'est pas reconnu en tant que commande interne\n",
      "ou externe, un programme ex‚cutable ou un fichier de commandes.\n"
     ]
    },
    {
     "name": "stdout",
     "output_type": "stream",
     "text": [
      "100% [..............................................................................] 23887 / 23887"
     ]
    }
   ],
   "source": [
    "import numpy as np\n",
    "import pandas as pd\n",
    "import warnings\n",
    "warnings.filterwarnings(\"ignore\")\n",
    "import wget\n",
    "\n",
    "!rm './titanic_train.csv' './titanic_test.csv'\n",
    "wget.download('https://raw.githubusercontent.com/iid-ulaval/EEAA-datasets/master/titanic_train.csv','./titanic_train.csv')\n",
    "wget.download('https://raw.githubusercontent.com/iid-ulaval/EEAA-datasets/master/titanic_test.csv','./titanic_test.csv')\n",
    "\n",
    "\n",
    "np.random.seed(0)\n",
    "\n",
    "train = pd.read_csv('titanic_train.csv')\n",
    "test = pd.read_csv('titanic_test.csv')"
   ]
  },
  {
   "cell_type": "markdown",
   "metadata": {
    "colab_type": "text",
    "id": "j_saXmmeJYFo"
   },
   "source": [
    "Création des types de colonnes.\n",
    "\n",
    "(On vous laisse deviner ce que ca fait, mais posez la question sur le forum si jamais ce n'est pas clair.)"
   ]
  },
  {
   "cell_type": "code",
   "execution_count": 2,
   "metadata": {
    "colab": {},
    "colab_type": "code",
    "id": "vWnRnySaJYFp"
   },
   "outputs": [],
   "source": [
    "import sys\n",
    "import warnings\n",
    "\n",
    "def enforceTypesTitanic(df):\n",
    "    Pclass_dtype = pd.api.types.CategoricalDtype(categories=[1, 2, 3], ordered=True)\n",
    "    df.Survived = df.Survived.astype(\"category\")\n",
    "    df.Pclass = df.Pclass.astype(Pclass_dtype)\n",
    "    df.Sex = df.Sex.astype(\"category\")\n",
    "    df.Embarked = df.Embarked.astype(\"category\")\n",
    "    df = df.drop('Name', axis=1)\n",
    "    df = df.drop('Ticket', axis=1)\n",
    "    df = df.drop('index', axis=1)\n",
    "    return df\n",
    "\n",
    "\n",
    "train = enforceTypesTitanic(train)\n",
    "test = enforceTypesTitanic(test)"
   ]
  },
  {
   "cell_type": "markdown",
   "metadata": {
    "colab_type": "text",
    "id": "HuJh9nAPJYFr"
   },
   "source": [
    "Comptage des valeurs nulles dans le dataset (`train` et `test`):"
   ]
  },
  {
   "cell_type": "code",
   "execution_count": 3,
   "metadata": {
    "colab": {},
    "colab_type": "code",
    "id": "Eis5UCqTJYFr"
   },
   "outputs": [
    {
     "data": {
      "text/plain": [
       "Unnamed: 0      0\n",
       "Pclass          0\n",
       "Survived        0\n",
       "Sex             0\n",
       "Age           263\n",
       "SibSp           0\n",
       "Parch           0\n",
       "Fare            1\n",
       "Embarked        2\n",
       "dtype: int64"
      ]
     },
     "execution_count": 3,
     "metadata": {},
     "output_type": "execute_result"
    }
   ],
   "source": [
    "def naSummary(df):\n",
    "    return df.isnull().sum()\n",
    "\n",
    "naSummary(train)"
   ]
  },
  {
   "cell_type": "code",
   "execution_count": 4,
   "metadata": {
    "colab": {},
    "colab_type": "code",
    "id": "-jsT7Jr3JYFv"
   },
   "outputs": [
    {
     "data": {
      "text/plain": [
       "Unnamed: 0    0\n",
       "Pclass        0\n",
       "Survived      0\n",
       "Sex           0\n",
       "Age           0\n",
       "SibSp         0\n",
       "Parch         0\n",
       "Fare          0\n",
       "Embarked      0\n",
       "dtype: int64"
      ]
     },
     "execution_count": 4,
     "metadata": {},
     "output_type": "execute_result"
    }
   ],
   "source": [
    "naSummary(test)"
   ]
  },
  {
   "cell_type": "markdown",
   "metadata": {
    "_cell_guid": "602b7065-1c54-4a77-8e47-4836e68a0a05",
    "_uuid": "008a9e79ab99b1553bd002d0b745a85fa11f08a2",
    "colab_type": "text",
    "id": "1e4LNHFNJYFw"
   },
   "source": [
    "## Validation de l'équilibre de la distribution des données Train vs Test"
   ]
  },
  {
   "cell_type": "code",
   "execution_count": 5,
   "metadata": {
    "colab": {},
    "colab_type": "code",
    "id": "ABTHqlrMJYFx"
   },
   "outputs": [
    {
     "data": {
      "image/png": "[encoded data removed]",
      "text/plain": [
       "<Figure size 1080x1080 with 9 Axes>"
      ]
     },
     "metadata": {
      "needs_background": "light"
     },
     "output_type": "display_data"
    }
   ],
   "source": [
    "%matplotlib inline\n",
    "import seaborn as sns\n",
    "import matplotlib.gridspec as gs\n",
    "import matplotlib.pyplot as plt\n",
    "import itertools\n",
    "\n",
    "# Si vous avez statsmodels installé, \n",
    "sns.distributions._has_statsmodels=False\n",
    "\n",
    "# Calculer la taille de la grille en fonction du nombre de caractéristiques \n",
    "def gridSize(nb_features):\n",
    "    a = len(nb_features)\n",
    "    if a%2 != 0:\n",
    "        a += 1\n",
    "    n = np.floor(np.sqrt(a)).astype(np.int64)\n",
    "    while a%n != 0:\n",
    "        n -= 1\n",
    "    m = (a/n).astype(np.int64)\n",
    "    return m,n\n",
    "\n",
    "# Affichage des deux distributions pour chaque colonne des dataframes 1 et 2\n",
    "def distComparison(df1, df2):\n",
    "    \n",
    "    assert (len(df1.columns) == len(df2.columns))\n",
    "    \n",
    "    m,n = gridSize(df1.columns)\n",
    "    coords = list(itertools.product(list(range(m)), list(range(n))))\n",
    "    \n",
    "    # Choix des graphiques pour chaque type de colonne\n",
    "    numerics = df1.select_dtypes(include=[np.number]).columns\n",
    "    cats = df1.select_dtypes(include=['category']).columns\n",
    "    \n",
    "    fig = plt.figure(figsize=(15, 15))\n",
    "    axes = gs.GridSpec(m, n)\n",
    "    axes.update(wspace=0.25, hspace=0.25)\n",
    "    # Graphiques pour données numériques : on fait un KDE de la distribution\n",
    "    for i in range(len(numerics)):\n",
    "        x, y = coords[i]\n",
    "        ax = plt.subplot(axes[x, y])\n",
    "        col = numerics[i]\n",
    "\n",
    "        sns.kdeplot(df1[col].dropna(), ax=ax, label='df1').set(xlabel=col)\n",
    "        sns.kdeplot(df2[col].dropna(), ax=ax, label='df2')\n",
    "        \n",
    "    # Graphique pour les données catégoriques : diagramme en bâtons\n",
    "    for i in range(0, len(cats)):\n",
    "        x, y = coords[len(numerics)+i]\n",
    "        ax = plt.subplot(axes[x, y])\n",
    "        col = cats[i]\n",
    "\n",
    "        df1_temp = df1[col].value_counts()\n",
    "        df2_temp = df2[col].value_counts()\n",
    "        df1_temp = pd.DataFrame({col: df1_temp.index, 'value': df1_temp/len(df1), 'Set': np.repeat('df1', len(df1_temp))})\n",
    "        df2_temp = pd.DataFrame({col: df2_temp.index, 'value': df2_temp/len(df2), 'Set': np.repeat('df2', len(df2_temp))})\n",
    "\n",
    "        sns.barplot(x=col, y='value', hue='Set', data=pd.concat([df1_temp, df2_temp]), ax=ax).set(ylabel='Percentage')\n",
    "\n",
    "# Affichage de la comparaison entre les données de train et de test (sans la colonne des étiquettes.) \n",
    "distComparison(train, test)"
   ]
  },
  {
   "cell_type": "markdown",
   "metadata": {
    "_cell_guid": "eb108455-8d35-42b5-a6e6-0d644d30959e",
    "_uuid": "de2217f045c02397cf908b43a38ee9dc9b86fc6b",
    "colab_type": "text",
    "id": "C2LpW0gyJYFy"
   },
   "source": [
    "On crée une baseline en complétant arbitrairement les données manquantes."
   ]
  },
  {
   "cell_type": "code",
   "execution_count": 6,
   "metadata": {
    "colab": {},
    "colab_type": "code",
    "id": "VihMo6p4JYFy"
   },
   "outputs": [],
   "source": [
    "# Embarked est le port d'embarquement, on complète les données manquantes par le premier port.\n",
    "train.Embarked = train.Embarked.fillna('C')\n",
    "\n",
    "# Il manque une donnée de prix payé pour le billet; choisissons une valeur arbitraire.\n",
    "train.Fare = train.Fare.fillna(8.05)\n"
   ]
  },
  {
   "cell_type": "code",
   "execution_count": 7,
   "metadata": {
    "colab": {},
    "colab_type": "code",
    "id": "GkAKK2JaJYFz"
   },
   "outputs": [
    {
     "data": {
      "text/plain": [
       "Unnamed: 0      0\n",
       "Pclass          0\n",
       "Survived        0\n",
       "Sex             0\n",
       "Age           263\n",
       "SibSp           0\n",
       "Parch           0\n",
       "Fare            0\n",
       "Embarked        0\n",
       "dtype: int64"
      ]
     },
     "execution_count": 7,
     "metadata": {},
     "output_type": "execute_result"
    }
   ],
   "source": [
    "naSummary(train)"
   ]
  },
  {
   "cell_type": "code",
   "execution_count": 8,
   "metadata": {
    "colab": {},
    "colab_type": "code",
    "id": "9P5_82N2JYF1"
   },
   "outputs": [
    {
     "data": {
      "text/plain": [
       "Unnamed: 0    0\n",
       "Pclass        0\n",
       "Survived      0\n",
       "Sex           0\n",
       "Age           0\n",
       "SibSp         0\n",
       "Parch         0\n",
       "Fare          0\n",
       "Embarked      0\n",
       "dtype: int64"
      ]
     },
     "execution_count": 8,
     "metadata": {},
     "output_type": "execute_result"
    }
   ],
   "source": [
    "naSummary(test)"
   ]
  },
  {
   "cell_type": "markdown",
   "metadata": {
    "_cell_guid": "d36d00c2-6fd3-4b5f-9140-3dff423e0b87",
    "_uuid": "f4046a90e27ad0913eca82b47cc76c2d07850ccd",
    "colab_type": "text",
    "id": "4tL9dlDwJYF1"
   },
   "source": [
    "## Les données sont elles MCAR ?\n",
    "\n",
    "MCAR = missing completely at random.\n",
    "\n",
    "Essentiellement, divisons les données en deux ensembles supplémentaires: Données manquantes et données présentes. Puis vérifions que, si la distribution des variables dans chacun de ces ensembles est la même, alors les données manquent complètement au hasard."
   ]
  },
  {
   "cell_type": "code",
   "execution_count": 9,
   "metadata": {
    "colab": {},
    "colab_type": "code",
    "id": "_lb3qwxGJYF1"
   },
   "outputs": [
    {
     "data": {
      "image/png": "[encoded data removed]",
      "text/plain": [
       "<Figure size 1080x1080 with 7 Axes>"
      ]
     },
     "metadata": {
      "needs_background": "light"
     },
     "output_type": "display_data"
    }
   ],
   "source": [
    "age_present = train.dropna().drop('Age', 1)\n",
    "age_missing = train[train.isnull().any(axis=1)].drop('Age', 1)\n",
    "\n",
    "cat_dtype = pd.api.types.CategoricalDtype(categories=list(range(8)), ordered=True)\n",
    "age_present.Parch = age_present.Parch.astype(cat_dtype)\n",
    "age_missing.Parch = age_missing.Parch.astype(cat_dtype)\n",
    "\n",
    "age_present.SibSp = age_present.SibSp.astype(cat_dtype)\n",
    "age_missing.SibSp = age_missing.SibSp.astype(cat_dtype)\n",
    "\n",
    "distComparison(age_present.drop('Survived', 1), age_missing.drop('Survived', 1))"
   ]
  },
  {
   "cell_type": "markdown",
   "metadata": {
    "_cell_guid": "ec01755d-01b8-45e8-b57a-7f83ff302927",
    "_uuid": "0fee94f930b9a76b642e4182f2e0a073da427c6c",
    "colab_type": "text",
    "id": "IqyeRSDqJYF3"
   },
   "source": [
    "Il semble que nous ne puissions pas vérifier l’hypothèse MCAR. L'explication semble être que nous sommes moins susceptibles de connaître l'âge des personnes décédées. Comme en témoigne la proportion beaucoup plus grande de passagers de la classe inférieure, le pic plus net dans les tarifs plus bas et une légère asymétrie à l’égard des hommes.\n",
    "\n",
    "De manière plus significative encore, il semble que les personnes qui se sont embarquées à Queenstown (Q) ont un taux beaucoup plus élevé d’âge manquant.\n",
    "\n",
    "Remarque: Il serait préférable d'utiliser une mesure plus objective de MCAR, comme le test de Little : (TODO)"
   ]
  },
  {
   "cell_type": "markdown",
   "metadata": {
    "_cell_guid": "8be28abb-f498-450a-9d25-4771c432ecec",
    "_uuid": "1eb821dba55457db166b63b8bf943bb1f5a30164",
    "colab_type": "text",
    "id": "FhCu5EkbJYF3"
   },
   "source": [
    "## Baseline de prédiction"
   ]
  },
  {
   "cell_type": "markdown",
   "metadata": {
    "_cell_guid": "64668e8b-0ae7-4c4e-8062-afdaf708c9d4",
    "_uuid": "5079fff2dea16b57d9c220e40b694a4dde489b38",
    "colab_type": "text",
    "id": "CogyYiFvJYF3"
   },
   "source": [
    "Sans l'utilisation des données `Age`, notre prédicteur sera un classificateur par forêt aléatoire avec les paramètres affichés. Toutes les estimations d'erreur de test sont obtenues par une validation croisée 10 fois."
   ]
  },
  {
   "cell_type": "code",
   "execution_count": 10,
   "metadata": {
    "colab": {},
    "colab_type": "code",
    "id": "QyL2gc08JYF3"
   },
   "outputs": [
    {
     "name": "stdout",
     "output_type": "stream",
     "text": [
      "[BASELINE] Estimation RF sur Test (n = 981, 10-fold CV): 0.7357720907794546\n"
     ]
    }
   ],
   "source": [
    "from sklearn.ensemble import RandomForestClassifier\n",
    "from sklearn.model_selection import cross_val_score\n",
    "\n",
    "# Préparation des données afin d'enlever les données catégoriques\n",
    "def prepForModel(df):\n",
    "    new_df = df.copy()\n",
    "    # Classe de cabine en entier\n",
    "    new_df.Pclass = new_df.Pclass.astype(\"int\")\n",
    "    # Sexe binaire\n",
    "    new_df.Sex.cat.categories = [0, 1]\n",
    "    new_df.Sex = new_df.Sex.astype(\"int\")\n",
    "    # Port d'embarquement en entier (on pourrait utiliser une variable dummy ? tryit ;-))\n",
    "    new_df.Embarked.cat.categories = [0, 1, 2]\n",
    "    new_df.Embarked = new_df.Embarked.astype(\"int\")\n",
    "    return new_df\n",
    "\n",
    "# Même pipeline pour le train et le test.\n",
    "train_cl = prepForModel(train)\n",
    "test_cl = prepForModel(test)\n",
    "\n",
    "# Sélection des colonnes sans l'âge\n",
    "Xcol = ['Pclass', 'Sex', 'SibSp', 'Parch', 'Fare', 'Embarked']\n",
    "Ycol = 'Survived'\n",
    "X = train_cl[Xcol]\n",
    "Y = train_cl[Ycol]\n",
    "\n",
    "# Mémorisation des datasets avant qu'on ne fasse d'autres transformations.\n",
    "Xbase = X\n",
    "Ybase = Y\n",
    "\n",
    "# Classification par forêt aléatoire (Random Forest en anglais, ou RF.)\n",
    "rf = RandomForestClassifier(n_estimators=1000,\n",
    "                           max_depth=None,\n",
    "                           min_samples_split=10)\n",
    "\n",
    "baseline_err = cross_val_score(rf, X, Y, cv=10, n_jobs=-1).mean()\n",
    "print(\"[BASELINE] Estimation RF sur Test (n = {}, 10-fold CV): {}\".format(len(X), baseline_err))"
   ]
  },
  {
   "cell_type": "markdown",
   "metadata": {
    "_cell_guid": "9d2a87fb-4317-4fd2-a6db-f5bd62fb3362",
    "_uuid": "bcad8d2354eb04f7139567624d27ac2d9e73ad5a",
    "colab_type": "text",
    "id": "1IKAK8N8JYF4"
   },
   "source": [
    "#### Suppression simple des données manquantes "
   ]
  },
  {
   "cell_type": "code",
   "execution_count": 11,
   "metadata": {
    "colab": {},
    "colab_type": "code",
    "id": "GgZwr3c2JYF5"
   },
   "outputs": [
    {
     "name": "stdout",
     "output_type": "stream",
     "text": [
      "[DELETION] Estimation RF sur Test (n = 718, 10-fold CV): 0.7480355113940875\n"
     ]
    }
   ],
   "source": [
    "Xdel = train_cl.dropna()[Xcol + ['Age']]\n",
    "Ydel = train_cl.dropna()[Ycol]\n",
    "\n",
    "deletion_err = cross_val_score(rf, Xdel, Ydel, cv=10, n_jobs=-1).mean()\n",
    "print(\"[DELETION] Estimation RF sur Test (n = {}, 10-fold CV): {}\".format(len(Xdel), deletion_err))"
   ]
  },
  {
   "cell_type": "markdown",
   "metadata": {
    "_cell_guid": "a6ac5c2b-364b-476d-8786-dd9f0fd7a9cc",
    "_uuid": "4dc1d8e53ddc961c92a334367201c89cdc21af3b",
    "colab_type": "text",
    "id": "zpKzjUUTJYGD"
   },
   "source": [
    "#### Substitution par la moyenne"
   ]
  },
  {
   "cell_type": "code",
   "execution_count": 12,
   "metadata": {
    "colab": {},
    "colab_type": "code",
    "id": "rF99L16KJYGD"
   },
   "outputs": [
    {
     "name": "stdout",
     "output_type": "stream",
     "text": [
      "[MEAN] Estimation RF sur Test (n = 981, 10-fold CV): 0.7632105825772983\n"
     ]
    }
   ],
   "source": [
    "train_cl = prepForModel(train)\n",
    "train_cl.Age = train_cl.Age.fillna(train_cl.Age.mean(skipna=True))\n",
    "\n",
    "Xmean = train_cl[Xcol + ['Age']]\n",
    "Ymean = train_cl[Ycol]\n",
    "\n",
    "mean_err = cross_val_score(rf, Xmean, Ymean, cv=10, n_jobs=-1).mean()\n",
    "print(\"[MEAN] Estimation RF sur Test (n = {}, 10-fold CV): {}\".format(len(Xmean), mean_err))"
   ]
  },
  {
   "cell_type": "markdown",
   "metadata": {
    "_cell_guid": "a52e28e5-1333-4c96-bda7-10b36c39c137",
    "_uuid": "ec26ebd70984436e825d406d2616830f0f12e9cc",
    "colab_type": "text",
    "id": "XyQfkRuAJYGE"
   },
   "source": [
    "#### Régression déterministe et aléatoire"
   ]
  },
  {
   "cell_type": "code",
   "execution_count": 13,
   "metadata": {
    "colab": {},
    "colab_type": "code",
    "id": "DOu1H8vAJYGE"
   },
   "outputs": [
    {
     "name": "stdout",
     "output_type": "stream",
     "text": [
      "[DETERMINISTIC REGRESSION] Estimation RF sur Test (n = 981, 10-fold CV): 0.7714266587609739\n",
      "[RANDOM REGRESSION] Estimation RF sur Test (n = 981, 10-fold CV): 0.7631584092556111\n"
     ]
    }
   ],
   "source": [
    "train_cl = prepForModel(train)\n",
    "train_reg = train_cl.dropna()\n",
    "\n",
    "from sklearn.linear_model import LinearRegression\n",
    "from sklearn import preprocessing\n",
    "\n",
    "Xrcol = ['Pclass', 'Sex', 'SibSp', 'Parch', 'Fare', 'Embarked']\n",
    "Yrcol = 'Age'\n",
    "\n",
    "X_reg = train_reg[Xrcol]\n",
    "Y_reg = train_reg[Yrcol]\n",
    "\n",
    "age_lm = LinearRegression()\n",
    "age_lm.fit(X_reg, Y_reg)\n",
    "abs_residuals = np.absolute(Y_reg - age_lm.predict(X_reg))\n",
    "\n",
    "nan_inds = train_cl.Age.isnull().to_numpy().nonzero()[0]\n",
    "train_cl2 = train_cl.copy()\n",
    "\n",
    "for i in nan_inds:\n",
    "    train_cl['Age'].at[i] = age_lm.predict(train_cl.loc[i, Xrcol].values.reshape(1, -1))\n",
    "\n",
    "Xreg = train_cl[Xcol + ['Age']]\n",
    "Yreg = train_cl[Ycol]\n",
    "    \n",
    "reg_err = cross_val_score(rf, Xreg, Yreg, cv=10, n_jobs=-1).mean()\n",
    "print(\"[DETERMINISTIC REGRESSION] Estimation RF sur Test (n = {}, 10-fold CV): {}\".format(len(Xreg), reg_err))\n",
    "\n",
    "for i in nan_inds:\n",
    "    detreg = age_lm.predict(train_cl2.loc[i, Xrcol].values.reshape(1, -1))\n",
    "    randreg = np.random.normal(detreg, np.random.choice(abs_residuals))\n",
    "    train_cl2['Age'].at[i] = randreg\n",
    "    \n",
    "Xrandreg = train_cl2[Xcol + ['Age']]\n",
    "Yrandreg = train_cl2[Ycol]\n",
    "    \n",
    "randreg_err = cross_val_score(rf, Xrandreg, Yrandreg, cv=10, n_jobs=-1).mean()\n",
    "print(\"[RANDOM REGRESSION] Estimation RF sur Test (n = {}, 10-fold CV): {}\".format(len(Xrandreg), randreg_err))"
   ]
  },
  {
   "cell_type": "markdown",
   "metadata": {
    "_cell_guid": "30dc53c5-cb32-4d44-8d23-d2c806a9cd23",
    "_uuid": "408dbaa3bdcefb881222e942070e050e36bd40f3",
    "colab_type": "text",
    "id": "iYhXrIOHJYGG"
   },
   "source": [
    "#### MICE"
   ]
  },
  {
   "cell_type": "code",
   "execution_count": null,
   "metadata": {
    "colab": {},
    "colab_type": "code",
    "id": "eofzVHGiJYGG"
   },
   "outputs": [],
   "source": [
    "#!pip install fancyimpute \n",
    "# En cas de problème avec cvxpy sur windows : http://www.lfd.uci.edu/~gohlke/pythonlibs/\n",
    "from fancyimpute import IterativeImputer # La méthode MICE a été renommée récemment.\n",
    "\n",
    "train_cl = prepForModel(train)\n",
    "\n",
    "X = train_cl.loc[:, Xcol + ['Age']]\n",
    "Y = train_cl.loc[:, Ycol]\n",
    "\n",
    "Xmice = IterativeImputer().fit_transform(X)\n",
    "Ymice = Y\n",
    "\n",
    "mice_err = cross_val_score(rf, Xmice, Y, cv=10, n_jobs=-1).mean()\n",
    "print(\"[MICE] Estimation RF sur Test (n = {}, 10-fold CV): {}\".format(len(Xmice), mice_err))"
   ]
  },
  {
   "cell_type": "markdown",
   "metadata": {
    "_cell_guid": "d37c7551-67bd-4e7f-94d9-25a950021876",
    "_uuid": "5cb98a3c43ea86f8348b529623eb2cc39f3970c3",
    "colab_type": "text",
    "id": "ktNAQdMuJYGG"
   },
   "source": [
    "#### KNN (données normalisées)\n",
    "\n",
    "Il peut sembler étrange, dans ce qui suit, de normaliser les données X puisque plusieurs facteurs (colonnes) correspondent à \n",
    "des variables binaires ou ordinales. L'idée est de rapporter tous ces facteurs à la même échelle, entre 0 et 1, \n",
    "afin de calculer correctement les 'distances' entre les passagers et trouver leurs plus proches voisins. \n",
    "Sans la normalisation (ou standardisation), les distances ne dépendraient principalement que des différences de \n",
    "prix du billet (Fare).\n",
    "\n",
    "L'identification des plus proches voisins permet ensuite l'imputation des données manquantes. La normalisation des données \n",
    "X n'affecte pas l'étape suivante, la classification des données par forêts aléatoires.\n"
   ]
  },
  {
   "cell_type": "code",
   "execution_count": 14,
   "metadata": {
    "colab": {},
    "colab_type": "code",
    "id": "GEMMkK4mJYGH"
   },
   "outputs": [
    {
     "ename": "ModuleNotFoundError",
     "evalue": "No module named 'fancyimpute'",
     "output_type": "error",
     "traceback": [
      "\u001b[1;31m---------------------------------------------------------------------------\u001b[0m",
      "\u001b[1;31mModuleNotFoundError\u001b[0m                       Traceback (most recent call last)",
      "\u001b[1;32m<ipython-input-14-96c7649482ce>\u001b[0m in \u001b[0;36m<module>\u001b[1;34m\u001b[0m\n\u001b[1;32m----> 1\u001b[1;33m \u001b[1;32mfrom\u001b[0m \u001b[0mfancyimpute\u001b[0m \u001b[1;32mimport\u001b[0m \u001b[0mKNN\u001b[0m\u001b[1;33m\u001b[0m\u001b[1;33m\u001b[0m\u001b[0m\n\u001b[0m\u001b[0;32m      2\u001b[0m \u001b[1;32mfrom\u001b[0m \u001b[0msklearn\u001b[0m\u001b[1;33m.\u001b[0m\u001b[0mmodel_selection\u001b[0m \u001b[1;32mimport\u001b[0m \u001b[0mStratifiedKFold\u001b[0m\u001b[1;33m\u001b[0m\u001b[1;33m\u001b[0m\u001b[0m\n\u001b[0;32m      3\u001b[0m \u001b[1;33m\u001b[0m\u001b[0m\n\u001b[0;32m      4\u001b[0m \u001b[0mtrain_cl\u001b[0m \u001b[1;33m=\u001b[0m \u001b[0mprepForModel\u001b[0m\u001b[1;33m(\u001b[0m\u001b[0mtrain\u001b[0m\u001b[1;33m)\u001b[0m\u001b[1;33m\u001b[0m\u001b[1;33m\u001b[0m\u001b[0m\n\u001b[0;32m      5\u001b[0m \u001b[1;33m\u001b[0m\u001b[0m\n",
      "\u001b[1;31mModuleNotFoundError\u001b[0m: No module named 'fancyimpute'"
     ]
    }
   ],
   "source": [
    "from fancyimpute import KNN\n",
    "from sklearn.model_selection import StratifiedKFold\n",
    "\n",
    "train_cl = prepForModel(train)\n",
    "\n",
    "Xcol = ['Pclass', 'Sex', 'SibSp', 'Parch', 'Fare', 'Embarked']\n",
    "X = train_cl.loc[:, Xcol + ['Age']]\n",
    "Y = train_cl.loc[:, Ycol]\n",
    "\n",
    "def standardize(s):\n",
    "    return s.sub(s.min()).div((s.max() - s.min()))\n",
    "\n",
    "Xnorm = X.apply(standardize, axis=0)\n",
    "kvals = np.linspace(1, 100, 20, dtype='int64')\n",
    "\n",
    "knn_errs = []\n",
    "for k in kvals:\n",
    "    knn_err = []\n",
    "    Xknn = KNN(k=k, verbose=False).fit_transform(Xnorm)\n",
    "    knn_err = cross_val_score(rf, Xknn, Y, cv=10, n_jobs=-1).mean()\n",
    "\n",
    "    knn_errs.append(knn_err)\n",
    "    print(\"[KNN] Estimation RF sur Test (n = {}, k = {}, 10-fold CV): {}\".format(len(Xknn), k, np.mean(knn_err)))"
   ]
  },
  {
   "cell_type": "code",
   "execution_count": 15,
   "metadata": {
    "colab": {},
    "colab_type": "code",
    "id": "jEewLi06JYGI"
   },
   "outputs": [
    {
     "ename": "NameError",
     "evalue": "name 'kvals' is not defined",
     "output_type": "error",
     "traceback": [
      "\u001b[1;31m---------------------------------------------------------------------------\u001b[0m",
      "\u001b[1;31mNameError\u001b[0m                                 Traceback (most recent call last)",
      "\u001b[1;32m<ipython-input-15-1d9abab86fce>\u001b[0m in \u001b[0;36m<module>\u001b[1;34m\u001b[0m\n\u001b[0;32m      1\u001b[0m \u001b[0msns\u001b[0m\u001b[1;33m.\u001b[0m\u001b[0mset_style\u001b[0m\u001b[1;33m(\u001b[0m\u001b[1;34m\"darkgrid\"\u001b[0m\u001b[1;33m)\u001b[0m\u001b[1;33m\u001b[0m\u001b[1;33m\u001b[0m\u001b[0m\n\u001b[1;32m----> 2\u001b[1;33m \u001b[0m_\u001b[0m \u001b[1;33m=\u001b[0m \u001b[0mplt\u001b[0m\u001b[1;33m.\u001b[0m\u001b[0mplot\u001b[0m\u001b[1;33m(\u001b[0m\u001b[0mkvals\u001b[0m\u001b[1;33m,\u001b[0m \u001b[0mknn_errs\u001b[0m\u001b[1;33m)\u001b[0m\u001b[1;33m\u001b[0m\u001b[1;33m\u001b[0m\u001b[0m\n\u001b[0m\u001b[0;32m      3\u001b[0m \u001b[0m_\u001b[0m \u001b[1;33m=\u001b[0m \u001b[0mplt\u001b[0m\u001b[1;33m.\u001b[0m\u001b[0mxlabel\u001b[0m\u001b[1;33m(\u001b[0m\u001b[1;34m'K'\u001b[0m\u001b[1;33m)\u001b[0m\u001b[1;33m\u001b[0m\u001b[1;33m\u001b[0m\u001b[0m\n\u001b[0;32m      4\u001b[0m \u001b[0m_\u001b[0m \u001b[1;33m=\u001b[0m \u001b[0mplt\u001b[0m\u001b[1;33m.\u001b[0m\u001b[0mylabel\u001b[0m\u001b[1;33m(\u001b[0m\u001b[1;34m'10-fold CV Error Rate'\u001b[0m\u001b[1;33m)\u001b[0m\u001b[1;33m\u001b[0m\u001b[1;33m\u001b[0m\u001b[0m\n\u001b[0;32m      5\u001b[0m \u001b[1;33m\u001b[0m\u001b[0m\n",
      "\u001b[1;31mNameError\u001b[0m: name 'kvals' is not defined"
     ]
    }
   ],
   "source": [
    "sns.set_style(\"darkgrid\")\n",
    "_ = plt.plot(kvals, knn_errs)\n",
    "_ = plt.xlabel('K')\n",
    "_ = plt.ylabel('10-fold CV Error Rate')\n",
    "\n",
    "knn_err = max(knn_errs)\n",
    "k_opt = kvals[knn_errs.index(knn_err)]\n",
    "\n",
    "Xknn = KNN(k=k_opt, verbose=False).fit_transform(Xnorm)\n",
    "Yknn = Y\n",
    "\n",
    "print(\"[BEST KNN] Estimation RF sur Test (n = {}, k = {}, 10-fold CV): {}\".format(len(Xknn), k_opt, np.mean(knn_err)))"
   ]
  },
  {
   "cell_type": "markdown",
   "metadata": {
    "_cell_guid": "b6b05aaf-e846-4225-95c0-e66f807e61ea",
    "_uuid": "c02e770675a39fd1b4c4e3f13639b852f5a24d7d",
    "colab_type": "text",
    "id": "Lwhqq6gBJYGJ"
   },
   "source": [
    "#### En résumé... "
   ]
  },
  {
   "cell_type": "code",
   "execution_count": 16,
   "metadata": {
    "colab": {},
    "colab_type": "code",
    "id": "csxBlx8eJYGK"
   },
   "outputs": [
    {
     "ename": "NameError",
     "evalue": "name 'k_opt' is not defined",
     "output_type": "error",
     "traceback": [
      "\u001b[1;31m---------------------------------------------------------------------------\u001b[0m",
      "\u001b[1;31mNameError\u001b[0m                                 Traceback (most recent call last)",
      "\u001b[1;32m<ipython-input-16-ab12826c2f41>\u001b[0m in \u001b[0;36m<module>\u001b[1;34m\u001b[0m\n\u001b[1;32m----> 1\u001b[1;33m errs = {'BEST KNN (k = {})'.format(k_opt): knn_err,  \n\u001b[0m\u001b[0;32m      2\u001b[0m         \u001b[1;34m'DETERMINISTIC REGRESSION'\u001b[0m\u001b[1;33m:\u001b[0m \u001b[0mreg_err\u001b[0m\u001b[1;33m,\u001b[0m\u001b[1;33m\u001b[0m\u001b[1;33m\u001b[0m\u001b[0m\n\u001b[0;32m      3\u001b[0m         \u001b[1;34m'RANDOM REGRESSION'\u001b[0m\u001b[1;33m:\u001b[0m \u001b[0mrandreg_err\u001b[0m\u001b[1;33m,\u001b[0m\u001b[1;33m\u001b[0m\u001b[1;33m\u001b[0m\u001b[0m\n\u001b[0;32m      4\u001b[0m         \u001b[1;34m'MICE'\u001b[0m\u001b[1;33m:\u001b[0m \u001b[0mmice_err\u001b[0m\u001b[1;33m,\u001b[0m\u001b[1;33m\u001b[0m\u001b[1;33m\u001b[0m\u001b[0m\n\u001b[0;32m      5\u001b[0m         \u001b[1;34m'MEAN'\u001b[0m\u001b[1;33m:\u001b[0m \u001b[0mmean_err\u001b[0m\u001b[1;33m,\u001b[0m\u001b[1;33m\u001b[0m\u001b[1;33m\u001b[0m\u001b[0m\n",
      "\u001b[1;31mNameError\u001b[0m: name 'k_opt' is not defined"
     ]
    }
   ],
   "source": [
    "errs = {'BEST KNN (k = {})'.format(k_opt): knn_err,  \n",
    "        'DETERMINISTIC REGRESSION': reg_err, \n",
    "        'RANDOM REGRESSION': randreg_err,\n",
    "        'MICE': mice_err,\n",
    "        'MEAN': mean_err,\n",
    "        'DELETION': deletion_err, \n",
    "        'BASELINE': baseline_err}\n",
    "\n",
    "err_df = pd.DataFrame.from_dict(errs, orient='index')\n",
    "err_df.index.name = 'Imputation Method'\n",
    "err_df.reset_index(inplace=True)\n",
    "err_df.columns = ['Imputation', ' Estimation sur Test  (10-fold CV)']\n",
    "\n",
    "ax = sns.barplot(x=err_df.columns[1], y=err_df.columns[0], order=list.sort(list(errs.values())), data=err_df)\n",
    "ax.set_xlabel(err_df.columns[1])\n",
    "ax.set_ylabel('')\n",
    "_ = plt.xlim(0.7, 0.8)"
   ]
  },
  {
   "cell_type": "markdown",
   "metadata": {},
   "source": [
    "### Que faut-il tirer de ce graphique ?\n",
    "\n",
    "Que si on complète les données manquantes avec divers modèles on améliore le pouvoir de prédiction ... en ajoutant un biais dans les données :-)"
   ]
  },
  {
   "cell_type": "code",
   "execution_count": null,
   "metadata": {},
   "outputs": [],
   "source": []
  }
 ],
 "metadata": {
  "kernelspec": {
   "display_name": "Python 3",
   "language": "python",
   "name": "python3"
  },
  "language_info": {
   "codemirror_mode": {
    "name": "ipython",
    "version": 3
   },
   "file_extension": ".py",
   "mimetype": "text/x-python",
   "name": "python",
   "nbconvert_exporter": "python",
   "pygments_lexer": "ipython3",
   "version": "3.7.3"
  },
  "varInspector": {
   "cols": {
    "lenName": 16,
    "lenType": 16,
    "lenVar": 40
   },
   "kernels_config": {
    "python": {
     "delete_cmd_postfix": "",
     "delete_cmd_prefix": "del ",
     "library": "var_list.py",
     "varRefreshCmd": "print(var_dic_list())"
    },
    "r": {
     "delete_cmd_postfix": ") ",
     "delete_cmd_prefix": "rm(",
     "library": "var_list.r",
     "varRefreshCmd": "cat(var_dic_list()) "
    }
   },
   "types_to_exclude": [
    "module",
    "function",
    "builtin_function_or_method",
    "instance",
    "_Feature"
   ],
   "window_display": false
  }
 },
 "nbformat": 4,
 "nbformat_minor": 1
}
