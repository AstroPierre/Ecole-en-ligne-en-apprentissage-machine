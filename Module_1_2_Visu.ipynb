{
 "cells": [
  {
   "cell_type": "markdown",
   "metadata": {
    "colab_type": "text",
    "id": "2C4qW2eiJYD8"
   },
   "source": [
    "---\n",
    "# Visualisations en Python\n",
    "---\n",
    "\n",
    "<center><img src=\"./img/mlprocess_2.png\" alt=\"Processus d'apprentissage automatique\" width=\"50%\"/></center>\n",
    "\n",
    "# Exemple 1 : Visualisation de données univariées\n",
    "\n",
    "Dans cet exemple, nous allons utiliser un ensemble de données public pour apprivoiser les différentes manières d'afficher des données en Python en utilisant différentes librairies. Nous allons utiliser la très répandue [`matplotlib`](https://matplotlib.org/), la plus nichée [`seaborn`](https://seaborn.pydata.org/) qui est une surcouche à `matplotlib`, ou encore [`plotnine`](https://plotnine.readthedocs.io/en/stable/), pour ceux qui viennent du monde de R.\n",
    "\n",
    "## Les données : Rétention de client d'une compagnie de télécommunications\n",
    "\n",
    "Mais avant d'arriver aux données, initialisons notre environnement et importons des librairies nécessaires\n"
   ]
  },
  {
   "cell_type": "code",
   "execution_count": null,
   "metadata": {
    "colab": {},
    "colab_type": "code",
    "id": "9zeiAFRdJYD9"
   },
   "outputs": [],
   "source": [
    "import numpy as np\n",
    "import pandas as pd\n",
    "\n",
    "# On s'épargne les avertissements (warnings). \n",
    "# Commentez simplement les deux lignes suivantes si vous souhaitez les voir affichés.\n",
    "import warnings\n",
    "warnings.filterwarnings('ignore')\n",
    "\n",
    "# Matplotlib : la base\n",
    "import matplotlib.pyplot as plt\n",
    "\n",
    "# Seaborn : quelques trucs jolis en plus\n",
    "import seaborn as sns\n",
    "sns.set()\n",
    "\n",
    "# Pour les habitués de R :\n",
    "from plotnine import *\n",
    "\n",
    "# Les données\n",
    "import wget\n",
    "\n",
    "!rm './telecom_churn.csv'\n",
    "wget.download('https://raw.githubusercontent.com/iid-ulaval/EEAA-datasets/master/telecom_churn.csv','./telecom_churn.csv')\n",
    "\n",
    "\n",
    "# Pour du Web mieux vaut utiliser du SVG ... en local on va préférer du PNG\n",
    "%config InlineBackend.figure_format = 'svg'"
   ]
  },
  {
   "cell_type": "markdown",
   "metadata": {
    "colab_type": "text",
    "id": "NoSQXkVnJYD9"
   },
   "source": [
    "Nous allons examiner les données relatives au désabonnement de la clientèle pour un opérateur de télécommunications. Nous allons charger cet ensemble de données dans un `DataFrame`:"
   ]
  },
  {
   "cell_type": "code",
   "execution_count": null,
   "metadata": {
    "colab": {},
    "colab_type": "code",
    "id": "mvSaqqqBJYD-"
   },
   "outputs": [],
   "source": [
    "df = pd.read_csv('telecom_churn.csv')"
   ]
  },
  {
   "cell_type": "markdown",
   "metadata": {
    "colab_type": "text",
    "id": "uhTvJLh_JYEA"
   },
   "source": [
    "Pour se familiariser avec nos données, regardons les 5 premières entrées en utilisant `head()`:"
   ]
  },
  {
   "cell_type": "code",
   "execution_count": null,
   "metadata": {
    "colab": {},
    "colab_type": "code",
    "id": "f5ZbLZJyJYEA"
   },
   "outputs": [],
   "source": [
    "df.head()"
   ]
  },
  {
   "cell_type": "markdown",
   "metadata": {
    "colab_type": "text",
    "id": "RJCiGe9LJYEC"
   },
   "source": [
    "On peut déjà se débarasser de la colonne du numéro de téléphone qui ne donnera pas plus d'information que l'ID unique.\n",
    "\n",
    "Regardons également combien de données manquantes sont dans le dataset (jeu de mots)."
   ]
  },
  {
   "cell_type": "code",
   "execution_count": null,
   "metadata": {
    "colab": {},
    "colab_type": "code",
    "id": "3rDrnelGJYEC"
   },
   "outputs": [],
   "source": [
    "df = df.drop('Phone number',axis=1)\n",
    "df.isna().sum()"
   ]
  },
  {
   "cell_type": "markdown",
   "metadata": {
    "colab_type": "text",
    "id": "RKFYo5uUJYED"
   },
   "source": [
    "Regardons à nouveau quelques données tirées au hasard:"
   ]
  },
  {
   "cell_type": "code",
   "execution_count": null,
   "metadata": {
    "colab": {},
    "colab_type": "code",
    "id": "tWkeLdhXJYEE"
   },
   "outputs": [],
   "source": [
    "df.sample(10)"
   ]
  },
  {
   "cell_type": "markdown",
   "metadata": {
    "colab_type": "text",
    "id": "alKl4GERJYEF"
   },
   "source": [
    "Voici une description des caractéristiques selon le dataset de Kaggle:\n",
    "\n",
    "|  Name  | Description | Value Type | Statistical Type |\n",
    "|---         |---       |---     |---\n",
    "| **State** | State abbreviation (like KS = Kansas) | String | Categorical |\n",
    "| **Account length** | How long the client has been with the company | Numerical | Quantitative |\n",
    "| **Area code** | Phone number prefix | Numerical | Categorical |\n",
    "| **International plan** | International plan (on/off) | String, \"Yes\"/\"No\" | Categorical/Binary |\n",
    "| **Voice mail plan** | Voicemail (on/off) | String, \"Yes\"/\"No\" | Categorical/Binary |\n",
    "| **Number vmail messages** | Number of voicemail messages | Numerical | Quantitative |\n",
    "| **Total day minutes** |  Total duration of daytime calls | Numerical | Quantitative |\n",
    "| **Total day calls** | Total number of daytime calls  | Numerical | Quantitative |\n",
    "| **Total day charge** | Total charge for daytime services | Numerical | Quantitative |\n",
    "| **Total eve minutes** | Total duration of evening calls | Numerical | Quantitative |\n",
    "| **Total eve calls** | Total number of evening calls | Numerical | Quantitative |\n",
    "| **Total eve charge** | Total charge for evening services | Numerical | Quantitative |\n",
    "| **Total night minutes** | Total duration of nighttime calls | Numerical | Quantitative |\n",
    "| **Total night calls** | Total number of nighttime calls | Numerical | Quantitative |\n",
    "| **Total night charge** | Total charge for nighttime services | Numerical | Quantitative |\n",
    "| **Total intl minutes** | Total duration of international calls  | Numerical | Quantitative |\n",
    "| **Total intl calls** | Total number of international calls | Numerical | Quantitative |\n",
    "| **Total intl charge** | Total charge for international calls | Numerical | Quantitative |\n",
    "| **Customer service calls** | Number of calls to customer service | Numerical | Categorical/Ordinal |\n",
    "\n",
    "La dernière colonne de données, **Churn**, représente la variable cible. Elle est binaire: *True* indique que l'entreprise a finalement perdu ce client, et *False* indique que le client a été conservé. Plus tard, nous construirons des modèles prédisant cette finalité en fonction des variables restantes. C'est pourquoi nous l'appelons la *cible*.\n",
    "\n"
   ]
  },
  {
   "cell_type": "markdown",
   "metadata": {
    "colab_type": "text",
    "id": "cAUsGGdYJYEF"
   },
   "source": [
    "## Visualisation univariée\n",
    "\n",
    "L'analyse *univariée* examine une caractéristique à la fois. Lorsque nous analysons une entité de manière indépendante, nous nous intéressons généralement à la *distribution de ses valeurs* et ignorons les autres caractéristiques.\n",
    "\n",
    "Ci-dessous, nous examinerons différents types statistiques d’entités et les outils correspondants pour leur analyse visuelle individuelle.\n",
    "\n",
    "### Caractéristiques quantitatives\n",
    "\n",
    "*Les caractéristiques quantitatives* prennent des valeurs numériques ordonnées. Ces valeurs peuvent être *discrètes*, comme des nombres entiers, ou *continues*, comme des nombres réels, et expriment généralement un compte ou une mesure.\n",
    "\n",
    "#### Histogrammes et diagrammes de densité\n",
    "\n",
    "Le moyen le plus simple d'examiner la distribution d'une variable numérique consiste à tracer son *histogramme* à l'aide de la méthode de `DataFrame` [`hist()`](https://pandas.pydata.org/pandas-docs/stable/generated/pandas.DataFrame.hist.html).\n"
   ]
  },
  {
   "cell_type": "code",
   "execution_count": null,
   "metadata": {
    "colab": {},
    "colab_type": "code",
    "id": "3HTfFLjoJYEF"
   },
   "outputs": [],
   "source": [
    "features = ['Total day minutes', 'Total intl calls']\n",
    "df[features].hist(figsize=(10, 4));"
   ]
  },
  {
   "cell_type": "markdown",
   "metadata": {
    "colab_type": "text",
    "id": "ZrnQ8KOvJYEG"
   },
   "source": [
    "Un histogramme regroupe les valeurs dans *des groupes* de même plage de valeurs. La forme d'un histogramme donne souvent des indices sur le type de distribution sous-jacente: gaussienne, exponentielle, etc. Vous pouvez également repérer toute asymétrie dans sa forme lorsque la distribution est presque régulière, mais présente quelques anomalies. Il est important de connaître la distribution des valeurs des caractéristiques lorsque vous utilisez des méthodes d’apprentissage automatique qui en supposent un type particulier, le plus souvent gaussien.\n",
    "\n",
    "Dans le graphique ci-dessus, nous voyons que la variable *Total des minutes du jour* est normalement distribuée, alors que *Total des appels intl* est nettement en biais à droite (sa queue est plus longue à droite).\n",
    "\n",
    "Il existe également une autre façon, souvent plus claire et visuelle, de saisir une distribution: celle des *diagrammes de densité* ou, plus formellement, des *diagrammes de densité du noyau*. Ils peuvent être considérés comme une version [lissée](https://en.wikipedia.org/wiki/Kernel_smoother) de l'histogramme. Leur principal avantage par rapport à ces derniers est qu’ils ne dépendent pas de la taille des bacs. Créons des diagrammes de densité pour les deux mêmes variables:\n"
   ]
  },
  {
   "cell_type": "code",
   "execution_count": null,
   "metadata": {
    "colab": {},
    "colab_type": "code",
    "id": "_sWYuXw7JYEH"
   },
   "outputs": [],
   "source": [
    "df[features].plot(kind='density', subplots=True, layout=(1, 2), \n",
    "                  sharex=False, figsize=(10, 4));"
   ]
  },
  {
   "cell_type": "markdown",
   "metadata": {
    "colab_type": "text",
    "id": "z1H5uoilJYEI"
   },
   "source": [
    "Il est également possible de tracer une distribution d'observations avec le [`distplot()`](https://seaborn.pydata.org/generated/seaborn.distplot.html) de `seaborn`. Par exemple, regardons la distribution de *Total de minutes par jour*. Par défaut, le tracé affiche à la fois l'histogramme avec l'[estimation de la densité du noyau](https://en.wikipedia.org/wiki/Kernel_density_estimation) (KDE) en haut."
   ]
  },
  {
   "cell_type": "code",
   "execution_count": null,
   "metadata": {
    "colab": {},
    "colab_type": "code",
    "id": "66Bayd0EJYEI"
   },
   "outputs": [],
   "source": [
    "sns.distplot(df['Total intl calls']);"
   ]
  },
  {
   "cell_type": "markdown",
   "metadata": {
    "colab_type": "text",
    "id": "C3pLyPWjJYEK"
   },
   "source": [
    "Pour les habitués de _R_, `plotnine` propose la fonction _ggplot_ quasiment identique à celle disponible dans ce langage. Par exemple, pour refaire la même figure que le [`distplot()`](https://seaborn.pydata.org/generated/seaborn.distplot.html) de `seaborn`, en voici le code, grâce à [`geom_histogram()`](https://plotnine.readthedocs.io/en/stable/generated/plotnine.geoms.geom_histogram.html) et [`geom_density()`](https://plotnine.readthedocs.io/en/stable/generated/plotnine.geoms.geom_density.html):"
   ]
  },
  {
   "cell_type": "code",
   "execution_count": null,
   "metadata": {
    "colab": {},
    "colab_type": "code",
    "id": "32L1UTJdJYEK"
   },
   "outputs": [],
   "source": [
    "(\n",
    "ggplot(df) # data\n",
    "+ aes('Total intl calls') # column\n",
    "+ geom_density() # Kernel Density Estimation\n",
    "+ geom_histogram(aes(y='stat(density)'),alpha=.5, fill='cornflowerblue') # Histogram ... duh.\n",
    "+ theme_matplotlib() # to keep original style\n",
    ")"
   ]
  },
  {
   "cell_type": "markdown",
   "metadata": {
    "colab_type": "text",
    "id": "XXz7uVbwJYEM"
   },
   "source": [
    "La hauteur des barres de l'histogramme ici est normée et indique la densité plutôt que le nombre d'exemples dans chaque casier.\n",
    "\n",
    "#### Box plot\n",
    "\n",
    "Un autre type de visualisation utile est le *box plot*. `seaborn` fait du bon travail ici:"
   ]
  },
  {
   "cell_type": "code",
   "execution_count": null,
   "metadata": {
    "colab": {},
    "colab_type": "code",
    "id": "-6QmR83dJYEM"
   },
   "outputs": [],
   "source": [
    "sns.boxplot(y='Total intl calls', data=df);"
   ]
  },
  {
   "cell_type": "markdown",
   "metadata": {
    "colab_type": "text",
    "id": "QkiItZxsJYEN"
   },
   "source": [
    "Et l'équivalent `plotnine.geoms.`[`geom_box_plot()`](https://plotnine.readthedocs.io/en/stable/generated/plotnine.geoms.geom_boxplot.html): "
   ]
  },
  {
   "cell_type": "code",
   "execution_count": null,
   "metadata": {
    "colab": {},
    "colab_type": "code",
    "id": "05CUJvNkJYEO"
   },
   "outputs": [],
   "source": [
    "(\n",
    "ggplot(df,aes(x=0,y='Total intl calls')) # data\n",
    "+ geom_boxplot()\n",
    "+ theme_matplotlib() # to keep original style\n",
    ")"
   ]
  },
  {
   "cell_type": "markdown",
   "metadata": {
    "colab_type": "text",
    "id": "K71cnJaLJYEQ"
   },
   "source": [
    "Voyons comment interpréter une boîte à moustaches. Ses composants sont une *boîte*, les *moustaches* au dessus et en dessous et un certain nombre de points individuels (*points aberrants*) au-delà de celles-ci.\n",
    "\n",
    "Le cadre à lui seul illustre la dispersion interquartile de la distribution; sa longueur est déterminée par les centiles $25\\% \\, (\\text{Q1})$ and $75\\% \\, (\\text{Q3})$. La ligne verticale à l'intérieur de la case marque la médiane ($50\\%$) de la distribution.\n",
    "\n",
    "Les moustaches sont les lignes qui sortent de la boîte. Elles représentent la dispersion des données, en particulier les points compris dans l'intervalle $(\\text{Q1} - 1.5 \\cdot \\text{IQR}, \\text{Q3} + 1.5 \\cdot \\text{IQR})$, où $\\text{IQR} = \\text{Q3} - \\text{Q1}$ est la [plage interquartile](https://en.wikipedia.org/wiki/Interquartile_range).\n",
    "\n",
    "Les valeurs aberrantes, affichées au-delà des moustaches, sont tracées individuellement sous forme de points noirs le long de l'axe central.\n",
    "\n",
    "Nous pouvons voir qu'un grand nombre d'appels internationaux est assez rare dans nos données.\n",
    "\n",
    "#### Diagramme en violon\n",
    "\n",
    "Un dernier type de tracé de distribution que nous allons considérer est le *tracé en violon*.\n",
    "\n",
    "Regardez les chiffres ci-dessous. Sur la gauche, nous voyons la boîte à moustaches déjà familière. À droite, un *tracé en violon* avec l'estimation de la densité du noyau des deux côtés.\n"
   ]
  },
  {
   "cell_type": "code",
   "execution_count": null,
   "metadata": {
    "colab": {},
    "colab_type": "code",
    "id": "DyUFgp8nJYEQ"
   },
   "outputs": [],
   "source": [
    "_, axes = plt.subplots(1, 2, sharey=True, figsize=(6, 4))\n",
    "sns.boxplot(data=df['Total intl calls'], ax=axes[0]);\n",
    "sns.violinplot(data=df['Total intl calls'], ax=axes[1]);"
   ]
  },
  {
   "cell_type": "markdown",
   "metadata": {
    "colab_type": "text",
    "id": "GuP4q4aIJYES"
   },
   "source": [
    "Et l'équivalent `plotnine` : "
   ]
  },
  {
   "cell_type": "code",
   "execution_count": null,
   "metadata": {
    "colab": {},
    "colab_type": "code",
    "id": "7eKkWclOJYES"
   },
   "outputs": [],
   "source": [
    "( # subplots ne marchent pas encore dans plotnine\n",
    "ggplot(df) # data\n",
    "+ geom_violin(aes(x=1,y='Total intl calls'), alpha=.9)\n",
    "+ geom_boxplot(aes(x=0,y='Total intl calls'), alpha=.5)\n",
    "+ theme_matplotlib() # to keep original style\n",
    ")"
   ]
  },
  {
   "cell_type": "markdown",
   "metadata": {
    "colab_type": "text",
    "id": "plRSrP02JYET"
   },
   "source": [
    "La différence entre un diagramme de boîte et un en violon est que le premier illustre certaines statistiques concernant des exemples individuels dans un jeu de données, alors que le second se concentre davantage sur la distribution lissée dans son ensemble.\n",
    "\n",
    "Dans notre cas, le tracé en violon ne fournit aucune information supplémentaire sur les données, car tout est clair à partir du tracé de boîte.\n",
    "\n",
    "#### describe()\n",
    "\n",
    "En plus des outils graphiques, pour obtenir les statistiques numériques exactes de la distribution, nous pouvons utiliser la méthode [`describe()`](https://pandas.pydata.org/pandas-docs/stable/generated/pandas.DataFrame.describe.html) d’un `DataFrame`:\n"
   ]
  },
  {
   "cell_type": "code",
   "execution_count": null,
   "metadata": {
    "colab": {},
    "colab_type": "code",
    "id": "s8IEIlcEJYET"
   },
   "outputs": [],
   "source": [
    "df[features].describe()"
   ]
  },
  {
   "cell_type": "markdown",
   "metadata": {
    "colab_type": "text",
    "id": "nDLVvx6vJYEV"
   },
   "source": [
    "Sa sortie est la plupart du temps explicite. *25%*, *50%* et *75%* sont les [centiles](https://en.wikipedia.org/wiki/Percentile) correspondants."
   ]
  },
  {
   "cell_type": "markdown",
   "metadata": {
    "colab_type": "text",
    "id": "Prd2SRoOJYEV"
   },
   "source": [
    "### Caractéristiques catégorielles et binaires <a id=\"222\" />\n",
    "\n",
    "*Les caractéristiques catégorielles* prennent un nombre fixe de valeurs. Chacune de ces valeurs attribue une observation à un groupe correspondant, appelé *catégorie*, qui reflète une propriété qualitative de cet exemple. Les variables *binaires* constituent un cas particulier important de variables catégorielles lorsque le nombre de valeurs possibles est de 2. Si les valeurs d'une variable catégorielle sont ordonnées, on l'appelle *ordinale*.\n",
    "\n",
    "#### Table de fréquences\n",
    "\n",
    "Voyons l’équilibre des classes dans notre jeu de données en regardant la distribution de la variable cible: le *taux de désabonnement*. Tout d’abord, nous obtiendrons un tableau de fréquences indiquant la fréquence de chaque valeur de la variable catégorielle. Pour cela, nous allons utiliser la méthode [`value_counts()`](https://pandas.pydata.org/pandas-docs/stable/generated/pandas.Series.value_counts.html):\n"
   ]
  },
  {
   "cell_type": "code",
   "execution_count": null,
   "metadata": {
    "colab": {},
    "colab_type": "code",
    "id": "ORFVvbzwJYEV"
   },
   "outputs": [],
   "source": [
    "df['Churn'].value_counts()"
   ]
  },
  {
   "cell_type": "markdown",
   "metadata": {
    "colab_type": "text",
    "id": "e_ZLSnyHJYEW"
   },
   "source": [
    "Par défaut, les entrées de la sortie sont triées des valeurs les plus fréquentes aux moins fréquentes.\n",
    "\n",
    "Dans notre cas, les données ne sont pas *équilibrées*; c'est-à-dire que nos deux classes cibles, les clients fidèles et déloyaux, ne sont pas représentées de manière égale dans le jeu de données. Seule une petite partie des clients a annulé son abonnement au service de télécommunication. Ce fait peut impliquer certaines restrictions quant à la mesure de la performance de la classification et, à l'avenir, nous voudrons peut-être également pénaliser davantage les erreurs de modèle que nous utiliserons pour prédire la classe minoritaire de \"Churn\"."
   ]
  },
  {
   "cell_type": "markdown",
   "metadata": {
    "colab_type": "text",
    "id": "x0L3TADcJYEX"
   },
   "source": [
    "#### Diagramme en bâtons\n",
    "\n",
    "Le Diagramme en bâtons est une représentation graphique de la table de fréquences. Le moyen le plus simple de le créer consiste à utiliser la fonction [`countplot()`](https://seaborn.pydata.org/generated/seaborn.countplot.html) de `Seaborn` . Il existe une autre fonction dans `seaborn` qui s'appelle quelque peu déroutant [`barplot()`](https://seaborn.pydata.org/generated/seaborn.barplot.html) et qui est principalement utilisée pour la représentation de certaines statistiques de base de une variable numérique regroupée par une caractéristique catégorielle.\n",
    "\n",
    "Traçons les distributions de deux variables qualitatives:"
   ]
  },
  {
   "cell_type": "code",
   "execution_count": null,
   "metadata": {
    "colab": {},
    "colab_type": "code",
    "id": "qLRj3x5iJYEX"
   },
   "outputs": [],
   "source": [
    "_, axes = plt.subplots(nrows=1, ncols=2, figsize=(12, 4))\n",
    "\n",
    "sns.countplot(x='Churn', data=df, ax=axes[0]);\n",
    "sns.countplot(x='Customer service calls', data=df, ax=axes[1]);"
   ]
  },
  {
   "cell_type": "markdown",
   "metadata": {
    "colab_type": "text",
    "id": "N04M5ZzaJYEY"
   },
   "source": [
    "Bien que les histogrammes, décrits ci-dessus, et les diagrammes en bâtons puissent sembler similaires, il existe plusieurs différences entre eux:\n",
    "1. Les *histogrammes* conviennent le mieux pour examiner la distribution des variables numériques, tandis que les *diagrammes en bâtons* sont utilisés pour les caractéristiques catégorielles.\n",
    "2. Les valeurs sur l'axe des X dans *l'histogramme* sont numériques; un *diagramme en bâtons* peut avoir n'importe quel type de valeur sur l'axe des X: nombres, chaînes, booléens.\n",
    "3. L'axe X de *l'histogramme* est un *axe de coordonnées cartésiennes* le long duquel les valeurs ne peuvent pas être modifiées; l'ordre des *bâtons* n'est pas prédéfini. Néanmoins, il est utile de noter que les bâtons sont souvent triés par hauteur, c'est-à-dire par la fréquence des valeurs. De plus, lorsque nous considérons des variables *ordinales* (comme *appels de service client* dans nos données), les barres sont généralement classées par valeur de variable.\n",
    "\n",
    "Le graphique de gauche ci-dessus illustre clairement le déséquilibre de notre variable cible. Le diagramme en bâtons pour les *appels de service clientèle* à droite indique que la majorité des clients résolvent leurs problèmes en 2 à 3 appels maximum. Mais, comme nous voulons pouvoir prédire la classe minoritaire, nous pourrions être plus intéressés par le comportement de moins de clients insatisfaits. Il se peut bien que la queue de ce graphique en barres contienne la plus grande partie de notre taux de désabonnement. Ce ne sont que des hypothèses pour le moment. Passons donc à des techniques visuelles plus intéressantes et plus puissantes.\n",
    "\n",
    "Note : Il n'est pas (encore?) possible de faire des `subplots` en `ggplot`.\n"
   ]
  },
  {
   "cell_type": "code",
   "execution_count": null,
   "metadata": {
    "colab": {},
    "colab_type": "code",
    "id": "cvbAtkbHJYEY"
   },
   "outputs": [],
   "source": [
    "(\n",
    "ggplot(df)\n",
    "+geom_bar(aes(x='Churn'))\n",
    "# Subplots n'existent pas en GGPLOT\n",
    "#+geom_bar(aes(x='Customer service calls'))\n",
    "+ theme_matplotlib() # to keep original style\n",
    ")"
   ]
  },
  {
   "cell_type": "markdown",
   "metadata": {
    "colab_type": "text",
    "id": "QYbebLgDJYEe"
   },
   "source": [
    "## Visualisation multivariée\n",
    "\n",
    "Les graphiques *multivariés* nous permettent de voir les relations entre deux variables différentes ou plus, le tout dans une seule figure. Tout comme dans le cas des graphiques univariés, le type spécifique de visualisation dépend des types de variables analysées.\n",
    "\n",
    "### Quantitative – Quantitative\n",
    "\n",
    "#### Matrice de corrélation\n",
    "\n",
    "Examinons les corrélations entre les variables numériques de notre ensemble de données. Il est important de connaître ces informations, car il existe des algorithmes d'apprentissage automatique (par exemple, la régression linéaire et logistique) qui ne gèrent pas correctement les variables d'entrée hautement corrélées.\n",
    "\n",
    "Premièrement, nous allons utiliser la méthode [`corr()`](https://pandas.pydata.org/pandas-docs/stable/generated/pandas.DataFrame.corr.html) sur un `DataFrame` qui calcule la corrélation entre chaque paire de caractéristiques. Ensuite, nous passons la *matrice de corrélation* résultante à [`heatmap()`](https://seaborn.pydata.org/generated/seaborn.heatmap.html) de `seaborn`, qui affiche une matrice de couleur pour les valeurs fournies:\n"
   ]
  },
  {
   "cell_type": "code",
   "execution_count": null,
   "metadata": {
    "colab": {},
    "colab_type": "code",
    "id": "FnjUVN6cJYEe"
   },
   "outputs": [],
   "source": [
    "# On ne prend que les variables numériques\n",
    "numerical = list(set(df.columns) - \n",
    "                 set(['State', 'International plan', 'Voice mail plan', \n",
    "                      'Area code', 'Churn', 'Customer service calls']))\n",
    "\n",
    "# Voyez l'effet de la commande suivante et expliquez-la : \n",
    "# numerical.sort()\n",
    "\n",
    "# Calcul et affichage\n",
    "corr_matrix = df[numerical].corr()\n",
    "sns.heatmap(corr_matrix)"
   ]
  },
  {
   "cell_type": "markdown",
   "metadata": {
    "colab_type": "text",
    "id": "FAGDojaBJYEf"
   },
   "source": [
    "À partir de la matrice de corrélation colorée générée ci-dessus, nous pouvons voir qu'il existe 4 variables telles que *Total day charge* qui ont été calculées directement à partir du nombre de minutes passées en appels téléphoniques (*Total day minutes*). Celles-ci sont appelées variables *dépendantes* et peuvent donc être omises puisqu'elles ne fournissent aucune information supplémentaire. Débarrassons-nous d'elles:"
   ]
  },
  {
   "cell_type": "code",
   "execution_count": null,
   "metadata": {
    "colab": {},
    "colab_type": "code",
    "id": "Gh7W1jVoJYEf"
   },
   "outputs": [],
   "source": [
    "numerical = list(set(numerical) - \n",
    "                 set(['Total day charge', 'Total eve charge', 'Total night charge', 'Total intl charge']))"
   ]
  },
  {
   "cell_type": "markdown",
   "metadata": {
    "colab_type": "text",
    "id": "5FxwFMiCJYEg"
   },
   "source": [
    "#### Nuages de points ou diagramme de dispersion\n",
    "\n",
    "Le *nuage de points* affiche les valeurs de deux variables numériques sous forme de *coordonnées cartésiennes* dans un espace 2D. Les nuages de points en 3D sont également possibles.\n",
    "\n",
    "Essayons la fonction [`scatter ()`](https://matplotlib.org/devdocs/api/_as_gen/matplotlib.pyplot.scatter.html) de la bibliothèque `matplotlib`:"
   ]
  },
  {
   "cell_type": "code",
   "execution_count": null,
   "metadata": {
    "colab": {},
    "colab_type": "code",
    "id": "e81p6wYvJYEh"
   },
   "outputs": [],
   "source": [
    "plt.scatter(df['Total day minutes'], df['Total night minutes'], alpha=.5);"
   ]
  },
  {
   "cell_type": "code",
   "execution_count": null,
   "metadata": {
    "colab": {},
    "colab_type": "code",
    "id": "WwPjSOj5JYEh"
   },
   "outputs": [],
   "source": [
    "(\n",
    "ggplot(df,aes(x='Total day minutes', y='Total night minutes'))\n",
    "+ geom_point(alpha=.5)\n",
    "+ theme_matplotlib()\n",
    ")"
   ]
  },
  {
   "cell_type": "markdown",
   "metadata": {
    "colab_type": "text",
    "id": "17a7GQgxJYEi"
   },
   "source": [
    "Nous obtenons une image sans intérêt de deux variables normalement distribuées. De plus, il semble que ces caractéristiques ne soient pas corrélées, car la forme en forme d'ellipse est alignée sur les axes.\n",
    "\n",
    "Il existe une option un peu plus sophistiquée pour créer un nuage de points avec la bibliothèque `seaborn`:"
   ]
  },
  {
   "cell_type": "code",
   "execution_count": null,
   "metadata": {
    "colab": {},
    "colab_type": "code",
    "id": "OOJtSmjHJYEj"
   },
   "outputs": [],
   "source": [
    "sns.jointplot(x='Total day minutes', y='Total night minutes', alpha=.5,\n",
    "              data=df, kind='scatter');"
   ]
  },
  {
   "cell_type": "markdown",
   "metadata": {
    "colab_type": "text",
    "id": "52WsefMXJYEk"
   },
   "source": [
    "La fonction [`jointplot()`](https://seaborn.pydata.org/generated/seaborn.jointplot.html) trace deux histogrammes qui peuvent être utiles dans certains cas.\n",
    "\n",
    "En utilisant la même fonction, nous pouvons également obtenir une version lissée de notre distribution bivariée:"
   ]
  },
  {
   "cell_type": "code",
   "execution_count": null,
   "metadata": {
    "colab": {},
    "colab_type": "code",
    "id": "mB4CGQr_JYEk"
   },
   "outputs": [],
   "source": [
    "sns.jointplot('Total day minutes', 'Total night minutes', data=df,\n",
    "              kind=\"kde\");"
   ]
  },
  {
   "cell_type": "markdown",
   "metadata": {
    "colab_type": "text",
    "id": "uaqt805wJYEl"
   },
   "source": [
    "Il s’agit essentiellement d’une version bivariée du *tracé de densité du noyau* (KDE) discuté précédemment.\n",
    "\n",
    "#### Matrice de diagramme de dispersion\n",
    "\n",
    "Dans certains cas, il peut être utile de tracer une *matrice de nuages de points* telle que celle présentée ci-dessous. Sa diagonale contient les distributions des variables correspondantes et les diagrammes de dispersion de chaque paire de variables remplissent le reste de la matrice."
   ]
  },
  {
   "cell_type": "code",
   "execution_count": null,
   "metadata": {
    "colab": {},
    "colab_type": "code",
    "id": "lAy5Z6tzJYEm"
   },
   "outputs": [],
   "source": [
    "# Attention, ca peut être très long ...\n",
    "sns.pairplot(df[numerical])"
   ]
  },
  {
   "cell_type": "markdown",
   "metadata": {
    "colab_type": "text",
    "id": "JY2kKD-0JYEn"
   },
   "source": [
    "Parfois, une telle visualisation peut aider à tirer des conclusions sur les données; mais, dans ce cas-ci, tout est assez clair sans surprises.\n",
    "\n",
    "### Quantitative – Catégorielle\n",
    "\n",
    "Dans cette section, nous allons rendre nos diagrammes quantitatifs un peu plus excitants. Nous tenterons d’obtenir de nouvelles informations sur la prévision du désabonnement grâce aux interactions entre les caractéristiques numériques et catégorielles.\n",
    "\n",
    "Plus spécifiquement, voyons comment les variables d’entrée sont liées à la variable cible **Churn**.\n",
    "\n",
    "Nous avons vu précédemment les nuages de points. Ceux ci peuvent être codés en couleur ou en taille afin de représenter une troisième variable catégorielle sur la même figure. Nous pouvons y parvenir avec la fonction `scatter()` vue ci-dessus, mais essayons une nouvelle fonction appelée \n",
    "[`lmplot()`](https://seaborn.pydata.org/generated/seaborn.lmplot.html) et utilisons le paramètre de teinte (`hue`) pour indiquer la variable cible **Churn**.\n"
   ]
  },
  {
   "cell_type": "code",
   "execution_count": null,
   "metadata": {
    "colab": {},
    "colab_type": "code",
    "id": "eyFMh82XJYEn"
   },
   "outputs": [],
   "source": [
    "sns.lmplot('Total day minutes', 'Total night minutes', data=df, hue='Churn', fit_reg=False);"
   ]
  },
  {
   "cell_type": "code",
   "execution_count": null,
   "metadata": {
    "colab": {},
    "colab_type": "code",
    "id": "XUvg8cqVJYEz"
   },
   "outputs": [],
   "source": [
    "(\n",
    "ggplot(df, aes(x='Total day minutes', y='Total night minutes',color='Churn'))\n",
    "+ geom_point()\n",
    "+ theme_matplotlib()\n",
    ")"
   ]
  },
  {
   "cell_type": "markdown",
   "metadata": {
    "colab_type": "text",
    "id": "goT3SZiKJYE0"
   },
   "source": [
    "Il semble que notre faible proportion de clients déloyaux se penche un peu vers le coin supérieur droit; c'est-à-dire que ces clients ont tendance à passer plus de temps au téléphone, jour et nuit. Mais cela n’est pas absolument clair et nous ne tirerons aucune conclusion définitive de ce graphique.\n",
    "\n",
    "Créons maintenant des diagrammes en blocs pour visualiser les statistiques de distribution des variables numériques dans deux groupes disjoints: les clients fidèles (`Churn = False`) et ceux qui sont partis (`Churn = True`)."
   ]
  },
  {
   "cell_type": "code",
   "execution_count": null,
   "metadata": {
    "colab": {},
    "colab_type": "code",
    "id": "XQ2Nb7NNJYE1"
   },
   "outputs": [],
   "source": [
    "# Parfois, vous pouvez analyser une variable ordinale comme une numérique\n",
    "numerical.append('Customer service calls')\n",
    "\n",
    "fig, axes = plt.subplots(nrows=3, ncols=4, figsize=(10, 7))\n",
    "for idx, feat in enumerate(numerical):\n",
    "    ax = axes[int(idx / 4), idx % 4]\n",
    "    sns.boxplot(x='Churn', y=feat, data=df, ax=ax)\n",
    "    ax.set_xlabel('')\n",
    "    ax.set_ylabel(feat)\n",
    "fig.tight_layout();"
   ]
  },
  {
   "cell_type": "markdown",
   "metadata": {
    "colab_type": "text",
    "id": "jsTuvGXPJYE2"
   },
   "source": [
    "Sur ce graphique, nous pouvons voir que la plus grande divergence dans la distribution entre les deux groupes concerne trois variables: *Total day minutes*, *Customer service calls* et *Number vmail messages*. Nous avons déjà vu comment déterminer l’importance des caractéristiques dans la classification en utilisant les méthodes *Random Forest* ou *Gradient Boosting*; si vous essayez de les utiliser sur ce dataset, vous verrez que les deux premières caractéristiques sont en effet très importantes pour la prévision du taux de désabonnement.\n",
    "\n",
    "Examinons séparément la distribution des minutes journalières parlées pour les clients fidèles et déloyaux. Nous allons créer des tracés de boîte et en violon pour le *Total day minutes* regroupées selon la variable cible.\n"
   ]
  },
  {
   "cell_type": "code",
   "execution_count": null,
   "metadata": {
    "colab": {},
    "colab_type": "code",
    "id": "Jbp2l6VNJYE2"
   },
   "outputs": [],
   "source": [
    "_, axes = plt.subplots(1, 2, sharey=True, figsize=(10, 4))\n",
    "\n",
    "sns.boxplot(x='Churn', y='Total day minutes', data=df, ax=axes[0]);\n",
    "sns.violinplot(x='Churn', y='Total day minutes', data=df, ax=axes[1]);"
   ]
  },
  {
   "cell_type": "markdown",
   "metadata": {
    "colab_type": "text",
    "id": "HXasPj6iJYE3"
   },
   "source": [
    "Dans ce cas, la comparaison entre les violons ne fournit aucune information supplémentaire à propos de nos données, car tout est déjà clair avec les boîtes : les clients déloyaux ont tendance à parler davantage au téléphone.\n",
    "\n",
    "**Observation intéressante** : en moyenne, les clients qui résilient leurs contrats sont parmi les plus grands utilisateurs de services de communication. Peut-être ne sont-ils pas satisfaits des tarifs, alors une mesure possible pour éviter le roulement pourrait être une réduction des tarifs d’appel. La société devra entreprendre une analyse économique supplémentaire pour déterminer si une telle mesure serait réellement bénéfique.\n",
    "\n",
    "Lorsque nous voulons analyser une variable quantitative à la fois en deux dimensions catégoriques, il existe une fonction appropriée dans la bibliothèque `seaborn` appelée [`catplot()`](https://seaborn.pydata.org/generated/seaborn.factorplot.html). Par exemple, visualisons l'interaction entre *Total day minutes* et deux variables qualitatives dans le même graphique:\n"
   ]
  },
  {
   "cell_type": "code",
   "execution_count": null,
   "metadata": {
    "colab": {},
    "colab_type": "code",
    "id": "dYnWgJ56JYE3"
   },
   "outputs": [],
   "source": [
    "sns.catplot(x='Churn', y='Total day minutes', col='Customer service calls',\n",
    "               data=df[df['Customer service calls'] < 8], kind=\"box\",\n",
    "               col_wrap=4, height=3, aspect=.8);"
   ]
  },
  {
   "cell_type": "markdown",
   "metadata": {
    "colab_type": "text",
    "id": "VfGbLXxuJYE4"
   },
   "source": [
    "On peut en conclure qu'à partir de 4 appels, le *Total day minutes* peut ne plus être le principal facteur de désabonnement des clients. En plus de nos hypothèses précédentes sur les tarifs, il se peut que certains clients ne soient pas satisfaits du service en raison d'autres problèmes, ce qui pourrait réduire le nombre de minutes d'appels par jour.\n",
    "\n",
    "### Categorielle – Categorielle <a id=\"233\"/>\n",
    "\n",
    "Comme nous l'avons vu précédemment dans cet article, la variable *Customer service calls* a peu de valeurs uniques et peut donc être considérée comme numérique ou ordinale. Nous avons déjà vu sa distribution avec un *countplot*. Nous nous intéressons maintenant à la relation entre cette entité ordinale et la variable cible *Churn*.\n",
    "\n",
    "Regardons la distribution du nombre d'appels au service clientèle, en utilisant à nouveau un *countplot*. Cette fois, passons également le paramètre `hue = Churn` qui ajoute une dimension catégorique au tracé :\n"
   ]
  },
  {
   "cell_type": "code",
   "execution_count": null,
   "metadata": {
    "colab": {},
    "colab_type": "code",
    "id": "aQpRzWr7JYE4"
   },
   "outputs": [],
   "source": [
    "sns.countplot(x='Customer service calls', hue='Churn', data=df);"
   ]
  },
  {
   "cell_type": "markdown",
   "metadata": {
    "colab_type": "text",
    "id": "SYkUROIGJYE6"
   },
   "source": [
    "**Une observation** : le taux de désabonnement augmente significativement après 4 appels ou plus au service clientèle.\n",
    "\n",
    "Maintenant, regardons la relation entre *Churn* et les fonctionnalités binaires, *International plan* et *Voice mail plan*."
   ]
  },
  {
   "cell_type": "code",
   "execution_count": null,
   "metadata": {
    "colab": {},
    "colab_type": "code",
    "id": "Fezxl7n9JYE6"
   },
   "outputs": [],
   "source": [
    "_, axes = plt.subplots(1, 2, sharey=True, figsize=(10, 4))\n",
    "\n",
    "sns.countplot(x='International plan', hue='Churn', data=df, ax=axes[0]);\n",
    "sns.countplot(x='Voice mail plan', hue='Churn', data=df, ax=axes[1]);"
   ]
  },
  {
   "cell_type": "markdown",
   "metadata": {
    "colab_type": "text",
    "id": "JPJcCE0xJYE9"
   },
   "source": [
    "**Une observation** : lorsque *International plan* est activé, le taux de désabonnement est beaucoup plus élevé; l'utilisation du plan international par le client est un atout majeur. Nous n'observons pas le même effet avec *Voice mail plan*.\n",
    "\n",
    "#### Tableau de contingence\n",
    "\n",
    "Outre l’utilisation de moyens graphiques pour l’analyse catégorique, il existe un outil traditionnel en statistiques: le *tableau de contingence*, également appelé *tableau croisé*. Il représente la distribution de fréquence multivariée des variables catégorielles sous forme de tableau. En particulier, cela nous permet de voir la distribution d'une variable conditionnellement à l'autre en regardant le long d'une colonne ou d'une ligne.\n",
    "\n",
    "Essayons de voir comment *Churn* est lié à la variable catégorique *State* en créant une tabulation croisée:\n"
   ]
  },
  {
   "cell_type": "code",
   "execution_count": null,
   "metadata": {
    "colab": {},
    "colab_type": "code",
    "id": "bWPVRLEuJYE-"
   },
   "outputs": [],
   "source": [
    "pd.crosstab(df['State'], df['Churn']).T"
   ]
  },
  {
   "cell_type": "markdown",
   "metadata": {
    "colab_type": "text",
    "id": "8lZztszLJYE_"
   },
   "source": [
    "Dans le cas de *State*, le nombre de valeurs distinctes est plutôt élevé: 51. Nous constatons qu'il n'y a que quelques points de données disponibles pour chaque état - seuls 3 à 17 clients dans chaque état ont abandonné l'opérateur. Ignorons cela un instant et calculons le taux de désabonnement pour chaque état en le triant de haut en bas:"
   ]
  },
  {
   "cell_type": "code",
   "execution_count": null,
   "metadata": {
    "colab": {},
    "colab_type": "code",
    "id": "bt5dyqt4JYFA"
   },
   "outputs": [],
   "source": [
    "df.groupby(['State'])['Churn'].agg([np.mean]).sort_values(by='mean', ascending=False).T"
   ]
  },
  {
   "cell_type": "markdown",
   "metadata": {
    "colab_type": "text",
    "id": "eHV4iJMfJYFA"
   },
   "source": [
    "À première vue, il semble que le taux de désabonnement dépasse 25% dans le *New Jersey* et la *Californie* et soit inférieur à 6% à Hawaii et en Alaska. Cependant, ces conclusions reposent sur trop peu d'exemples et notre observation pourrait n'être qu'une simple propriété de notre ensemble de données particulier (une fluctuation statistique). Nous pouvons le confirmer avec la mesure de [Matthews](https://en.wikipedia.org/wiki/Matthews_correlation_coefficient), mais cela sortirait du cadre de ce cours."
   ]
  },
  {
   "cell_type": "markdown",
   "metadata": {
    "colab_type": "text",
    "id": "puy8ROYnJYFB"
   },
   "source": [
    "## Exercice sur le dataset complet"
   ]
  },
  {
   "cell_type": "markdown",
   "metadata": {
    "colab_type": "text",
    "id": "SVw1jYd1JYFB"
   },
   "source": [
    "### Approche naïve <a id=\"241\"/>\n",
    "\n",
    "Nous avons examiné différentes *facettes* de notre jeu de données en devinant les caractéristiques intéressantes et en sélectionnant un petit nombre à la fois pour la visualisation. Nous n’avons traité que deux ou trois variables à la fois et avons facilement pu observer la structure et les relations entre les données. Mais que se passe-t-il si nous voulons afficher toutes les fonctionnalités tout en pouvant interpréter la visualisation résultante?\n",
    "\n",
    "Nous pourrions utiliser `hist()` ou créer une matrice de nuages de points avec `pairplot()` pour l'ensemble du jeu de données afin d'examiner simultanément toutes nos entités. Toutefois, lorsque le nombre de caractéristiques est important, ce type d'analyse visuelle devient rapidement lent et inefficace. En outre, nous analyserions toujours nos variables par paires, pas toutes en même temps.\n"
   ]
  },
  {
   "cell_type": "markdown",
   "metadata": {
    "colab_type": "text",
    "id": "EzgQcjVbJYFC"
   },
   "source": [
    "### Réduction de la dimensionnalité\n",
    "\n",
    "La plupart des jeux de données du monde réel comportent de nombreuses caractéristiques, parfois plusieurs milliers. Chacune d'elle peut être considérée comme une dimension dans l'espace des points de données. Par conséquent, la plupart du temps, nous traitons avec des jeux de données de grande dimension, où la visualisation entière est impossible.\n",
    "\n",
    "Pour examiner un jeu de données dans son ensemble, nous devons réduire le nombre de dimensions utilisées dans la visualisation sans perdre trop d'informations sur les données. Cette tâche s'appelle la *réduction de dimensionnalité* (cf. [Module 0](./Module_0_Coll_Prep.ipynb)) et constitue un exemple de problème *d'apprentissage non supervisé*, car nous devons dériver de nouvelles caractéristiques de faible dimension à partir des données elles-mêmes, sans aucune entrée supervisée.\n",
    "\n",
    "Une méthode de réduction de dimensionnalité bien connue est *l'analyse en composantes principales* (PCA). Étant un algorithme *linéaire* impliquant certaines restrictions sur les données, ses performances sont toutefois limitées.\n",
    "\n",
    "Il existe également de nombreuses méthodes non linéaires, appelées collectivement *Manifold Learning*. L'une des plus connues est *t-SNE*. Nous en avons vu plusieurs dans le [module 0](./Module_0_Coll_Prep.ipynb).\n"
   ]
  },
  {
   "cell_type": "markdown",
   "metadata": {
    "colab_type": "text",
    "id": "_qvP3HZ2JYFC"
   },
   "source": [
    "### t-SNE\n",
    "\n",
    "Créons une représentation [t-SNE](https://en.wikipedia.org/wiki/T-distributed_stochastic_neighbor_embedding) des données précédentes de désabonnement.\n",
    "\n",
    "Le nom de la méthode semble complexe et un peu intimidant: *Incorporation de voisins stochastiques t-distribués*. Ses calculs sont également impressionnants (nous ne nous en plongerons pas ici, mais si vous vous sentez courageux, voici l'[article original](http://www.jmlr.org/papers/volume9/vandermaaten08a/vandermaaten08a.pdf) de Laurens Van der Maaten et Geoffrey Hinton de [JMLR](http://www.jmlr.org/)). Son idée de base est simple: trouver une projection pour un espace de grandes dimensions sur un plan (ou un hyperplan 3D, mais il est presque toujours 2D) de manière à ce que les points éloignés dans l'espace initial à n dimensions se retrouvent éloignés dans le plan. Ceux qui étaient proches à l’origine resteraient proches les uns des autres.\n",
    "\n",
    "L'*incorporation de voisins* est essentiellement une recherche d'une nouvelle représentation de données de moindre dimension préservant le voisinage des exemples.\n",
    "\n",
    "Maintenant, faisons un peu de pratique. Premièrement, nous devons importer des classes supplémentaires:\n"
   ]
  },
  {
   "cell_type": "code",
   "execution_count": null,
   "metadata": {
    "colab": {},
    "colab_type": "code",
    "id": "p8PdHy21JYFC"
   },
   "outputs": [],
   "source": [
    "from sklearn.manifold import TSNE\n",
    "from sklearn.preprocessing import StandardScaler"
   ]
  },
  {
   "cell_type": "markdown",
   "metadata": {
    "colab_type": "text",
    "id": "YrFrdszeJYFD"
   },
   "source": [
    "Nous allons laisser de côté les fonctionnalités *State* et *Churn* en utilisant la fonction [`pandas.DataFrame.drop()`](https://pandas.pydata.org/pandas-docs/stable/reference/api/pandas.DataFrame.drop.html) et convertir les valeurs \"Oui\"/\"Non\" des entités binaires en valeurs numériques en utilisant [`pandas.Series.map()`](http://pandas.pydata.org/pandas-docs/stable/generated/pandas.Series.map.html):"
   ]
  },
  {
   "cell_type": "code",
   "execution_count": null,
   "metadata": {
    "colab": {},
    "colab_type": "code",
    "id": "oGcIqekiJYFD"
   },
   "outputs": [],
   "source": [
    "#... "
   ]
  },
  {
   "cell_type": "markdown",
   "metadata": {
    "colab_type": "text",
    "id": "e0FvlOxfJYFE"
   },
   "source": [
    "Nous devons également normaliser les données. Pour cela, nous allons soustraire la moyenne de chaque variable et la diviser par son écart type. Tout cela peut être fait avec `StandardScaler` (cf. [Module 0](./Module_0_Coll_Prep.ipynb))."
   ]
  },
  {
   "cell_type": "code",
   "execution_count": null,
   "metadata": {
    "colab": {},
    "colab_type": "code",
    "id": "9y6uEqCtJYFE"
   },
   "outputs": [],
   "source": [
    "# ... "
   ]
  },
  {
   "cell_type": "markdown",
   "metadata": {
    "colab_type": "text",
    "id": "PdH3NKReJYFG"
   },
   "source": [
    "Construisons maintenant une représentation t-SNE :"
   ]
  },
  {
   "cell_type": "code",
   "execution_count": null,
   "metadata": {
    "colab": {},
    "colab_type": "code",
    "id": "WOsDB1_QJYFG"
   },
   "outputs": [],
   "source": [
    "# ... "
   ]
  },
  {
   "cell_type": "markdown",
   "metadata": {
    "colab_type": "text",
    "id": "Nb9OyLDJJYFG"
   },
   "source": [
    "Et affichons-la : "
   ]
  },
  {
   "cell_type": "code",
   "execution_count": null,
   "metadata": {
    "colab": {},
    "colab_type": "code",
    "id": "rBsW9_xAJYFH"
   },
   "outputs": [],
   "source": [
    "# ... "
   ]
  },
  {
   "cell_type": "markdown",
   "metadata": {
    "colab_type": "text",
    "id": "qYLTYvY3JYFI"
   },
   "source": [
    "Colorons cette représentation t-SNE en fonction du taux de désabonnement `Churn` en bleu pour les clients fidèles et orange pour ceux qui quittent, en utilisant la fonction [`pandas.Series.map()`](http://pandas.pydata.org/pandas-docs/stable/generated/pandas.Series.map.html) pour associer les `False` à bleu et les `True` à orange."
   ]
  },
  {
   "cell_type": "code",
   "execution_count": null,
   "metadata": {
    "colab": {},
    "colab_type": "code",
    "id": "3ekt7wEWJYFI"
   },
   "outputs": [],
   "source": [
    "# ..."
   ]
  },
  {
   "cell_type": "markdown",
   "metadata": {
    "colab_type": "text",
    "id": "SX5w4XarJYFK"
   },
   "source": [
    "Nous pouvons voir que les clients qui ont quitté sont concentrés dans quelques zones de l’espace réduit.\n",
    "\n",
    "Pour mieux comprendre la figure, nous pouvons également la colorier avec les fonctions binaires restantes: `International plan` et `Voice mail plan`. Les points oranges indiquent les instances positives pour la fonction binaire correspondante (donc toujours en utilisant la fonction [`pandas.Series.map()`](http://pandas.pydata.org/pandas-docs/stable/generated/pandas.Series.map.html) pour associer les `no` à bleu et les `yes` à orange).\n",
    "\n",
    "Essayez ici de faire un `subplots(1, 2)` pour avoir les images côte à côte.\n"
   ]
  },
  {
   "cell_type": "code",
   "execution_count": null,
   "metadata": {
    "colab": {},
    "colab_type": "code",
    "id": "nZH8Xde4JYFK"
   },
   "outputs": [],
   "source": [
    "# ... "
   ]
  },
  {
   "cell_type": "markdown",
   "metadata": {
    "colab_type": "text",
    "id": "br2o1OdyJYFL"
   },
   "source": [
    "On voit maintenant que de nombreux clients insatisfaits ayant résilié leur abonnement se retrouvent dans le groupe le plus au sud-ouest qui représente les utilisateurs du plan international, mais pas de messagerie vocale.\n",
    "\n",
    "Enfin, notons quelques inconvénients du t-SNE:\n",
    "- Grande complexité de calcul. Le fichier [implementation](http://scikit-learn.org/stable/modules/generated/sklearn.manifold.TSNE.html) dans Scikit-Learn ne sera probablement pas utilisable en situation réelle. Si vous avez un grand nombre d'échantillons, vous devriez plutôt essayer [Multicore-TSNE](https://github.com/DmitryUlyanov/Multicore-TSNE).\n",
    "- Le résultat peut varier selon la valeur de la `seed` aléatoire, ce qui complique l'interprétation. [Vous trouverez ici](http://distill.pub/2016/misread-tsne/) un bon tutoriel sur t-SNE. En général, vous ne devriez pas tirer de conclusions de grande envergure basées sur de tels graphiques, car cela équivaudrait à une simple estimation. Bien sûr, certaines conclusions des images t-SNE peuvent inspirer une idée et être confirmées par la suite avec des recherches plus poussées, mais cela arrive rarement.\n",
    "\n",
    "De temps en temps, en utilisant t-SNE, vous pouvez obtenir une très bonne intuition sur les données. Ce qui suit est un bon article qui en donne un exemple pour les chiffres manuscrits: [Visualiser MNIST](https://colah.github.io/posts/2014-10-Visualizing-MNIST/).\n",
    "\n",
    "Vous reviendrez plus sur le *Manifold Learning* sur MNIST en allant lire un peu plus loin sur la préparation des données dans ce notebook.\n"
   ]
  },
  {
   "cell_type": "markdown",
   "metadata": {
    "colab_type": "text",
    "id": "-G9KpEnlJYFM"
   },
   "source": [
    "---\n",
    "# Un autre exercice : Analysons (encore) les passagers du \"Titanic\"\n",
    "---\n",
    "**[Compétition Kaggle](https://www.kaggle.com/c/titanic) \"Titanic: Machine Learning from Disaster\".**"
   ]
  },
  {
   "cell_type": "markdown",
   "metadata": {
    "colab_type": "text",
    "id": "zBNR1RS8JYFM"
   },
   "source": []
  },
  {
   "cell_type": "code",
   "execution_count": null,
   "metadata": {
    "colab": {},
    "colab_type": "code",
    "id": "XBRjwuxYJYFM"
   },
   "outputs": [],
   "source": [
    "import numpy as np\n",
    "import pandas as pd\n",
    "import seaborn as sns\n",
    "from plotnine import *\n",
    "sns.set()\n",
    "import matplotlib.pyplot as plt\n",
    "import wget\n",
    "\n",
    "!rm './titanic_train.csv' './titanic_test.csv'\n",
    "wget.download('https://raw.githubusercontent.com/iid-ulaval/EEAA-datasets/master/titanic_train.csv','./titanic_train.csv')\n",
    "wget.download('https://raw.githubusercontent.com/iid-ulaval/EEAA-datasets/master/titanic_test.csv','./titanic_test.csv')\n"
   ]
  },
  {
   "cell_type": "markdown",
   "metadata": {
    "colab_type": "text",
    "id": "RLlqzwvzJYFN"
   },
   "source": [
    "**Read data**\n",
    "\n",
    " - Survival: Survival (0 = No, 1 = Yes)\n",
    " - Pclass: Ticket class(1 = 1st, 2 = 2nd, 3 = 3rd)\n",
    " - Sex: Sex\n",
    " - Age: Age in years\n",
    " - SibSp: Number of siblings / spouses aboard the Titanic\n",
    " - Parch: Number of parents / children aboard the Titanic\n",
    " - Ticket: Ticket number\n",
    " - Fare:Passenger fare\n",
    " - Embarked:Port of Embarkation(C = Cherbourg, Q = Queenstown, S = Southampton)"
   ]
  },
  {
   "cell_type": "code",
   "execution_count": null,
   "metadata": {
    "colab": {},
    "colab_type": "code",
    "id": "OuKShCvnJYFN"
   },
   "outputs": [],
   "source": [
    "titan_df = pd.concat([pd.read_csv('./titanic_train.csv'),pd.read_csv('./titanic_test.csv')])"
   ]
  },
  {
   "cell_type": "markdown",
   "metadata": {
    "colab_type": "text",
    "id": "q6bseA8dJYFP"
   },
   "source": [
    "Débarrassons-nous des valeurs incomplètes cette fois-ci:"
   ]
  },
  {
   "cell_type": "code",
   "execution_count": null,
   "metadata": {
    "colab": {},
    "colab_type": "code",
    "id": "LziEBvOsJYFP"
   },
   "outputs": [],
   "source": [
    "titan_df = titan_df.dropna()"
   ]
  },
  {
   "cell_type": "markdown",
   "metadata": {
    "colab_type": "text",
    "id": "JarDqLpaJYFP"
   },
   "source": [
    "**Créez une image pour visualiser tous les diagrammes de dispersion pour chaque paire de caractéristiques `Age`, `Fare`, `SibSp`, `Parch` et `Survived`. (`scatter_matrix` de Pandas ou `pairplot` de Seaborn)**"
   ]
  },
  {
   "cell_type": "code",
   "execution_count": null,
   "metadata": {
    "colab": {},
    "colab_type": "code",
    "id": "iORs9fQrJYFQ"
   },
   "outputs": [],
   "source": [
    "# ..."
   ]
  },
  {
   "cell_type": "markdown",
   "metadata": {
    "colab_type": "text",
    "id": "leC8zIfmJYFR"
   },
   "source": [
    "**Comment le prix du billet (`Fare`) dépend-il de `Pclass`? Construire une boîte à moustaches ([`boxplot()`](https://matplotlib.org/api/_as_gen/matplotlib.pyplot.boxplot.html) ou [`geom_boxplot()`](https://plotnine.readthedocs.io/en/stable/generated/plotnine.geoms.geom_boxplot.html)).**\n",
    "\n",
    "Note : Pour les variables catégorielles dans GGPlot, il faut utiliser `'factor(var)'` pour décomposer celles-ci sur l'axe.\n"
   ]
  },
  {
   "cell_type": "code",
   "execution_count": null,
   "metadata": {
    "colab": {},
    "colab_type": "code",
    "id": "3am22M9zJYFR"
   },
   "outputs": [],
   "source": [
    "# ..."
   ]
  },
  {
   "cell_type": "markdown",
   "metadata": {
    "colab_type": "text",
    "id": "DLGumWqBJYFT"
   },
   "source": [
    "**Construisons le même graphe, mais limitons les valeurs de `Fare` à moins de 95% en quantiles du vecteur initial (pour supprimer les valeurs aberrantes qui rendent le graphe moins clair).**\n",
    "\n",
    "(Il est possible d'éliminer *tous* les outliers avec un simple paramètres de [`boxplot()`](https://matplotlib.org/api/_as_gen/matplotlib.pyplot.boxplot.html))"
   ]
  },
  {
   "cell_type": "code",
   "execution_count": null,
   "metadata": {
    "colab": {},
    "colab_type": "code",
    "id": "L5O2mWDMJYFT"
   },
   "outputs": [],
   "source": [
    "# ..."
   ]
  },
  {
   "cell_type": "markdown",
   "metadata": {
    "colab_type": "text",
    "id": "6jtoaUb-JYFU"
   },
   "source": [
    "**À quel point la proportion de passagers survivants dépend-elle du sexe des passagers? Représentez-le avec `Seaborn.countplot` en utilisant l'argument `hue`.**"
   ]
  },
  {
   "cell_type": "code",
   "execution_count": null,
   "metadata": {
    "colab": {},
    "colab_type": "code",
    "id": "evqwjBrNJYFU"
   },
   "outputs": [],
   "source": [
    "# ..."
   ]
  },
  {
   "cell_type": "markdown",
   "metadata": {
    "colab_type": "text",
    "id": "Wjka6PVWJYFV"
   },
   "source": [
    "Faisons la même chose pour `Survived` et `Pclass`"
   ]
  },
  {
   "cell_type": "code",
   "execution_count": null,
   "metadata": {
    "colab": {},
    "colab_type": "code",
    "id": "sq0JwZNXJYFV"
   },
   "outputs": [],
   "source": [
    "# ..."
   ]
  },
  {
   "cell_type": "markdown",
   "metadata": {
    "colab_type": "text",
    "id": "sBbNLVeOJYFW"
   },
   "source": [
    "**En quoi la distribution des prix de billet diffère-t-elle pour les passagers ayant survécu ou non? Affichez-la avec `seaborn.boxplot` ou `plotnine.geom_boxplot`**"
   ]
  },
  {
   "cell_type": "code",
   "execution_count": null,
   "metadata": {
    "colab": {},
    "colab_type": "code",
    "id": "1f2vskpSJYFW"
   },
   "outputs": [],
   "source": [
    "# ...\n"
   ]
  },
  {
   "cell_type": "markdown",
   "metadata": {
    "colab_type": "text",
    "id": "kNkedoY3JYFY"
   },
   "source": [
    "Triste vérité; ceux qui ont survécu ont généralement payé beaucoup plus pour leurs billets."
   ]
  },
  {
   "cell_type": "markdown",
   "metadata": {
    "colab_type": "text",
    "id": "YUT-QhqVJYFY"
   },
   "source": [
    "**Comment la survie dépendait-elle de l'âge des passagers? Vérifiez (graphiquement) l'hypothèse selon laquelle les jeunes (<30 ans) survivaient plus fréquemment que les personnes âgées (> 55 ans).**"
   ]
  },
  {
   "cell_type": "markdown",
   "metadata": {
    "colab_type": "text",
    "id": "WQphBElRJYFY"
   },
   "source": [
    "Construisons d'abord la boîte à moustaches (`boxplot`)"
   ]
  },
  {
   "cell_type": "code",
   "execution_count": null,
   "metadata": {
    "colab": {},
    "colab_type": "code",
    "id": "9iQq3sy1JYFY"
   },
   "outputs": [],
   "source": [
    "# ..."
   ]
  },
  {
   "cell_type": "markdown",
   "metadata": {
    "colab_type": "text",
    "id": "_vPkqs71JYFZ"
   },
   "source": [
    "Nous pouvons visualiser mieux en ajoutant de la couleur aux classes (`hue`)."
   ]
  },
  {
   "cell_type": "code",
   "execution_count": null,
   "metadata": {
    "colab": {},
    "colab_type": "code",
    "id": "GHzjFkWDJYFZ"
   },
   "outputs": [],
   "source": [
    "# ..."
   ]
  },
  {
   "cell_type": "markdown",
   "metadata": {
    "colab_type": "text",
    "id": "VzXXF1lXJYFa"
   },
   "source": [
    "Difficile de conclure quoi que ce soit. Faisons-le d'une autre manière en catégorisant par âge et en utilisant un diagramme en bâtons."
   ]
  },
  {
   "cell_type": "code",
   "execution_count": null,
   "metadata": {
    "colab": {},
    "colab_type": "code",
    "id": "uFbKsESAJYFb"
   },
   "outputs": [],
   "source": [
    "# ..."
   ]
  },
  {
   "cell_type": "code",
   "execution_count": null,
   "metadata": {},
   "outputs": [],
   "source": []
  }
 ],
 "metadata": {
  "kernelspec": {
   "display_name": "Python 3.6.9 64-bit",
   "name": "python36964bite255cbd0d4104b10a878c124791c81ba"
  },
  "language_info": {
   "codemirror_mode": {
    "name": "ipython",
    "version": 3
   },
   "file_extension": ".py",
   "mimetype": "text/x-python",
   "name": "python",
   "nbconvert_exporter": "python",
   "pygments_lexer": "ipython3",
   "version": "3.6.9-final"
  }
 },
 "nbformat": 4,
 "nbformat_minor": 2
}
