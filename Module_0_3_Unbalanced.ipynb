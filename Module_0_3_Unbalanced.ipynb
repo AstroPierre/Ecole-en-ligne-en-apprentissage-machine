{
 "cells": [
  {
   "cell_type": "markdown",
   "metadata": {
    "colab_type": "text",
    "id": "CDEWTP-vNB_R"
   },
   "source": [
    "---\n",
    "# Préparation des données\n",
    "\n",
    "---\n",
    "\n",
    "Pour préparer adéquatement les données avant de les fournir à un ou plusieurs algorithmes d'apprentissage automatique, il faut également s'assurer de la bonne représentation de ces données pour ne pas leur fournir de biais trop difficiles à manipuler.\n",
    "\n",
    "<center><img src=\"./img/mlprocess_2.png\" alt=\"Processus d'apprentissage automatique\" width=\"50%\"/></center>\n",
    "\n",
    "1. Le nettoyage et les aberrations statistiques\n",
    "2. L'imputation de données manquantes\n",
    "3. **Équilibrage des données déséquilibrées**\n",
    "4. Transformation des caractéristiques\n",
    "    1. *rescaling* et *normalizing* (\\[0, 1\\] ou \\[-1, 1\\]), *standardizing* (loi normale)\n",
    "    2. Représentation matricielle de données catégorisées\n",
    "    3. Réduction de la dimensionnalité ou création de caractéristiques\n"
   ]
  },
  {
   "cell_type": "markdown",
   "metadata": {
    "colab_type": "text",
    "id": "-kcHEFbLJYGL"
   },
   "source": [
    "## 3. Données d'entraînement déséquilibrées\n",
    "\n",
    "### Paradoxe de l'exactitude\n",
    "\n",
    "Le [paradoxe de l'exactitude](https://en.wikipedia.org/wiki/Accuracy_paradox) est le nom de la situation où vos mesures d'exactitude indiquent que vous avez une excellente exactitude (telle que 90%), mais que l'exactitude ne reflète que la distribution de classe majoritaire sous-jacente.\n",
    "\n",
    "C'est un problème très courant, car l'exactitude est souvent la première mesure utilisée (par `Scikit-Learn`) pour évaluer nos modèles dans les problèmes de classification.\n",
    "\n",
    "### Mettez tout sur le rouge!\n",
    "\n",
    "Que se passe-t-il dans les modèles lorsque l'entraînement est fait sur un jeu de données déséquilibré? \n",
    "\n",
    "Si une exactitude de 90% est obtenue sur des données déséquilibrées (avec 90% des instances dans la classe 1), c'est parce que les modèles examinent les données et décident intelligemment que la meilleure chose à faire est de toujours prédire \"Classe 1\" pour atteindre une grande exactitude.\n",
    "\n",
    "Cela se voit mieux lorsqu’un algorithme basé sur des règles simples est utilisé. En regardant la règle dans le modèle final, on constate qu'il est très probable qu'une seule classe est prédite, quelles que soient les données à prédire.\n",
    "\n",
    "Comment régler ce problème ?\n",
    "\n",
    "#### Collecter plus de données\n",
    "\n",
    "Vous pensez peut-être que c'est idiot, mais la collecte de plus de données est presque toujours négligée.\n",
    "\n",
    "Pouvez-vous collecter plus de données? Prenez une seconde et demandez-vous si vous êtes capable de collecter plus de données sur votre problème.\n",
    "\n",
    "Un ensemble de données plus volumineux pourrait exposer une perspective différente et peut-être plus équilibrée des classes.\n",
    "\n",
    "D'autres exemples de classes mineures peuvent être utiles ultérieurement lorsque nous examinons le rééchantillonnage de votre jeu de données.\n",
    "\n",
    "#### Changer de métrique de performance\n",
    "\n",
    "L'exactitude n'est pas la métrique à utiliser lorsque vous travaillez avec un jeu de données déséquilibré. Nous avons vu que c'est trompeur.\n",
    "\n",
    "Certains indicateurs ont été conçus pour vous raconter une histoire plus véridique lorsque vous travaillez avec des classes déséquilibrées.\n",
    "\n",
    "Vous verrez plus en détail au prochain bloc les différentes mesures de performance:\n",
    "- Matrice de confusion: décomposition des prédictions dans un tableau montrant les prédictions correctes (la diagonale) et les types de prédictions incorrectes effectuées (quelles classes de prédictions incorrectes ont été attribuées).\n",
    "- Exactitude: Mesure de l'exactitude d'un classificateur.\n",
    "- Rappel : Une mesure de la complétude d'un classificateur\n",
    "- Score F1 (ou F-score): moyenne pondérée de la précision et du rappel.\n",
    "- Kappa (ou [kappa de Cohen](https://en.wikipedia.org/wiki/Cohen%27s_kappa)): précision de la classification normalisée par le déséquilibre des classes dans les données.\n",
    "- Courbes ROC: À l'instar de la précision et du rappel, l'exactitude est divisée en sensibilité et spécificité et des modèles peuvent être choisis en fonction des seuils d'équilibre de ces valeurs.\n",
    "\n",
    "Tout cela sera vu au prochain bloc sur l'évaluation de modèles.\n",
    "\n",
    "#### Ré-échantillonner le jeu de données\n",
    "\n",
    "Il est possible de modifier le jeu de données utilisé afin d'obtenir des données plus équilibrées et améliorer le modèle prédictif.\n",
    "\n",
    "Cette modification s'appelle [échantillonnage du dataset](https://en.wikipedia.org/wiki/Oversampling_and_undersampling_in_data_analysis). Il existe deux méthodes principales pour uniformiser les classes:\n",
    "- l'ajout de copies d'instances de la classe sous-représentée : suréchantillonnage (ou plus formellement échantillonner avec remplacement), ou\n",
    "- la suppression d'instances de la classe surreprésentée : sous-échantillonnage.\n",
    "\n",
    "Ces approches sont souvent très faciles à mettre en œuvre et rapides à exécuter. Elles sont un excellent point de départ.\n",
    "\n",
    "En fait, il vaut mieux toujours essayer les deux approches sur tous les jeux de données déséquilibrés, juste pour voir si cela donne une amélioration de vos mesures préférées.\n",
    "\n",
    "Quelques règles de base :\n",
    "- Le sous-échantillonnage est préférable lorsque vous avez beaucoup de données (des dizaines, des centaines de milliers d'instances ou plus).\n",
    "- Le suréchantillonnage est préférable lorsque vous n’avez pas beaucoup de données (des dizaines de milliers d’enregistrements ou moins).\n",
    "- Tester des schémas d'échantillonnage aléatoire et non aléatoire (par exemple stratifié).\n",
    "- Tester différents ratios de rééchantillonnage (il n'est pas toujours nécessaire d'avoir un ratio de 1:1 dans un problème de classification binaire).\n",
    "\n",
    "#### Générer des échantillons synthétiques\n",
    "\n",
    "Un moyen simple de générer des échantillons synthétiques consiste à échantillonner de manière aléatoire les attributs d'instances de la classe minoritaire.\n",
    "\n",
    "Il est possible de les échantillonner de manière empirique dans votre jeu de données ou d'utiliser une méthode telle que Naive Bayes, qui permet d'échantillonner chaque attribut indépendamment lorsqu'il est exécuté à l'envers. Plus de données différentes seront générées, mais les relations non linéaires entre les attributs peuvent ne pas être préservées.\n",
    "\n",
    "Il existe des algorithmes systématiques utilisables pour générer des échantillons synthétiques. Le plus populaire de ces algorithmes est appelé SMOTE ou technique de suréchantillonnage minoritaire synthétique.\n",
    "\n",
    "SMOTE est une méthode de suréchantillonnage. Elle fonctionne en créant des échantillons synthétiques de la classe mineure au lieu de créer des copies. L'algorithme sélectionne deux instances similaires ou plus (à l'aide d'une mesure de distance) et perturbe une instance à la fois d'une quantité aléatoire dans la différence des instances voisines.\n",
    "\n",
    "Il existe plusieurs implémentations de l'algorithme SMOTE. En Python, le module \"[`imbalanced-learn`](https://github.com/fmfn/UnbalancedDataset)\" fournit un certain nombre d'implémentations de SMOTE ainsi que diverses autres techniques de ré-échantillonnage.\n",
    "\n",
    "#### Essayer les modèles pénalisés\n",
    "\n",
    "Utilisation des mêmes algorithmes en leur donnant une perspective différente du problème.\n",
    "\n",
    "La classification pénalisée impose un coût supplémentaire au modèle pour faire des erreurs de classification à la classe minoritaire pendant l'entraînement. Ces pénalités peuvent inciter le modèle à accorder plus d’attention à la classe minoritaire.\n",
    "\n",
    "Souvent, le traitement des pénalités de classe ou de poids est effectué dans l’algorithme d’apprentissage. Il existe également des versions pénalisées d'algorithmes de classification tels que les SVMs ou LDAs.\n",
    "\n",
    "Il est aussi possible d'avoir des cadres génériques pour les modèles pénalisés. Par exemple, Weka a un classificateur CostSensitive qui peut assigner à tout classificateur une matrice de pénalités personnalisée pour la classification des échecs.\n",
    "\n",
    "L’utilisation de la pénalisation est souhaitable si vous êtes restreints à un algorithme spécifique et êtes incapables de rééchantillonner ou si vous obtenez des résultats médiocres. Il fournit un autre moyen d’équilibrer les cours. La mise en place de la matrice de pénalités peut être complexe. Vous devrez très probablement essayer divers systèmes de pénalités afin de trouver celui qui convient le mieux à votre problème.\n",
    "\n",
    "#### Essayer une perspective différente\n",
    "\n",
    "Il existe des domaines d'étude dédiés aux jeux de données déséquilibrés. Ils ont leurs propres algorithmes, mesures et terminologie.\n",
    "\n",
    "Jeter un coup d'œil et réfléchir à votre problème sous ces angles peut parfois faire honte à certaines idées.\n",
    "\n",
    "La détection des anomalies et la détection des modifications sont deux éléments qui pourraient vous intéresser.\n",
    "\n",
    "La détection d'anomalie est la détection d'événements rares. Il s’agit peut-être d’un dysfonctionnement de la machine signalé par ses vibrations ou d’une activité malveillante d’un programme indiqué par sa séquence d’appels système. Les événements sont rares et comparés au fonctionnement normal.\n",
    "\n",
    "Ce changement de mentalité considère la classe mineure comme la classe des valeurs aberrantes, ce qui peut vous aider à réfléchir à de nouvelles façons de séparer et de classer les échantillons.\n",
    "\n",
    "La détection de changement est similaire à la détection d'anomalie, sauf que plutôt que de rechercher une anomalie, elle recherche un changement ou une différence. Il peut s’agir d’un changement de comportement d’un utilisateur, tel qu’observé par les modèles d’utilisation ou les transactions bancaires.\n",
    "\n",
    "Ces deux évolutions adoptent une approche plus en temps réel du problème de classification. Ça pourrait changer la façon dont vous abordez le problème et peut-être même suggérer d’autres techniques à essayer.\n"
   ]
  },
  {
   "cell_type": "markdown",
   "metadata": {
    "colab_type": "text",
    "id": "unIwB9grJYGL"
   },
   "source": [
    "### Exemple de données déséquilibrées\n",
    "\n",
    "* Jeu de données déséquilibré\n",
    "* Le piège métrique\n",
    "* Matrice de confusion\n",
    "* Rééchantillonnage\n",
    "* Sous-échantillonnage aléatoire\n",
    "* Sur-échantillonnage aléatoire\n",
    "* Module d'apprentissage en Python déséquilibré\n",
    "* Sous-échantillonnage aléatoire et suréchantillonnage avec apprentissage déséquilibré\n",
    "* Sous-échantillonnage: liens Tomek\n",
    "* Sous-échantillonnage: Centroids de cluster\n",
    "* Sur-échantillonnage: SMOTE\n",
    "* Sur-échantillonnage suivi d'un sous-échantillonnage\n",
    "* Plus de liens\n"
   ]
  },
  {
   "cell_type": "markdown",
   "metadata": {
    "_cell_guid": "e38ddf38-d027-4eae-95c8-749f8f40db43",
    "_uuid": "1e287038acf96fc6d6825e77ba97b03f0824be0a",
    "colab_type": "text",
    "id": "4P9xKvrdJYGL"
   },
   "source": [
    "#### Données déséquilibrées\n",
    "\n",
    "Dans cette partie, nous passons en revue certaines techniques permettant de gérer des ensembles de données très déséquilibrés, en mettant l’accent sur le ré-échantillonnage. \n"
   ]
  },
  {
   "cell_type": "code",
   "execution_count": 1,
   "metadata": {
    "colab": {},
    "colab_type": "code",
    "id": "5aWXfX8bJYGL"
   },
   "outputs": [
    {
     "name": "stdout",
     "output_type": "stream",
     "text": [
      "Class 0: 99000\n",
      "Class 1: 1000\n",
      "Proportion: 99.0 : 1\n"
     ]
    },
    {
     "data": {
      "image/png": "[encoded data removed]",
      "text/plain": [
       "<Figure size 432x288 with 1 Axes>"
      ]
     },
     "metadata": {
      "needs_background": "light"
     },
     "output_type": "display_data"
    }
   ],
   "source": [
    "import numpy as np\n",
    "import pandas as pd\n",
    "\n",
    "from sklearn.datasets import make_classification\n",
    "\n",
    "major = 0.99\n",
    "\n",
    "X, y = make_classification(\n",
    "    n_classes=2, class_sep=1.5, weights=[major, 1-major],\n",
    "    n_informative=3, n_redundant=1, flip_y=0,\n",
    "    n_features=20, n_clusters_per_class=1,\n",
    "    n_samples=100000, random_state=10\n",
    ")\n",
    "\n",
    "df = pd.DataFrame(X)\n",
    "df['target'] = y\n",
    "target_count = df.target.value_counts()\n",
    "print('Class 0:', target_count[0])\n",
    "print('Class 1:', target_count[1])\n",
    "print('Proportion:', round(target_count[0] / target_count[1], 4), ': 1')\n",
    "df.target.value_counts().plot(kind='bar', title='Count (target)');"
   ]
  },
  {
   "cell_type": "markdown",
   "metadata": {
    "_cell_guid": "c91f9c5d-05d2-478e-9dfb-1cb848bc0fe4",
    "_uuid": "8683656d1bfdef6b5c0c623597dcbc4160a0edc1",
    "colab_type": "text",
    "id": "-vMLdhPcJYGN"
   },
   "source": [
    "#### Le piège des métriques\n",
    "\n",
    "L'un des principaux problèmes auxquels se heurtent les utilisateurs novices lorsqu'ils traitent des jeux de données déséquilibrés est lié aux métriques utilisées pour évaluer leur modèle. Utiliser des métriques plus simples comme l'exactitude (`accuracy`) peut être trompeur. Dans un ensemble de données avec des classes très déséquilibrées, si le classificateur \"prédit\" toujours la classe la plus courante sans effectuer d'analyse des caractéristiques, il conservera un taux de précision élevé, évidemment illusoire.\n",
    "\n",
    "Faisons cette expérience en utilisant une simple validation croisée et aucune ingénierie de caractéristiques:"
   ]
  },
  {
   "cell_type": "code",
   "execution_count": 2,
   "metadata": {
    "colab": {},
    "colab_type": "code",
    "id": "MX43hWb3JYGN"
   },
   "outputs": [
    {
     "name": "stdout",
     "output_type": "stream",
     "text": [
      "Accuracy: 99.8150%\n"
     ]
    }
   ],
   "source": [
    "from sklearn.svm import SVC\n",
    "from xgboost import XGBClassifier\n",
    "from sklearn.model_selection import train_test_split\n",
    "from sklearn.metrics import accuracy_score\n",
    "\n",
    "X_train, X_test, y_train, y_test = train_test_split(X, y, test_size=0.2, random_state=1)\n",
    "\n",
    "model = XGBClassifier()\n",
    "model = SVC(kernel='linear')\n",
    "model.fit(X_train, y_train)\n",
    "y_pred = model.predict(X_test)\n",
    "\n",
    "accuracy = accuracy_score(y_test, y_pred)\n",
    "print(\"Accuracy: %.4f%%\" % (accuracy * 100.0))"
   ]
  },
  {
   "cell_type": "markdown",
   "metadata": {
    "_cell_guid": "c46b98a7-d500-4911-a7b5-c8fc8fbed069",
    "_uuid": "5b17ee8d3629cc346398e63269205e5b654cef80",
    "colab_type": "text",
    "id": "UovfJF0vJYGN"
   },
   "source": [
    "Exécutons maintenant le même code, mais en utilisant une seule caractéristique (ce qui devrait considérablement réduire l'exactitude du classificateur):"
   ]
  },
  {
   "cell_type": "code",
   "execution_count": 3,
   "metadata": {
    "colab": {},
    "colab_type": "code",
    "id": "RA8ch-k0JYGN"
   },
   "outputs": [
    {
     "name": "stdout",
     "output_type": "stream",
     "text": [
      "Accuracy: 98.9950%\n"
     ]
    }
   ],
   "source": [
    "model = XGBClassifier()\n",
    "model = SVC(kernel='linear')\n",
    "model.fit(X_train[:,0:2], y_train)\n",
    "y_pred = model.predict(X_test[:,0:2])\n",
    "\n",
    "accuracy = accuracy_score(y_test, y_pred)\n",
    "print(\"Accuracy: %.4f%%\" % (accuracy * 100.0))"
   ]
  },
  {
   "cell_type": "markdown",
   "metadata": {
    "_cell_guid": "68d4ffaf-4412-4ff3-a9cd-38bea195da3b",
    "_uuid": "d9d8b57f458bdd107ae08b76b0008d80e0674d97",
    "colab_type": "text",
    "id": "U6ycFBWPJYGO"
   },
   "source": [
    "Comme nous pouvons le constater, le taux de précision élevé n’était qu’illusion. De cette manière, le choix de la métrique utilisée dans les jeux de données non équilibrés est extrêmement important. Un meilleur choix ici aurait été d'utiliser le [Coefficient de Gini normalisé](https://en.wikipedia.org/wiki/Gini_coefficient), une métrique plus robuste pour les jeux de données déséquilibrés, qui varie d'environ 0 pour une estimation aléatoire à environ 0,5 pour un score parfait."
   ]
  },
  {
   "cell_type": "markdown",
   "metadata": {
    "_cell_guid": "e53e9f0f-8888-4fd9-b0d8-3bc937448162",
    "_uuid": "a176bd80315afd0f7c21fd26ab1841867a5eb7d0",
    "colab_type": "text",
    "id": "XLwQK0ztJYGP"
   },
   "source": [
    "#### Matrice de confusion\n",
    "\n",
    "Une méthode intéressante pour évaluer les résultats consiste à utiliser une matrice de confusion qui montre les prédictions correctes et incorrectes pour chaque classe. Dans la première ligne, la première colonne indique combien de classes 0 ont été prédites correctement, et dans la seconde colonne, combien de classes 0 ont été prédites à 1. Dans la deuxième ligne, nous notons que toutes les entrées de classe 1 ont été prédites à tort comme étant la classe 0. Notez que la matrice de confusion n'est pas nécessairement symétrique comme l'est toujours la matrice de corrélation que l'on rencontre souvent en statistiques.\n",
    "\n",
    "Par conséquent, plus les valeurs diagonales de la matrice de confusion sont élevées, mieux ce sera, ce qui indique de nombreuses prédictions correctes."
   ]
  },
  {
   "cell_type": "code",
   "execution_count": 4,
   "metadata": {
    "colab": {},
    "colab_type": "code",
    "id": "lT2XS_k2JYGP"
   },
   "outputs": [
    {
     "name": "stdout",
     "output_type": "stream",
     "text": [
      "Matrice de confusion:\n",
      " [[19799     0]\n",
      " [  201     0]]\n"
     ]
    },
    {
     "name": "stderr",
     "output_type": "stream",
     "text": [
      "<ipython-input-4-745f074aad86>:12: UserWarning: FixedFormatter should only be used together with FixedLocator\n",
      "  ax.set_xticklabels([''] + labels)\n",
      "<ipython-input-4-745f074aad86>:13: UserWarning: FixedFormatter should only be used together with FixedLocator\n",
      "  ax.set_yticklabels([''] + labels)\n"
     ]
    },
    {
     "data": {
      "image/png": "[encoded data removed]",
      "text/plain": [
       "<Figure size 432x288 with 2 Axes>"
      ]
     },
     "metadata": {
      "needs_background": "light"
     },
     "output_type": "display_data"
    }
   ],
   "source": [
    "from sklearn.metrics import confusion_matrix\n",
    "from matplotlib import pyplot as plt\n",
    "\n",
    "conf_mat = confusion_matrix(y_true=y_test, y_pred=y_pred)\n",
    "print('Matrice de confusion:\\n', conf_mat)\n",
    "\n",
    "labels = ['Class 0', 'Class 1']\n",
    "fig = plt.figure()\n",
    "ax = fig.add_subplot(111)\n",
    "cax = ax.matshow(conf_mat, cmap=plt.cm.jet_r)\n",
    "fig.colorbar(cax)\n",
    "ax.set_xticklabels([''] + labels)\n",
    "ax.set_yticklabels([''] + labels)\n",
    "plt.xlabel('Predicted')\n",
    "plt.ylabel('Expected')\n",
    "plt.show()"
   ]
  },
  {
   "cell_type": "markdown",
   "metadata": {
    "_cell_guid": "b27346eb-7bf3-4360-993a-fb91e62bb937",
    "_uuid": "875f5ab3b5afcdaf3c7754ce957cb01fd32bf65c",
    "colab_type": "text",
    "id": "nNvxT6KxJYGQ"
   },
   "source": [
    "#### Rééchantillonage\n",
    "\n",
    "Le rééchantillonnage est une technique largement adoptée pour traiter les jeux de données très déséquilibrés. Cela consiste à retirer des échantillons de la classe majoritaire (sous-échantillonnage) et/ou à ajouter d'autres exemples de la classe minoritaire (suréchantillonnage).\n"
   ]
  },
  {
   "cell_type": "markdown",
   "metadata": {
    "_cell_guid": "03d31a16-7b66-4096-88d7-d548db734390",
    "_uuid": "2232ac0fb192a468486b400846f88913a36957e6",
    "colab_type": "text",
    "id": "ebU83Co8JYGQ"
   },
   "source": [
    "![](https://raw.githubusercontent.com/rafjaa/machine_learning_fecib/master/src/static/img/resampling.png)"
   ]
  },
  {
   "cell_type": "markdown",
   "metadata": {
    "_cell_guid": "0df1a3f3-49ff-4ada-80f1-198bbbd79525",
    "_uuid": "67e203e0919c818e871650ef194fe497df2d39b5",
    "colab_type": "text",
    "id": "1BoXNnQjJYGQ"
   },
   "source": [
    "Malgré l'avantage de l'équilibrage des classes, ces techniques ont aussi leurs faiblesses (`No Free Lunch`). La mise en œuvre la plus simple du suréchantillonnage consiste à dupliquer aléatoirement des données de la classe minoritaire, ce qui peut entraîner un surapprentissage. Dans le sous-échantillonnage, la technique la plus simple consiste à supprimer aléatoirement des enregistrements de la classe majoritaire, ce qui entraîne nécessairement une perte d'information.\n",
    "\n",
    "Implémentons un exemple de base, qui utilise la méthode `DataFrame.sample` pour obtenir aléatoirement des échantillons de chaque classe:"
   ]
  },
  {
   "cell_type": "code",
   "execution_count": 5,
   "metadata": {
    "colab": {},
    "colab_type": "code",
    "id": "v6PAuyH6JYGR"
   },
   "outputs": [],
   "source": [
    "# Nombre de valeurs par classe\n",
    "count_class_0, count_class_1 = df.target.value_counts()\n",
    "\n",
    "# Séparation des classes\n",
    "df_class_0 = df[df['target'] == 0]\n",
    "df_class_1 = df[df['target'] == 1]"
   ]
  },
  {
   "cell_type": "markdown",
   "metadata": {
    "_cell_guid": "152ea73a-aa23-4fd2-a3f5-1f55c69041ae",
    "_uuid": "b765be76a182930feb650b01dd4d1de90501bbce",
    "colab_type": "text",
    "id": "VHf9W_hkJYGR"
   },
   "source": [
    "#### Sous-échantillonnage aléatoire"
   ]
  },
  {
   "cell_type": "code",
   "execution_count": 6,
   "metadata": {
    "colab": {},
    "colab_type": "code",
    "id": "HSfmgXlqJYGS"
   },
   "outputs": [
    {
     "name": "stdout",
     "output_type": "stream",
     "text": [
      "Sous-échantillonnage aléatoire:\n",
      "1    1000\n",
      "0    1000\n",
      "Name: target, dtype: int64\n"
     ]
    },
    {
     "data": {
      "image/png": "[encoded data removed]",
      "text/plain": [
       "<Figure size 432x288 with 1 Axes>"
      ]
     },
     "metadata": {
      "needs_background": "light"
     },
     "output_type": "display_data"
    }
   ],
   "source": [
    "df_class_0_under = df_class_0.sample(count_class_1)\n",
    "df_test_under = pd.concat([df_class_0_under, df_class_1], axis=0)\n",
    "\n",
    "print('Sous-échantillonnage aléatoire:')\n",
    "print(df_test_under.target.value_counts())\n",
    "\n",
    "df_test_under.target.value_counts().plot(kind='bar', title='Count (target)');"
   ]
  },
  {
   "cell_type": "markdown",
   "metadata": {
    "_cell_guid": "be656d47-e529-4533-b975-cf6de072d959",
    "_uuid": "17192fe8557463941e3abd4633b58ced0037721b",
    "colab_type": "text",
    "id": "MNTDbt6UJYGS"
   },
   "source": [
    "#### Suréchantillonnage aléatoire"
   ]
  },
  {
   "cell_type": "code",
   "execution_count": 7,
   "metadata": {
    "colab": {},
    "colab_type": "code",
    "id": "1LSXyrUuJYGS"
   },
   "outputs": [
    {
     "name": "stdout",
     "output_type": "stream",
     "text": [
      "Suréchantillonnage aléatoire:\n",
      "1    99000\n",
      "0    99000\n",
      "Name: target, dtype: int64\n"
     ]
    },
    {
     "data": {
      "image/png": "[encoded data removed]",
      "text/plain": [
       "<Figure size 432x288 with 1 Axes>"
      ]
     },
     "metadata": {
      "needs_background": "light"
     },
     "output_type": "display_data"
    }
   ],
   "source": [
    "df_class_1_over = df_class_1.sample(count_class_0, replace=True)\n",
    "df_test_over = pd.concat([df_class_0, df_class_1_over], axis=0)\n",
    "\n",
    "print('Suréchantillonnage aléatoire:')\n",
    "print(df_test_over.target.value_counts())\n",
    "\n",
    "df_test_over.target.value_counts().plot(kind='bar', title='Count (target)');"
   ]
  },
  {
   "cell_type": "markdown",
   "metadata": {
    "_cell_guid": "9fd90ddc-f2fc-487d-b177-0c540daf2eff",
    "_uuid": "9672899d4029b71b72897927ce464d6d7427ce77",
    "colab_type": "text",
    "id": "wvatSDl0JYGU"
   },
   "source": [
    "#### Module d'apprentissage en Python déséquilibré\n",
    "\n",
    "Un certain nombre de techniques de ré-échantillonnage plus sophistiquées ont été proposées dans la littérature scientifique.\n",
    "\n",
    "Par exemple, il est possible de regrouper les données de la classe majoritaire et d'effectuer le sous-échantillonnage en supprimant les données de chaque cluster, cherchant ainsi à préserver les informations. En suréchantillonnage, au lieu de créer des copies exactes des données de la classe de minorité, nous pouvons introduire de petites variations dans ces copies, créant ainsi des échantillons synthétiques plus divers.\n",
    "\n",
    "Appliquons certaines de ces techniques de ré-échantillonnage en utilisant la librairie Python [imbalanced-learn](http://contrib.scikit-learn.org/imbalanced-learn/stable/). Elle est compatible avec Scikit-Learn et fait partie des projets scikit-learn-contrib.\n"
   ]
  },
  {
   "cell_type": "code",
   "execution_count": 8,
   "metadata": {
    "colab": {},
    "colab_type": "code",
    "id": "FClginO8JYGU"
   },
   "outputs": [],
   "source": [
    "#!pip install imblearn\n",
    "import imblearn"
   ]
  },
  {
   "cell_type": "markdown",
   "metadata": {
    "_cell_guid": "5542beb4-6aee-401a-8bc0-2a522fbbe90b",
    "_uuid": "ff93d1707c416178c010c125319220b785dca984",
    "colab_type": "text",
    "id": "_84pBL0WJYGV"
   },
   "source": [
    "Pour faciliter la visualisation, créons un petit échantillon de données non équilibré à l'aide de la méthode `make_classification`:"
   ]
  },
  {
   "cell_type": "code",
   "execution_count": 9,
   "metadata": {
    "colab": {},
    "colab_type": "code",
    "id": "NzSxdsYvJYGW"
   },
   "outputs": [
    {
     "data": {
      "image/png": "[encoded data removed]",
      "text/plain": [
       "<Figure size 432x288 with 1 Axes>"
      ]
     },
     "metadata": {
      "needs_background": "light"
     },
     "output_type": "display_data"
    }
   ],
   "source": [
    "from sklearn.datasets import make_classification\n",
    "\n",
    "X, y = make_classification(\n",
    "    n_classes=2, class_sep=1.5, weights=[0.9, 0.1],\n",
    "    n_informative=3, n_redundant=1, flip_y=0,\n",
    "    n_features=20, n_clusters_per_class=1,\n",
    "    n_samples=100, random_state=10\n",
    ")\n",
    "\n",
    "df = pd.DataFrame(X)\n",
    "df['target'] = y\n",
    "df.target.value_counts().plot(kind='bar', title='Count (target)');"
   ]
  },
  {
   "cell_type": "markdown",
   "metadata": {
    "_cell_guid": "4de57657-3aed-4444-a609-318063391763",
    "_uuid": "d348b114ec1594eeefa0a67aab8b54e5b9ee2bdf",
    "colab_type": "text",
    "id": "21MrHWhjJYGW"
   },
   "source": [
    "Nous allons également créer une fonction de tracé à 2 dimensions, <code>plot_2d_space</code>, pour afficher la répartition des données:"
   ]
  },
  {
   "cell_type": "code",
   "execution_count": 10,
   "metadata": {
    "colab": {},
    "colab_type": "code",
    "id": "T9--S3muJYGX"
   },
   "outputs": [],
   "source": [
    "def plot_2d_space(X, y, label='Classes'):   \n",
    "    colors = ['#1F77B4', '#FF7F0E']\n",
    "    markers = ['o', 's']\n",
    "    for l, c, m in zip(np.unique(y), colors, markers):\n",
    "        plt.scatter(\n",
    "            X[y==l, 0],\n",
    "            X[y==l, 1],\n",
    "            c=c, label=l, marker=m,alpha=.5\n",
    "        )\n",
    "    plt.title(label)\n",
    "    plt.legend(loc='upper right')\n",
    "    plt.show()"
   ]
  },
  {
   "cell_type": "markdown",
   "metadata": {
    "_cell_guid": "2c565bbc-39ed-45a2-8b3d-bc501e2510aa",
    "_uuid": "aabc110dd8d1b36345df6aada1c59b864e48e8e6",
    "colab_type": "text",
    "id": "7zGNtx2oJYGX"
   },
   "source": [
    "Étant donné que le jeu de données comporte de nombreuses dimensions (caractéristiques) et que nos graphiques seront en 2D, la taille du jeu de données est réduite au moyen de l'analyse en composantes principales (PCA):"
   ]
  },
  {
   "cell_type": "code",
   "execution_count": 11,
   "metadata": {
    "colab": {},
    "colab_type": "code",
    "id": "d1lDgQ4tJYGY"
   },
   "outputs": [
    {
     "data": {
      "image/png": "[encoded data removed]",
      "text/plain": [
       "<Figure size 432x288 with 1 Axes>"
      ]
     },
     "metadata": {
      "needs_background": "light"
     },
     "output_type": "display_data"
    }
   ],
   "source": [
    "from sklearn.decomposition import PCA\n",
    "\n",
    "pca = PCA(n_components=2)\n",
    "X = pca.fit_transform(X)\n",
    "\n",
    "plot_2d_space(X, y, 'Imbalanced dataset (2 PCA components)')"
   ]
  },
  {
   "cell_type": "markdown",
   "metadata": {
    "_cell_guid": "c3c9a24f-3cd0-4c8d-8a4d-4403c4f1a641",
    "_uuid": "0d7316b04837aa103003d667f63ecb05d43fc04e",
    "colab_type": "text",
    "id": "5S_xEobzJYGY"
   },
   "source": [
    "#### Sous-échantillonnage aléatoire et suréchantillonnage avec apprentissage déséquilibré"
   ]
  },
  {
   "cell_type": "code",
   "execution_count": 12,
   "metadata": {
    "colab": {},
    "colab_type": "code",
    "id": "7dwC1yZGJYGZ"
   },
   "outputs": [
    {
     "name": "stdout",
     "output_type": "stream",
     "text": [
      "Indices retirés : [98  1 19 69 91 73 38 32 22 37  4  8  9 14 16 40 67 70 71 74]\n"
     ]
    },
    {
     "data": {
      "image/png": "[encoded data removed]",
      "text/plain": [
       "<Figure size 432x288 with 1 Axes>"
      ]
     },
     "metadata": {
      "needs_background": "light"
     },
     "output_type": "display_data"
    }
   ],
   "source": [
    "from imblearn.under_sampling import RandomUnderSampler\n",
    "\n",
    "rus = RandomUnderSampler()\n",
    "X_rus, y_rus = rus.fit_sample(X, y)\n",
    "id_rus = rus.sample_indices_\n",
    "\n",
    "print('Indices retirés :', id_rus)\n",
    "\n",
    "plot_2d_space(X_rus, y_rus, 'Sous-échantillonnage aléatoire')"
   ]
  },
  {
   "cell_type": "code",
   "execution_count": 13,
   "metadata": {
    "colab": {},
    "colab_type": "code",
    "id": "qqLX1lZOJYGa"
   },
   "outputs": [
    {
     "name": "stdout",
     "output_type": "stream",
     "text": [
      "80 nouveaux points aléatoires\n"
     ]
    },
    {
     "data": {
      "image/png": "[encoded data removed]",
      "text/plain": [
       "<Figure size 432x288 with 1 Axes>"
      ]
     },
     "metadata": {
      "needs_background": "light"
     },
     "output_type": "display_data"
    }
   ],
   "source": [
    "from imblearn.over_sampling import RandomOverSampler\n",
    "\n",
    "ros = RandomOverSampler()\n",
    "X_ros, y_ros = ros.fit_sample(X, y)\n",
    "\n",
    "print(X_ros.shape[0] - X.shape[0], 'nouveaux points aléatoires')\n",
    "\n",
    "plot_2d_space(X_ros, y_ros, 'Suréchantillonnage aléatoire')"
   ]
  },
  {
   "cell_type": "markdown",
   "metadata": {
    "_cell_guid": "3156134f-539b-48b8-b9d0-64095fe50c1c",
    "_uuid": "b3f9ac47a157d9096a626360408859b795299c24",
    "colab_type": "text",
    "id": "0ccg8RTMJYGb"
   },
   "source": [
    "#### Sous-échantillonnage: liens Tomek\n",
    "\n",
    "Les liens Tomek sont des paires d'instances très proches, mais de classes opposées. La suppression des occurrences de la classe majoritaire de chaque paire augmente l'espace entre les deux classes, facilitant ainsi le processus de classification."
   ]
  },
  {
   "cell_type": "markdown",
   "metadata": {
    "_cell_guid": "f131f7e0-007d-406e-9e1c-db352d2d8433",
    "_uuid": "85c01c0e6baa1b984585c1db34c5ab0315cbf8ff",
    "colab_type": "text",
    "id": "TRr25kbSJYGc"
   },
   "source": [
    "![](https://raw.githubusercontent.com/rafjaa/machine_learning_fecib/master/src/static/img/tomek.png?v=2)"
   ]
  },
  {
   "cell_type": "markdown",
   "metadata": {
    "_cell_guid": "45bf057b-369c-4f37-a5ac-7417ad79253d",
    "_uuid": "733a86ccfaaabf701fb2d1f9997c732b19630df3",
    "colab_type": "text",
    "id": "rZSenONRJYGc"
   },
   "source": [
    "Dans le code ci-dessous, nous utiliserons `sampling_strategy = 'majority'` pour rééchantillonner la classe majoritaire."
   ]
  },
  {
   "cell_type": "code",
   "execution_count": 14,
   "metadata": {
    "colab": {},
    "colab_type": "code",
    "id": "ETV-o6A_JYGd"
   },
   "outputs": [
    {
     "name": "stdout",
     "output_type": "stream",
     "text": [
      "Indices retirés: [ 0  1  2  4  5  6  7  8  9 10 11 12 13 14 15 16 17 18 19 20 21 22 23 24\n",
      " 25 26 27 28 29 30 31 32 34 35 36 37 38 39 40 41 42 43 44 45 46 47 48 49\n",
      " 50 51 52 53 54 55 56 57 58 59 60 61 62 63 64 65 66 67 68 69 70 71 72 73\n",
      " 74 75 76 77 78 79 80 81 82 83 84 85 86 87 88 90 91 92 93 94 95 97 98 99]\n"
     ]
    },
    {
     "data": {
      "image/png": "[encoded data removed]",
      "text/plain": [
       "<Figure size 432x288 with 1 Axes>"
      ]
     },
     "metadata": {
      "needs_background": "light"
     },
     "output_type": "display_data"
    }
   ],
   "source": [
    "from imblearn.under_sampling import TomekLinks\n",
    "\n",
    "tl = TomekLinks(sampling_strategy='majority')\n",
    "X_tl, y_tl = tl.fit_sample(X, y)\n",
    "id_tl = tl.sample_indices_\n",
    "\n",
    "print('Indices retirés:', id_tl)\n",
    "\n",
    "plot_2d_space(X_tl, y_tl, ' Sous-échantillonnage des liens Tomek')"
   ]
  },
  {
   "cell_type": "markdown",
   "metadata": {
    "_cell_guid": "fef831bd-ecec-429c-aef2-5d51d1188820",
    "_uuid": "b4e75fffe4c91afcd63705aa7bcb16b6fd9f6b1f",
    "colab_type": "text",
    "id": "kJJ1TDfQJYGd"
   },
   "source": [
    "#### Sous-échantillonnage: Centroids de cluster\n",
    "\n",
    "Cette technique effectue un sous-échantillonnage en générant des centroïdes basés sur des méthodes de clustering. Les données seront préalablement regroupées par similarité, afin de préserver les informations.\n",
    "\n",
    "Dans cet exemple, le dictionnaire `{0: 10}` pour le paramètre `sampling_strategy`, indique de préserver 10 éléments de la classe majoritaire (0) et conserver toutes les données de la classe minoritaire (1)."
   ]
  },
  {
   "cell_type": "code",
   "execution_count": 1,
   "metadata": {
    "colab": {},
    "colab_type": "code",
    "id": "IOqxw1v-JYGe"
   },
   "outputs": [
    {
     "ename": "ModuleNotFoundError",
     "evalue": "No module named 'imblearn'",
     "output_type": "error",
     "traceback": [
      "\u001b[1;31m---------------------------------------------------------------------------\u001b[0m",
      "\u001b[1;31mModuleNotFoundError\u001b[0m                       Traceback (most recent call last)",
      "\u001b[1;32m<ipython-input-1-3d5e0cdd95df>\u001b[0m in \u001b[0;36m<module>\u001b[1;34m\u001b[0m\n\u001b[1;32m----> 1\u001b[1;33m \u001b[1;32mfrom\u001b[0m \u001b[0mimblearn\u001b[0m\u001b[1;33m.\u001b[0m\u001b[0munder_sampling\u001b[0m \u001b[1;32mimport\u001b[0m \u001b[0mClusterCentroids\u001b[0m\u001b[1;33m\u001b[0m\u001b[1;33m\u001b[0m\u001b[0m\n\u001b[0m\u001b[0;32m      2\u001b[0m \u001b[1;33m\u001b[0m\u001b[0m\n\u001b[0;32m      3\u001b[0m \u001b[0mcc\u001b[0m \u001b[1;33m=\u001b[0m \u001b[0mClusterCentroids\u001b[0m\u001b[1;33m(\u001b[0m\u001b[0msampling_strategy\u001b[0m\u001b[1;33m=\u001b[0m\u001b[1;33m{\u001b[0m\u001b[1;36m0\u001b[0m\u001b[1;33m:\u001b[0m \u001b[1;36m10\u001b[0m\u001b[1;33m}\u001b[0m\u001b[1;33m)\u001b[0m\u001b[1;33m\u001b[0m\u001b[1;33m\u001b[0m\u001b[0m\n\u001b[0;32m      4\u001b[0m \u001b[0mX_cc\u001b[0m\u001b[1;33m,\u001b[0m \u001b[0my_cc\u001b[0m \u001b[1;33m=\u001b[0m \u001b[0mcc\u001b[0m\u001b[1;33m.\u001b[0m\u001b[0mfit_sample\u001b[0m\u001b[1;33m(\u001b[0m\u001b[0mX\u001b[0m\u001b[1;33m,\u001b[0m \u001b[0my\u001b[0m\u001b[1;33m)\u001b[0m\u001b[1;33m\u001b[0m\u001b[1;33m\u001b[0m\u001b[0m\n\u001b[0;32m      5\u001b[0m \u001b[1;33m\u001b[0m\u001b[0m\n",
      "\u001b[1;31mModuleNotFoundError\u001b[0m: No module named 'imblearn'"
     ]
    }
   ],
   "source": [
    "from imblearn.under_sampling import ClusterCentroids\n",
    "\n",
    "cc = ClusterCentroids(sampling_strategy={0: 10})\n",
    "X_cc, y_cc = cc.fit_sample(X, y)\n",
    "\n",
    "plot_2d_space(X_cc, y_cc, 'Cluster Centroids under-sampling')"
   ]
  },
  {
   "cell_type": "markdown",
   "metadata": {
    "_cell_guid": "78adb7b4-a7e1-4d10-9cc2-6bf6477c63df",
    "_uuid": "b3741f5c14acdbd76e25725e2d73df5f2cb0a239",
    "colab_type": "text",
    "id": "D253k0hKJYGf"
   },
   "source": [
    "#### Suréchantillonnage: SMOTE\n",
    "\n",
    "SMOTE (Synthetic Minority Oversampling Technique) consiste à synthétiser des éléments pour la classe minoritaire, sur la base de ceux qui existent déjà. Cela fonctionne de manière aléatoire en sélectionnant un point de la classe minoritaire et en calculant les k-voisins les plus proches pour ce point (k-NN). Les points synthétiques sont ajoutés entre le point choisi et ses voisins.\n"
   ]
  },
  {
   "cell_type": "markdown",
   "metadata": {
    "_cell_guid": "5162646f-da82-4877-b6d8-25a8be7f42e9",
    "_uuid": "51697e21b7cdb4064dda18aa24e6ecf039b1132b",
    "colab_type": "text",
    "id": "B_4tNNw_JYGf"
   },
   "source": [
    " ![](https://raw.githubusercontent.com/rafjaa/machine_learning_fecib/master/src/static/img/smote.png)"
   ]
  },
  {
   "cell_type": "markdown",
   "metadata": {
    "_cell_guid": "9c0a0d78-8427-437e-aa24-ffe2bd12edb2",
    "_uuid": "9393851db694c178faf93615bf05addedf5d678b",
    "colab_type": "text",
    "id": "bpagjV0qJYGf"
   },
   "source": [
    "Nous allons utiliser `sampling_strategy = 'minority'` pour rééchantillonner la classe minoritaire."
   ]
  },
  {
   "cell_type": "code",
   "execution_count": 16,
   "metadata": {
    "colab": {},
    "colab_type": "code",
    "id": "F1QtSQAZJYGg"
   },
   "outputs": [
    {
     "data": {
      "image/png": "[encoded data removed]",
      "text/plain": [
       "<Figure size 432x288 with 1 Axes>"
      ]
     },
     "metadata": {
      "needs_background": "light"
     },
     "output_type": "display_data"
    }
   ],
   "source": [
    "from imblearn.over_sampling import SMOTE\n",
    "\n",
    "smote = SMOTE(sampling_strategy='minority')\n",
    "X_sm, y_sm = smote.fit_sample(X, y)\n",
    "\n",
    "plot_2d_space(X_sm, y_sm, 'SMOTE over-sampling')"
   ]
  },
  {
   "cell_type": "markdown",
   "metadata": {
    "_cell_guid": "20c3cdbb-a7c1-45a5-8dd9-84cff7d9af31",
    "_uuid": "d7ebbeb741ad6469cb7ebbced3499acd3c49856a",
    "colab_type": "text",
    "id": "Pcf-01CvJYGh"
   },
   "source": [
    "#### Suréchantillonnage suivi d'un sous-échantillonnage\n",
    "\n",
    "Nous pouvons maintenant combiner le suréchantillonnage et le sous-échantillonnage, en utilisant les techniques de liens SMOTE et Tomek:"
   ]
  },
  {
   "cell_type": "code",
   "execution_count": 17,
   "metadata": {
    "colab": {},
    "colab_type": "code",
    "id": "xb2sJvsdJYGh"
   },
   "outputs": [
    {
     "data": {
      "image/png": "[encoded data removed]",
      "text/plain": [
       "<Figure size 432x288 with 1 Axes>"
      ]
     },
     "metadata": {
      "needs_background": "light"
     },
     "output_type": "display_data"
    }
   ],
   "source": [
    "from imblearn.combine import SMOTETomek\n",
    "\n",
    "smt = SMOTETomek(sampling_strategy='auto')\n",
    "X_smt, y_smt = smt.fit_sample(X, y)\n",
    "\n",
    "plot_2d_space(X_smt, y_smt, 'SMOTE + Tomek links')"
   ]
  },
  {
   "cell_type": "markdown",
   "metadata": {
    "_cell_guid": "28d4431f-bc32-4cf0-988e-9df412cc22c1",
    "_uuid": "401bcb8e508e584feca3a34ecfb9de270fde951c",
    "colab_type": "text",
    "id": "9BhXXaOoJYGi"
   },
   "source": [
    "#### Plus de liens\n",
    "\n",
    "* Documentation imbalanced-learn :<br>\n",
    "http://contrib.scikit-learn.org/imbalanced-learn/stable/index.html\n",
    "* GitHub imbalanced-learn :<br>\n",
    "https://github.com/scikit-learn-contrib/imbalanced-learn\n",
    "* Comparaison de la combinaison des algorithmes de suréchantillonnage et de sous-échantillonnage:<br>\n",
    "http://contrib.scikit-learn.org/imbalanced-learn/stable/auto_examples/combine/plot_comparison_combine.html\n",
    "* Chawla, Nitesh V., et al. \"SMOTE: synthetic minority over-sampling technique.\" Journal of artificial intelligence research 16 (2002):<br>\n",
    "https://www.jair.org/media/953/live-953-2037-jair.pdf"
   ]
  },
  {
   "cell_type": "code",
   "execution_count": null,
   "metadata": {},
   "outputs": [],
   "source": []
  }
 ],
 "metadata": {
  "kernelspec": {
   "display_name": "Python 3",
   "language": "python",
   "name": "python3"
  },
  "language_info": {
   "codemirror_mode": {
    "name": "ipython",
    "version": 3
   },
   "file_extension": ".py",
   "mimetype": "text/x-python",
   "name": "python",
   "nbconvert_exporter": "python",
   "pygments_lexer": "ipython3",
   "version": "3.7.3"
  },
  "varInspector": {
   "cols": {
    "lenName": 16,
    "lenType": 16,
    "lenVar": 40
   },
   "kernels_config": {
    "python": {
     "delete_cmd_postfix": "",
     "delete_cmd_prefix": "del ",
     "library": "var_list.py",
     "varRefreshCmd": "print(var_dic_list())"
    },
    "r": {
     "delete_cmd_postfix": ") ",
     "delete_cmd_prefix": "rm(",
     "library": "var_list.r",
     "varRefreshCmd": "cat(var_dic_list()) "
    }
   },
   "types_to_exclude": [
    "module",
    "function",
    "builtin_function_or_method",
    "instance",
    "_Feature"
   ],
   "window_display": false
  }
 },
 "nbformat": 4,
 "nbformat_minor": 1
}
