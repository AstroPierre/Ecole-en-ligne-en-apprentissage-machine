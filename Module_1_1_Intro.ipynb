{
 "cells": [
  {
   "cell_type": "markdown",
   "metadata": {
    "colab_type": "text",
    "id": "5Blfm7PRJYA1"
   },
   "source": [
    "---\n",
    "# Introduction à l'apprentissage automatique\n",
    "---\n",
    "\n",
    "<center><img src=\"./img/mlprocess_3.png\" alt=\"Processus d'apprentissage automatique\" width=\"50%\"/></center>\n",
    "\n",
    "# Exemple 1 : Composantes d'un algorithme\n",
    "\n",
    "Dans cet exercice, l'objectif est de définir et comprendre le vocabulaire utilisé en apprentissage automatique et ce qu'il représente. Nous allons voir l'ensemble des données (_data set_), la fonction de perte (_loss function_), la différence entre le vrai risque et le risque empirique, la régularisation, la fonction objectif (_objective function_).\n",
    "\n",
    "\n",
    "Import des librairies nécessaires\n"
   ]
  },
  {
   "cell_type": "code",
   "execution_count": 1,
   "metadata": {
    "colab": {},
    "colab_type": "code",
    "id": "1LEstp5hJYA3"
   },
   "outputs": [],
   "source": [
    "%matplotlib inline\n",
    "# %matplotlib notebook # Pour la manipulation des images 3D\n",
    "\n",
    "import numpy as np\n",
    "import matplotlib.pyplot as plt\n",
    "from mpl_toolkits import mplot3d"
   ]
  },
  {
   "cell_type": "markdown",
   "metadata": {
    "colab_type": "text",
    "id": "EoZYXqvfJYA-"
   },
   "source": [
    "Choix de la fonction à apprendre pour l'exemple : ici un polynôme de degré 5."
   ]
  },
  {
   "cell_type": "code",
   "execution_count": 2,
   "metadata": {
    "colab": {},
    "colab_type": "code",
    "id": "_ZKNHsgvJYBB"
   },
   "outputs": [],
   "source": [
    "listeParamPoly = [0.03, 0.2, -1, -10, 100]"
   ]
  },
  {
   "cell_type": "code",
   "execution_count": 3,
   "metadata": {
    "colab": {},
    "colab_type": "code",
    "id": "EuHPZ_YgJYBH"
   },
   "outputs": [],
   "source": [
    "def generate_data(N):\n",
    "    x = np.random.uniform(-10,10,N)\n",
    "    y = np.polyval(listeParamPoly,x) + np.random.normal(0.0, 15.0, N)\n",
    "    return x.reshape(-1, 1), y"
   ]
  },
  {
   "cell_type": "markdown",
   "metadata": {
    "colab_type": "text",
    "id": "icKaGzgQJYBL"
   },
   "source": [
    "Génération des données : Choisir le nombre de points à utiliser :"
   ]
  },
  {
   "cell_type": "code",
   "execution_count": 4,
   "metadata": {
    "colab": {},
    "colab_type": "code",
    "id": "eSaJoHVHJYBM"
   },
   "outputs": [],
   "source": [
    "dataPoints = 20"
   ]
  },
  {
   "cell_type": "code",
   "execution_count": 5,
   "metadata": {
    "colab": {},
    "colab_type": "code",
    "id": "kw6ONosKJYBR"
   },
   "outputs": [],
   "source": [
    "X,y = generate_data(dataPoints)"
   ]
  },
  {
   "cell_type": "markdown",
   "metadata": {
    "colab_type": "text",
    "id": "wPtnQ6AiJYBV"
   },
   "source": [
    "## Visualisation des données "
   ]
  },
  {
   "cell_type": "code",
   "execution_count": 6,
   "metadata": {
    "colab": {},
    "colab_type": "code",
    "id": "nUrlgn3UJYBW"
   },
   "outputs": [
    {
     "data": {
      "image/png": "[encoded data removed]",
      "text/plain": [
       "<Figure size 432x288 with 1 Axes>"
      ]
     },
     "metadata": {
      "needs_background": "light"
     },
     "output_type": "display_data"
    }
   ],
   "source": [
    "fig, ax = plt.subplots()\n",
    "# Affichage des points\n",
    "ax.plot(X, y, 'o')\n",
    "# Affichage de la fonction échantillonnée\n",
    "ax.plot(np.linspace(-10,10,100), np.polyval(listeParamPoly,np.linspace(-10,10,100)), color='black', linewidth=3)\n",
    "# Axes & titre\n",
    "ax.set_title('Data set')\n",
    "ax.set_ylabel('y')\n",
    "ax.set_xlabel('x')\n",
    "plt.show()"
   ]
  },
  {
   "cell_type": "markdown",
   "metadata": {
    "colab_type": "text",
    "id": "OCn0Hw9jJYBa"
   },
   "source": [
    "## Définition de la fonction de perte\n",
    "\n",
    "Choisir une fonction de perte parmi les trois données dans la présentation ... ou une autre au choix.\n",
    "\n",
    "$$\\mathcal{L}(\\hat{y},y) = |\\hat{y}-y|^2$$"
   ]
  },
  {
   "cell_type": "code",
   "execution_count": 7,
   "metadata": {
    "colab": {},
    "colab_type": "code",
    "id": "oFLKSt9LJYBb"
   },
   "outputs": [],
   "source": [
    "L = lambda y1, y2: np.abs(y1-y2)**2"
   ]
  },
  {
   "cell_type": "markdown",
   "metadata": {},
   "source": [
    "Vous remarquerez que vous pouvez simplement passer de la perte quadratique à la perte absolue en enlevant le `**2` à la fin de la fonction et en rééxécutant la cellule."
   ]
  },
  {
   "cell_type": "markdown",
   "metadata": {
    "colab_type": "text",
    "id": "5THZJHRzJYBf"
   },
   "source": [
    "## Définition du modèle prédictif \n",
    "\n",
    "On prend une régression linéaire pour l'exemple. Si vous souhaitez changer ça pour un autre modèle c'est ici : \n",
    "$$\\hat{y} = \\theta_0\\cdot x + \\theta_1$$\n",
    "\n",
    "Si on souhaitait prendre un modèle quadratique, on utiliserait : \n",
    "$$\\hat{y} = \\theta_0\\cdot x^2 + \\theta_1\\cdot x + \\theta_2$$\n",
    "\n",
    "N'hésitez pas à changer le code suivant, une fois rendu à la fin de l'exercice; vous pourriez apprendre encore plus! ;-)\n",
    "\n",
    "Seul souci à prévoir : vous ne pourrez plus faire la visualisation 3D plus bas, car on aurait besoin de faire une visualisation en 4 dimensions.\n"
   ]
  },
  {
   "cell_type": "code",
   "execution_count": 8,
   "metadata": {
    "colab": {},
    "colab_type": "code",
    "id": "9EQ5nLwDJYBf"
   },
   "outputs": [],
   "source": [
    "def h(x, theta):\n",
    "    y = theta[0]*x + theta[1]\n",
    "    return y"
   ]
  },
  {
   "cell_type": "markdown",
   "metadata": {
    "colab_type": "text",
    "id": "xIi11pV6JYBj"
   },
   "source": [
    "## La fonction de risque empirique\n",
    "\n",
    "Le risque empirique est calculé à partir de la fonction de perte et du modèle choisis sur les données réelles.\n",
    "\n",
    "Ici, nous avons choisi de prendre la moyenne des erreurs $\\mathcal{L}(\\hat{y},y)$ (MAE, MSE, ...) mais d'autres formes existent avec le $\\min$ ou le $\\max$.\n"
   ]
  },
  {
   "cell_type": "code",
   "execution_count": 9,
   "metadata": {
    "colab": {},
    "colab_type": "code",
    "id": "3497aridJYBk"
   },
   "outputs": [],
   "source": [
    "def risque_empirique(L,y,X,theta):\n",
    "    loss = 0\n",
    "    for i in range(0,np.max(y.shape)):\n",
    "        y_hat = h(X[i], theta)\n",
    "        loss = loss + L(y[i], y_hat)\n",
    "    return loss/float(np.max(y.shape))"
   ]
  },
  {
   "cell_type": "markdown",
   "metadata": {
    "colab_type": "text",
    "id": "DoTKp1ONJYBn"
   },
   "source": [
    "## Définition d'une fonction de régularisation\n",
    "\n",
    "Ici une régularisation $L_1$ est choisie. Vous pouvez en prendre une autre (la $L_2$ par exemple)."
   ]
  },
  {
   "cell_type": "code",
   "execution_count": 10,
   "metadata": {
    "colab": {},
    "colab_type": "code",
    "id": "wKV5KoJCJYBo"
   },
   "outputs": [],
   "source": [
    "def regularisation(theta):\n",
    "    return np.sum(np.abs(theta)) #L1\n",
    "#    return ??? #L2"
   ]
  },
  {
   "cell_type": "markdown",
   "metadata": {
    "colab_type": "text",
    "id": "_W45crbAJYBs"
   },
   "source": [
    "## La fonction objectif\n",
    "\n",
    "C'est la somme (pondérée) du risque empirique et de la régularisation."
   ]
  },
  {
   "cell_type": "code",
   "execution_count": 11,
   "metadata": {
    "colab": {},
    "colab_type": "code",
    "id": "ca8K1gZFJYBs"
   },
   "outputs": [],
   "source": [
    "def objective(L,y,X,r,theta):\n",
    "    return risque_empirique(L,y,X,theta) + r*regularisation(theta)"
   ]
  },
  {
   "cell_type": "markdown",
   "metadata": {
    "colab_type": "text",
    "id": "NopZwyfPJYBx"
   },
   "source": [
    "## Calcul exhaustif de la fonction objectif (généralement intractable)\n",
    "\n",
    "On calcule la fonction objectif pour tous les paramètres possibles. Avec deux ou trois paramètres c'est encore possible ... mais ce n'est visualisable qu'à deux.\n"
   ]
  },
  {
   "cell_type": "code",
   "execution_count": 12,
   "metadata": {
    "colab": {},
    "colab_type": "code",
    "id": "BAOhLIcsJYBy"
   },
   "outputs": [],
   "source": [
    "M = 25\n",
    "linspace_A = np.linspace(-200, 200, M)\n",
    "linspace_b = np.linspace(-200, 200, M)\n",
    "R = np.zeros((M, M))\n",
    "r = 0.1\n",
    "for i in range(0,M):\n",
    "    for j in range(0,M):\n",
    "        theta = np.array([linspace_A[i], linspace_b[j]])\n",
    "        R[i,j] = np.log(objective(L,y,X,r,theta)) "
   ]
  },
  {
   "cell_type": "markdown",
   "metadata": {
    "colab_type": "text",
    "id": "z3qWBgwKJYB1"
   },
   "source": [
    "## Visualisation de la fonction objectif\n",
    "\n",
    "Une fonction objectif à deux paramètres peut être visualisée, mais pas au-delà.  \n"
   ]
  },
  {
   "cell_type": "code",
   "execution_count": 13,
   "metadata": {
    "colab": {},
    "colab_type": "code",
    "id": "Yj3lJ6BtJYB2"
   },
   "outputs": [
    {
     "data": {
      "image/png": "[encoded data removed]",
      "text/plain": [
       "<Figure size 432x288 with 1 Axes>"
      ]
     },
     "metadata": {
      "needs_background": "light"
     },
     "output_type": "display_data"
    }
   ],
   "source": [
    "fig = plt.figure()\n",
    "ax = plt.axes(projection='3d')\n",
    "mesh_A, mesh_b = np.meshgrid(linspace_A, linspace_b)\n",
    "ax.plot_surface(mesh_A, mesh_b, R)\n",
    "plt.show()"
   ]
  },
  {
   "cell_type": "markdown",
   "metadata": {
    "colab_type": "text",
    "id": "kny-YamYJYB5"
   },
   "source": [
    "## Optimisation avec SciPy\n",
    "\n",
    "On n'ouvrira pas dans la boîte de Pandore de l'optimisation lors de cette formation. Nous allons plutôt utiliser un des outils de SciPy, la méthode [`nelder-mead`](https://en.wikipedia.org/wiki/Nelder%E2%80%93Mead_method).\n"
   ]
  },
  {
   "cell_type": "code",
   "execution_count": 14,
   "metadata": {
    "colab": {},
    "colab_type": "code",
    "id": "_CHbsNRfJYB5"
   },
   "outputs": [],
   "source": [
    "from scipy.optimize import minimize"
   ]
  },
  {
   "cell_type": "code",
   "execution_count": 15,
   "metadata": {
    "colab": {},
    "colab_type": "code",
    "id": "_ctQIZXDJYB9"
   },
   "outputs": [
    {
     "name": "stdout",
     "output_type": "stream",
     "text": [
      "Optimization terminated successfully.\n",
      "         Current function value: 1139.336191\n",
      "         Iterations: 125\n",
      "         Function evaluations: 253\n"
     ]
    }
   ],
   "source": [
    "r = 0.1\n",
    "theta0 = np.array([0.0, 0.0])\n",
    "f = lambda theta: objective(L,y,X,r,theta)\n",
    "es = minimize(f, theta0, method='nelder-mead', options={'xtol': 1e-8, 'disp': True})\n",
    "theta_opt = es.x"
   ]
  },
  {
   "cell_type": "code",
   "execution_count": 16,
   "metadata": {
    "colab": {},
    "colab_type": "code",
    "id": "zr0847LmJYCA"
   },
   "outputs": [
    {
     "name": "stdout",
     "output_type": "stream",
     "text": [
      "Les paramètres estimés sont :\n",
      "A = 0.3080, b = 112.6976\n"
     ]
    }
   ],
   "source": [
    "print('Les paramètres estimés sont :')\n",
    "print('A = %2.4f, b = %2.4f' % (theta_opt[0], theta_opt[1]))"
   ]
  },
  {
   "cell_type": "markdown",
   "metadata": {
    "colab_type": "text",
    "id": "m01A-N4YJYCC"
   },
   "source": [
    "## Visualisation du modèle appris"
   ]
  },
  {
   "cell_type": "code",
   "execution_count": 17,
   "metadata": {
    "colab": {},
    "colab_type": "code",
    "id": "LhxqfRBBJYCD"
   },
   "outputs": [
    {
     "data": {
      "image/png": "[encoded data removed]",
      "text/plain": [
       "<Figure size 432x288 with 1 Axes>"
      ]
     },
     "metadata": {
      "needs_background": "light"
     },
     "output_type": "display_data"
    }
   ],
   "source": [
    "fig, ax = plt.subplots()\n",
    "ax.plot(X, y, 'o')\n",
    "ax.set_title('Polynôme')\n",
    "ax.set_ylabel('y')\n",
    "ax.set_xlabel('x')\n",
    "\n",
    "linspace_x = np.linspace(-10, 10, num=100)\n",
    "A = theta_opt[0]\n",
    "b = theta_opt[1]\n",
    "h_x = h(linspace_x,theta_opt)\n",
    "ax.plot(linspace_x, h_x, color='red', linewidth=3)\n",
    "\n",
    "plt.show()"
   ]
  },
  {
   "cell_type": "markdown",
   "metadata": {
    "colab_type": "text",
    "id": "ElfBb5nMJYCG"
   },
   "source": [
    "## Calcul du \"vrai\" risque\n",
    "\n",
    "Encore une fois, c'est rarement possible de pouvoir le faire. Il faudrait avoir accès à la distribution réelle des données avec laquelle on interroge notre modèle afin d'avoir une bonne estimation du risque. \n"
   ]
  },
  {
   "cell_type": "code",
   "execution_count": 18,
   "metadata": {
    "colab": {},
    "colab_type": "code",
    "id": "-Rm7ImRbJYCG"
   },
   "outputs": [
    {
     "name": "stdout",
     "output_type": "stream",
     "text": [
      "Le vrai risque du modèle appris est : 4135.24\n"
     ]
    }
   ],
   "source": [
    "X_test, y_test = generate_data(1000000)\n",
    "vrai_risque = risque_empirique(L,y_test,X_test,theta_opt)\n",
    "print('Le vrai risque du modèle appris est : %5.2f' % vrai_risque[0])"
   ]
  },
  {
   "cell_type": "markdown",
   "metadata": {
    "colab_type": "text",
    "id": "w7y2Eq4QJYCJ"
   },
   "source": [
    "# Exemple 2 : Augmentation de la capacité d'un modèle"
   ]
  },
  {
   "cell_type": "markdown",
   "metadata": {
    "colab_type": "text",
    "id": "8nGaTxvXJYCK"
   },
   "source": [
    "## Définition des fonctions de caractéristiques\n",
    "\n",
    "Ajoutez dans le vecteur $\\varphi$ autant de fonctions de caractéristiques que vous le souhaitez (idéalement non-linéaires)."
   ]
  },
  {
   "cell_type": "code",
   "execution_count": 19,
   "metadata": {
    "colab": {},
    "colab_type": "code",
    "id": "JkcG5RwjJYCK"
   },
   "outputs": [],
   "source": [
    "phi_names = [\n",
    "       \"x: x**0\", \n",
    "       #\"x: x**1\",\n",
    "       #...d'autres ?\n",
    "       #\"x: np.abs(x)\",\n",
    "       #\"x: x > 0.0\",\n",
    "       #...au choix ?\n",
    "       #\"x: np.cos(x)\",\n",
    "       #\"x: np.sin(0.1*x)\"\n",
    "       #...ou encore ?\n",
    "      ]\n",
    "\n",
    "phi = [\n",
    "       lambda x: x**0, #...en haut c'était juste les noms pour l'affichage ... il faut les coder maintenant !\n",
    "      ]"
   ]
  },
  {
   "cell_type": "markdown",
   "metadata": {
    "colab_type": "text",
    "id": "Y5Nj4IqJJYCO"
   },
   "source": [
    "On va utiliser ce vecteur pour faire la projection des données dans l'espace des caractéristiques. Voici la fonction de projection:"
   ]
  },
  {
   "cell_type": "code",
   "execution_count": 20,
   "metadata": {
    "colab": {},
    "colab_type": "code",
    "id": "z-r_XER_JYCO"
   },
   "outputs": [],
   "source": [
    "def feature_space_projection(X, phi):\n",
    "    X_features = []\n",
    "    for i in range(0, len(phi)):\n",
    "        X_features.append(np.apply_along_axis(phi[i], 0, X))\n",
    "    X_augmented = np.concatenate(X_features, axis=1)\n",
    "    return X_augmented"
   ]
  },
  {
   "cell_type": "markdown",
   "metadata": {
    "colab_type": "text",
    "id": "izs4N-YwJYCR"
   },
   "source": [
    "## Calcul de la projection dans l'espace des caractéristiques\n",
    "\n",
    "Calcul de la projection puis affichage de notre entrée dans le nouvel espace."
   ]
  },
  {
   "cell_type": "code",
   "execution_count": 21,
   "metadata": {
    "colab": {},
    "colab_type": "code",
    "id": "svF6TZVfJYCR"
   },
   "outputs": [],
   "source": [
    "X_augmented = feature_space_projection(X, phi)"
   ]
  },
  {
   "cell_type": "code",
   "execution_count": 22,
   "metadata": {
    "colab": {},
    "colab_type": "code",
    "id": "DJEzfVicJYCV"
   },
   "outputs": [
    {
     "data": {
      "text/plain": [
       "array([1.])"
      ]
     },
     "execution_count": 22,
     "metadata": {},
     "output_type": "execute_result"
    }
   ],
   "source": [
    "X_augmented[0,:]"
   ]
  },
  {
   "cell_type": "markdown",
   "metadata": {
    "colab_type": "text",
    "id": "nV80KgVmJYCX"
   },
   "source": [
    "## Entraînement du modèle\n",
    "\n",
    "Maintenant que nous avons plus de fonctions de caractéristiques dans notre boîte à outils, on va utiliser le modèle de régression linéaire [`linear_model.LinearRegression()`](http://scikit-learn.org/stable/modules/generated/sklearn.linear_model.LinearRegression.html#sklearn.linear_model.LinearRegression) de Scikit-Learn. On pourrait également utiliser d'autres modèles [linéaires](http://scikit-learn.org/stable/modules/classes.html#module-sklearn.linear_model).\n"
   ]
  },
  {
   "cell_type": "code",
   "execution_count": 23,
   "metadata": {
    "colab": {},
    "colab_type": "code",
    "id": "GSI2VpNAJYCY"
   },
   "outputs": [
    {
     "data": {
      "text/plain": [
       "LinearRegression(copy_X=True, fit_intercept=True, n_jobs=None, normalize=False)"
      ]
     },
     "execution_count": 23,
     "metadata": {},
     "output_type": "execute_result"
    }
   ],
   "source": [
    "from sklearn import linear_model\n",
    "\n",
    "reg = linear_model.LinearRegression()\n",
    "reg.fit(X_augmented, y)"
   ]
  },
  {
   "cell_type": "markdown",
   "metadata": {
    "colab_type": "text",
    "id": "5sUMC-sDJYCb"
   },
   "source": [
    "## Calcul de l'erreur sur l'ensemble d'entraînement vs le \"vrai\" risque"
   ]
  },
  {
   "cell_type": "code",
   "execution_count": 24,
   "metadata": {
    "colab": {},
    "colab_type": "code",
    "id": "rC4DMqbhJYCb"
   },
   "outputs": [],
   "source": [
    "from sklearn.metrics import mean_squared_error"
   ]
  },
  {
   "cell_type": "markdown",
   "metadata": {
    "colab_type": "text",
    "id": "Mq3z_FA6JYCe"
   },
   "source": [
    "### Erreur d'entraînement\n",
    "\n",
    "Calcul de la fonction de perte [MSE](http://scikit-learn.org/stable/modules/generated/sklearn.metrics.mean_squared_error.html) sur les données d'entraînement:"
   ]
  },
  {
   "cell_type": "code",
   "execution_count": 25,
   "metadata": {
    "colab": {},
    "colab_type": "code",
    "id": "4dU45OtJJYCg"
   },
   "outputs": [
    {
     "name": "stdout",
     "output_type": "stream",
     "text": [
      "L'erreur d'entraînement du modèle appris est : 1130.70\n"
     ]
    }
   ],
   "source": [
    "y_pred = reg.predict(X_augmented)\n",
    "training_error = mean_squared_error(y, y_pred)\n",
    "print(\"L'erreur d'entraînement du modèle appris est : %5.2f\" % training_error)"
   ]
  },
  {
   "cell_type": "markdown",
   "metadata": {
    "colab_type": "text",
    "id": "z2RFk8qjJYCi"
   },
   "source": [
    "### Estimation du vrai risque\n",
    "\n",
    "Et si on valide (non réalistiquement) sur la *vraie* distribution des données:"
   ]
  },
  {
   "cell_type": "code",
   "execution_count": 26,
   "metadata": {
    "colab": {},
    "colab_type": "code",
    "id": "zImPA5LAJYCj"
   },
   "outputs": [
    {
     "name": "stdout",
     "output_type": "stream",
     "text": [
      "Vrai risque du modèle appris est : 4176.69\n"
     ]
    }
   ],
   "source": [
    "X_test,y_test = generate_data(10000000)\n",
    "X_test_augmented = feature_space_projection(X_test, phi)\n",
    "y_test_pred = reg.predict(X_test_augmented)\n",
    "test_error = mean_squared_error(y_test, y_test_pred)\n",
    "print(\"Vrai risque du modèle appris est : %5.2f\" % test_error)"
   ]
  },
  {
   "cell_type": "markdown",
   "metadata": {
    "colab_type": "text",
    "id": "ZkNLSTc6JYCl"
   },
   "source": [
    "## Attention au surapprentissage\n",
    "\n",
    "Lorsque le nombre de caractéristiques utilisé est très important, la capacité du modèle augmente énormément. Le modèle finit par apprendre *par coeur* les données.\n"
   ]
  },
  {
   "cell_type": "code",
   "execution_count": 27,
   "metadata": {
    "colab": {},
    "colab_type": "code",
    "id": "i7aLEeK3JYCm"
   },
   "outputs": [
    {
     "data": {
      "image/png": "[encoded data removed]",
      "text/plain": [
       "<Figure size 432x288 with 1 Axes>"
      ]
     },
     "metadata": {
      "needs_background": "light"
     },
     "output_type": "display_data"
    }
   ],
   "source": [
    "fig, ax = plt.subplots()\n",
    "ax.plot(X, y, 'o')\n",
    "ax.set_title('Polynôme')\n",
    "ax.set_ylabel('y')\n",
    "ax.set_xlabel('x')\n",
    "\n",
    "linspace_x = np.linspace(-10, 10, num=100000)\n",
    "linspace_x = np.expand_dims(linspace_x, axis=1)\n",
    "\n",
    "linspace_X_augmented = feature_space_projection(linspace_x, phi)\n",
    "\n",
    "y_pred = reg.predict(linspace_X_augmented)\n",
    "ax.plot(linspace_x, y_pred, color='red', linewidth=3)\n",
    "\n",
    "plt.show()"
   ]
  },
  {
   "cell_type": "markdown",
   "metadata": {
    "colab_type": "text",
    "id": "8zn6HJOvJYCp"
   },
   "source": [
    "## Régularisation et hyperparamètres\n",
    "\n",
    "Il nous faut alors soit réduire le nombres de caractéristiques (et donc la dimensionnalité de l'espace de projection), soit *régulariser* nos paramètres pour assurer une bonne *généralisation*.\n",
    "\n",
    "On va utiliser ici [ElasticNet](http://scikit-learn.org/stable/modules/generated/sklearn.linear_model.ElasticNet.html#sklearn.linear_model.ElasticNet) de `scikit-learn` qui permet de combiner les normes $L_1$ et $L_2$ pour la régularisation.\n",
    "\n",
    "Vous pouvez chosir ici le taux de régularisation et la proportion de régularisation $L_1$ vs $L_2$."
   ]
  },
  {
   "cell_type": "code",
   "execution_count": 28,
   "metadata": {
    "colab": {},
    "colab_type": "code",
    "id": "B87unsXNJYCp"
   },
   "outputs": [],
   "source": [
    "taux_de_regularisation = 1.0\n",
    "ratio_normes = 0.5"
   ]
  },
  {
   "cell_type": "markdown",
   "metadata": {
    "colab_type": "text",
    "id": "1lVZqQSPJYCr"
   },
   "source": [
    "On définit ensuite le modèle et on l'entraîne."
   ]
  },
  {
   "cell_type": "code",
   "execution_count": 29,
   "metadata": {
    "colab": {},
    "colab_type": "code",
    "id": "pCGo4x7aJYCr"
   },
   "outputs": [
    {
     "data": {
      "text/plain": [
       "ElasticNet(alpha=1.0, copy_X=True, fit_intercept=True, l1_ratio=0.5,\n",
       "           max_iter=10000, normalize=False, positive=False, precompute=False,\n",
       "           random_state=None, selection='random', tol=0.0001, warm_start=False)"
      ]
     },
     "execution_count": 29,
     "metadata": {},
     "output_type": "execute_result"
    }
   ],
   "source": [
    "reg2 = linear_model.ElasticNet(alpha=taux_de_regularisation, copy_X=True, fit_intercept=True, l1_ratio=ratio_normes,\n",
    "      max_iter=10000, normalize=False, positive=False, precompute=False,\n",
    "      random_state=None, selection='random', tol=0.0001, warm_start=False)\n",
    "reg2.fit(X_augmented, y)"
   ]
  },
  {
   "cell_type": "markdown",
   "metadata": {
    "colab_type": "text",
    "id": "sbd5CKKKJYCt"
   },
   "source": [
    "Calcul du risque empirique : "
   ]
  },
  {
   "cell_type": "code",
   "execution_count": 30,
   "metadata": {
    "colab": {},
    "colab_type": "code",
    "id": "osTBeIq0JYCu"
   },
   "outputs": [
    {
     "name": "stdout",
     "output_type": "stream",
     "text": [
      "L'erreur d'entraînement du modèle appris est : 1130.70\n"
     ]
    }
   ],
   "source": [
    "y_pred = reg2.predict(X_augmented)\n",
    "training_error = mean_squared_error(y, y_pred)\n",
    "print(\"L'erreur d'entraînement du modèle appris est : %5.2f\" % training_error)"
   ]
  },
  {
   "cell_type": "markdown",
   "metadata": {
    "colab_type": "text",
    "id": "bg0Lei9PJYCx"
   },
   "source": [
    "Calcul du *vrai* risque:"
   ]
  },
  {
   "cell_type": "code",
   "execution_count": 31,
   "metadata": {
    "colab": {},
    "colab_type": "code",
    "id": "_jpYwV49JYCy"
   },
   "outputs": [
    {
     "name": "stdout",
     "output_type": "stream",
     "text": [
      "Vrai risque du modèle appris est : 4364.11\n"
     ]
    }
   ],
   "source": [
    "X_test,y_test = generate_data(10000)\n",
    "X_test_augmented = feature_space_projection(X_test, phi)\n",
    "y_test_pred = reg2.predict(X_test_augmented)\n",
    "test_error = mean_squared_error(y_test, y_test_pred)\n",
    "print(\"Vrai risque du modèle appris est : %5.2f\" % test_error)"
   ]
  },
  {
   "cell_type": "markdown",
   "metadata": {
    "colab_type": "text",
    "id": "dn95IH9MJYC0"
   },
   "source": [
    "Affichage du modèle régularisé :"
   ]
  },
  {
   "cell_type": "code",
   "execution_count": 32,
   "metadata": {
    "colab": {},
    "colab_type": "code",
    "id": "Ug-knbyZJYC0"
   },
   "outputs": [
    {
     "data": {
      "image/png": "[encoded data removed]",
      "text/plain": [
       "<Figure size 432x288 with 1 Axes>"
      ]
     },
     "metadata": {
      "needs_background": "light"
     },
     "output_type": "display_data"
    }
   ],
   "source": [
    "fig, ax = plt.subplots()\n",
    "ax.plot(X, y, 'o')\n",
    "ax.set_title('Polynôme')\n",
    "ax.set_ylabel('y')\n",
    "ax.set_xlabel('x')\n",
    "\n",
    "linspace_x = np.linspace(-10, 10, num=10000)\n",
    "linspace_x = np.expand_dims(linspace_x, axis=1)\n",
    "\n",
    "linspace_X_augmented = feature_space_projection(linspace_x, phi)\n",
    "\n",
    "y_pred = reg2.predict(linspace_X_augmented)\n",
    "ax.plot(linspace_x, y_pred, color='red', linewidth=3)\n",
    "\n",
    "plt.show()"
   ]
  },
  {
   "cell_type": "markdown",
   "metadata": {
    "colab_type": "text",
    "id": "xQAHyayxJYC2"
   },
   "source": [
    "Valeurs des paramètres de régularisation choisis par ElasticNet:\n",
    "\n",
    "**Note :** Si vous avez des erreurs ici, assurez vous avant toute chose que le nombre de noms définis dans le dictionnaire `phi_names` est le même que le nombre de fonctions définies dans le dictionnaire `phi`."
   ]
  },
  {
   "cell_type": "code",
   "execution_count": 33,
   "metadata": {
    "colab": {},
    "colab_type": "code",
    "id": "7dsp59AGJYC3"
   },
   "outputs": [
    {
     "name": "stdout",
     "output_type": "stream",
     "text": [
      "'  names  coefs\n",
      " x: x**0    0.0\n"
     ]
    }
   ],
   "source": [
    "import pandas as pd\n",
    "\n",
    "print('\\''+pd.DataFrame({'names':phi_names,'coefs':reg2.coef_}).to_string(index=False)[1:])"
   ]
  },
  {
   "cell_type": "markdown",
   "metadata": {
    "colab_type": "text",
    "id": "h2aZVuH3JYC5"
   },
   "source": [
    "**Pouvez-vous identifier quels sont les fonctions de caractéristiques inutiles ?**\n",
    "\n",
    "Si vous ne comprenez pas comment ou pourquoi, n'hésitez pas à venir en discuter dans le forum !"
   ]
  },
  {
   "cell_type": "markdown",
   "metadata": {
    "colab_type": "text",
    "id": "Umht3EKKJYC6"
   },
   "source": [
    "# Exemple 3 : Méthodologie de validation et de test"
   ]
  },
  {
   "cell_type": "code",
   "execution_count": 34,
   "metadata": {
    "colab": {},
    "colab_type": "code",
    "id": "sxkBSA5QJYC6"
   },
   "outputs": [],
   "source": [
    "from sklearn.model_selection import train_test_split, cross_val_score, GridSearchCV, KFold"
   ]
  },
  {
   "cell_type": "code",
   "execution_count": 35,
   "metadata": {
    "colab": {},
    "colab_type": "code",
    "id": "IO_3B2SXJYC7"
   },
   "outputs": [],
   "source": [
    "def confidence_interval(y, y_pred):\n",
    "    n = len(y)\n",
    "    s = np.sqrt(np.var(mean_squared_error(np.expand_dims(y,1).transpose(), np.expand_dims(y_pred,1).transpose(),\n",
    "                          multioutput='raw_values'), ddof=1))\n",
    "    return 1.96*s/np.sqrt(n)"
   ]
  },
  {
   "cell_type": "markdown",
   "metadata": {
    "colab_type": "text",
    "id": "VFS21KSWJYC-"
   },
   "source": [
    "Nouvelle génération des données utilisant cette fois-ci plus de points. Le but étant d'obtenir de bons intervalles de confiance. Choisir le nombre de points à utiliser :"
   ]
  },
  {
   "cell_type": "code",
   "execution_count": 36,
   "metadata": {
    "colab": {},
    "colab_type": "code",
    "id": "g0tC6BOXJYC-"
   },
   "outputs": [],
   "source": [
    "dataPoints = 200"
   ]
  },
  {
   "cell_type": "code",
   "execution_count": 37,
   "metadata": {
    "colab": {},
    "colab_type": "code",
    "id": "5E4bkjSrJYDA"
   },
   "outputs": [],
   "source": [
    "X,y = generate_data(dataPoints)"
   ]
  },
  {
   "cell_type": "code",
   "execution_count": 38,
   "metadata": {
    "colab": {},
    "colab_type": "code",
    "id": "g7UIluMUJYDJ"
   },
   "outputs": [
    {
     "data": {
      "image/png": "[encoded data removed]",
      "text/plain": [
       "<Figure size 432x288 with 1 Axes>"
      ]
     },
     "metadata": {
      "needs_background": "light"
     },
     "output_type": "display_data"
    }
   ],
   "source": [
    "fig, ax = plt.subplots()\n",
    "ax.plot(X, y, 'o')\n",
    "ax.plot(np.linspace(-10,10,100), np.polyval(listeParamPoly,np.linspace(-10,10,100)), color='black', linewidth=3)\n",
    "ax.set_title('Data set')\n",
    "ax.set_ylabel('y')\n",
    "ax.set_xlabel('x')\n",
    "plt.show()"
   ]
  },
  {
   "cell_type": "markdown",
   "metadata": {
    "colab_type": "text",
    "id": "zr_hjpSdJYDL"
   },
   "source": [
    "## Définition des fonctions de caractéristiques\n",
    "\n",
    "Reprenez ici vos fonctions de caractéristiques de l'exercice précédent."
   ]
  },
  {
   "cell_type": "code",
   "execution_count": 39,
   "metadata": {
    "colab": {},
    "colab_type": "code",
    "id": "8vNXvaONJYDM"
   },
   "outputs": [],
   "source": [
    "# Choisissez celles qui vous semblent les plus pertinentes :-)\n",
    "phi = [\n",
    "    lambda x: x**0, #...Celle ci est pas très utile il me semble ...\n",
    "    #...\n",
    "]"
   ]
  },
  {
   "cell_type": "markdown",
   "metadata": {
    "colab_type": "text",
    "id": "T2upVkX5JYDP"
   },
   "source": [
    "## Préparation des données de test\n",
    "\n",
    "Après projection dans l'espace des caractéristiques, nous découpons notre dataset en trois parties."
   ]
  },
  {
   "cell_type": "code",
   "execution_count": 40,
   "metadata": {
    "colab": {},
    "colab_type": "code",
    "id": "Ok2MjsvEJYDP"
   },
   "outputs": [],
   "source": [
    "X_phi = feature_space_projection(X, phi)"
   ]
  },
  {
   "cell_type": "markdown",
   "metadata": {
    "colab_type": "text",
    "id": "Gv05TNbrJYDR"
   },
   "source": [
    "### splits : train(50%) - validation(25%) - test(25%)\n",
    "\n",
    "Un ensemble d'entrainement (_train_) va nous permettre d'évaluer nos modèles, un ensemble de _validation_ va nous permettre d'évaluer ceux-ci et de choisir le meilleur sur un ensemble de données jamais vu, et un ensemble de _test_ va fournir l'évaluation finale en mode **réel**.\n",
    "\n",
    "Les ensembles _validation_ et _test_ sont identiques (sous l'hypothèse [IID](https://en.wikipedia.org/wiki/Independent_and_identically_distributed_random_variables)) et peuvent être permutés sans problème pour la méthodologie (mais au début seulement, après il est interdit d'utiliser l'ensemble _test_ avant la fin).\n"
   ]
  },
  {
   "cell_type": "code",
   "execution_count": 41,
   "metadata": {
    "colab": {},
    "colab_type": "code",
    "id": "5SO-NoPnJYDR"
   },
   "outputs": [],
   "source": [
    "X_, X_test, y_, y_test = train_test_split(X_phi, y, test_size=0.25)\n",
    "X_train, X_validation, y_train, y_validation = train_test_split(X_, y_, test_size=0.33)"
   ]
  },
  {
   "cell_type": "markdown",
   "metadata": {
    "colab_type": "text",
    "id": "2MzOmVuhJYDS"
   },
   "source": [
    "### Entraînement du modèle sur les données d'entraînement\n",
    "\n",
    "Vous pouvez ici changer les hyperparamètres pour en voir l'effet sur les différentes erreurs et sous-ensembles de données. Vous pouvez aussi essayer d'autres [modèles linéaires](https://scikit-learn.org/stable/modules/classes.html#module-sklearn.linear_model) (mais juste des régresseurs hein !).\n"
   ]
  },
  {
   "cell_type": "code",
   "execution_count": 42,
   "metadata": {
    "colab": {},
    "colab_type": "code",
    "id": "fb8QMkP3JYDU"
   },
   "outputs": [
    {
     "data": {
      "text/plain": [
       "ElasticNet(alpha=0.001, copy_X=True, fit_intercept=True, l1_ratio=0.5,\n",
       "           max_iter=100000, normalize=False, positive=False, precompute=False,\n",
       "           random_state=None, selection='random', tol=0.0001, warm_start=False)"
      ]
     },
     "execution_count": 42,
     "metadata": {},
     "output_type": "execute_result"
    }
   ],
   "source": [
    "reg2 = linear_model.ElasticNet(alpha=0.001, copy_X=True, fit_intercept=True, l1_ratio=0.5,\n",
    "      max_iter=100000, normalize=False, positive=False, precompute=False,\n",
    "      random_state=None, selection='random', tol=0.0001, warm_start=False)\n",
    "reg2.fit(X_train, y_train)"
   ]
  },
  {
   "cell_type": "markdown",
   "metadata": {
    "colab_type": "text",
    "id": "4qlk23EKJYDW"
   },
   "source": [
    "### Évaluation du modèle sur l'ensemble d'entraînement (training loss, erreur d'entrainement)"
   ]
  },
  {
   "cell_type": "code",
   "execution_count": 43,
   "metadata": {
    "colab": {},
    "colab_type": "code",
    "id": "ljlzukE-JYDW"
   },
   "outputs": [
    {
     "name": "stdout",
     "output_type": "stream",
     "text": [
      "L'erreur d'entraînement du modèle appris est : 4658.74\n"
     ]
    }
   ],
   "source": [
    "y_train_pred = reg2.predict(X_train)\n",
    "training_error = mean_squared_error(y_train, y_train_pred)\n",
    "print(\"L'erreur d'entraînement du modèle appris est : %5.2f\" % training_error)"
   ]
  },
  {
   "cell_type": "markdown",
   "metadata": {
    "colab_type": "text",
    "id": "ezKAGQMXJYDY"
   },
   "source": [
    "### Évaluation du modèle sur l'ensemble de validation (validation loss, erreur de validation)"
   ]
  },
  {
   "cell_type": "code",
   "execution_count": 44,
   "metadata": {
    "colab": {},
    "colab_type": "code",
    "id": "_oWIiAYeJYDY"
   },
   "outputs": [
    {
     "name": "stdout",
     "output_type": "stream",
     "text": [
      "L'erreur de validation du modèle appris est : 1967.01\n"
     ]
    }
   ],
   "source": [
    "y_val_pred = reg2.predict(X_validation)\n",
    "validation_error = mean_squared_error(y_validation, y_val_pred)\n",
    "print(\"L'erreur de validation du modèle appris est : %5.2f\" % validation_error)"
   ]
  },
  {
   "cell_type": "markdown",
   "metadata": {
    "colab_type": "text",
    "id": "HwhFcqzRJYDb"
   },
   "source": [
    "### Évaluation du modèle sur l'ensemble de test (test loss, erreur de test)"
   ]
  },
  {
   "cell_type": "code",
   "execution_count": 45,
   "metadata": {
    "colab": {},
    "colab_type": "code",
    "id": "CMJ41gKqJYDb"
   },
   "outputs": [
    {
     "name": "stdout",
     "output_type": "stream",
     "text": [
      "L'erreur de test du modèle appris est : 5272.25\n"
     ]
    }
   ],
   "source": [
    "y_test_pred = reg2.predict(X_test)\n",
    "test_error = mean_squared_error(y_test, y_test_pred)\n",
    "print(\"L'erreur de test du modèle appris est : %5.2f\" % test_error)"
   ]
  },
  {
   "cell_type": "markdown",
   "metadata": {
    "colab_type": "text",
    "id": "u2SbomOxJYDd"
   },
   "source": [
    "### Estimation du vrai risque du modèle"
   ]
  },
  {
   "cell_type": "code",
   "execution_count": 46,
   "metadata": {
    "colab": {},
    "colab_type": "code",
    "id": "wj4Ke4elJYDd"
   },
   "outputs": [
    {
     "name": "stdout",
     "output_type": "stream",
     "text": [
      "L'erreur de généralisation du modèle appris est : 4007.70 ± 19.11\n"
     ]
    }
   ],
   "source": [
    "X_risk, y_risk = generate_data(1000000)\n",
    "X_risk = feature_space_projection(X_risk, phi)\n",
    "y_risk_pred = reg2.predict(X_risk)\n",
    "true_risk = mean_squared_error(y_risk, y_risk_pred)\n",
    "print(\"L'erreur de généralisation du modèle appris est : %5.2f ± %2.2f\" % (true_risk, confidence_interval(y_risk, y_risk_pred)))"
   ]
  },
  {
   "cell_type": "markdown",
   "metadata": {
    "colab_type": "text",
    "id": "Enlxx4ggJYDf"
   },
   "source": [
    "Si on se rappelle que les ensembles de test et de validation sont statistiquement identiques, on conçoit aisément que l'estimation du vrai risque est toujours très difficile et potentiellement éloignée des erreurs de validation et de test. \n",
    "\n",
    "On a *optimisé* plusieurs modèles sur l'ensemble d'entraînement, on a *choisi* les hyperparamètres d'apprentissage optimaux sur l'ensemble de validation et on a vérifié nos choix **une seule fois** sur l'ensemble de test. \n"
   ]
  },
  {
   "cell_type": "markdown",
   "metadata": {
    "colab_type": "text",
    "id": "XqubDTHzJYDf"
   },
   "source": [
    "# Exemple 4 : Méthodologie de validation croisée et test"
   ]
  },
  {
   "cell_type": "markdown",
   "metadata": {
    "colab_type": "text",
    "id": "KiE2TkO1JYDg"
   },
   "source": [
    "Dans l'exercice précédent, nous avions un seul ensemble de _validation_. Nos hyperparamètres d'apprentissage étaient optimaux pour cet ensemble et pouvaient mal généraliser. La validation croisée vient pallier ce problème en optimisant les hyperparamètres sur plusieurs ensembles de validation **différents** pour plusieurs ensembles d'entraînement **différents**.\n",
    "\n",
    "Pour ce faire, nous découpons seulement un ensemble de test pour calculer notre erreur empirique\n",
    "\n",
    "### splits : train(75%) - test(25%)\n",
    "\n",
    "soit un ensemble d'entraînement sur lequel nous ferons de la validation croisée et un ensemble de test pour la vérification *finale*.\n"
   ]
  },
  {
   "cell_type": "code",
   "execution_count": 47,
   "metadata": {
    "colab": {},
    "colab_type": "code",
    "id": "dMk4KTn-JYDg"
   },
   "outputs": [],
   "source": [
    "X_train, X_test, y_train, y_test = train_test_split(X_phi, y, test_size=0.25)"
   ]
  },
  {
   "cell_type": "markdown",
   "metadata": {
    "colab_type": "text",
    "id": "n2n5aI2CJYDh"
   },
   "source": [
    "## Cross-validation du modèle/hyperparamètres\n",
    "\n",
    "Vous pouvez ici changer les hyperparamètres pour en voir l'effet sur les différentes erreurs et sous-ensembles de données. Vous pouvez aussi essayer d'autres modèles linéaires.\n"
   ]
  },
  {
   "cell_type": "code",
   "execution_count": 48,
   "metadata": {
    "colab": {},
    "colab_type": "code",
    "id": "OLv2Iu2PJYDi"
   },
   "outputs": [],
   "source": [
    "reg2 = linear_model.ElasticNet(alpha=0.001, copy_X=True, fit_intercept=True, l1_ratio=0.5,\n",
    "      max_iter=100000, normalize=False, positive=False, precompute=False,\n",
    "      random_state=None, selection='random', tol=0.0001, warm_start=False)"
   ]
  },
  {
   "cell_type": "code",
   "execution_count": 49,
   "metadata": {
    "colab": {},
    "colab_type": "code",
    "id": "v7aWcSxcJYDk"
   },
   "outputs": [],
   "source": [
    "cv_score = cross_val_score(reg2, X_train, y_train, cv=5, scoring='neg_mean_squared_error')"
   ]
  },
  {
   "cell_type": "code",
   "execution_count": 50,
   "metadata": {
    "colab": {},
    "colab_type": "code",
    "id": "fseh4OcjJYDm"
   },
   "outputs": [
    {
     "data": {
      "text/plain": [
       "array([2693.31951043, 5042.80985131, 5120.70843218, 1810.84503454,\n",
       "        590.92842989])"
      ]
     },
     "execution_count": 50,
     "metadata": {},
     "output_type": "execute_result"
    }
   ],
   "source": [
    "-cv_score"
   ]
  },
  {
   "cell_type": "code",
   "execution_count": 51,
   "metadata": {
    "colab": {},
    "colab_type": "code",
    "id": "s3_1FJkNJYDn"
   },
   "outputs": [
    {
     "data": {
      "text/plain": [
       "3051.7222516695047"
      ]
     },
     "execution_count": 51,
     "metadata": {},
     "output_type": "execute_result"
    }
   ],
   "source": [
    "np.mean(-cv_score)"
   ]
  },
  {
   "cell_type": "markdown",
   "metadata": {
    "colab_type": "text",
    "id": "XM3mKUSvJYDo"
   },
   "source": [
    "## Recherche en grille des hyperparamètres\n",
    "\n",
    "Plutôt que de rechercher *au hasard* les hyperparamètres, il est plus intéressant, quand c'est possible, de *tous* les essayer."
   ]
  },
  {
   "cell_type": "code",
   "execution_count": 52,
   "metadata": {
    "colab": {},
    "colab_type": "code",
    "id": "R89w6A68JYDp"
   },
   "outputs": [],
   "source": [
    "reg2 = linear_model.ElasticNet(alpha=0.001, copy_X=True, fit_intercept=True, l1_ratio=0.5,\n",
    "      max_iter=1000000, normalize=False, positive=False, precompute=False,\n",
    "      random_state=None, selection='random', tol=0.0001, warm_start=False)"
   ]
  },
  {
   "cell_type": "markdown",
   "metadata": {
    "colab_type": "text",
    "id": "KQo1bQ-jJYDr"
   },
   "source": [
    "Définissons ici tous les couples d'hyperparamètres à utiliser."
   ]
  },
  {
   "cell_type": "code",
   "execution_count": 53,
   "metadata": {
    "colab": {},
    "colab_type": "code",
    "id": "CdR0df8wJYDr"
   },
   "outputs": [],
   "source": [
    "hyperparameters = {'l1_ratio':[0.0, 0.25, 0.5, 0.75, 1.0], 'alpha':[0.01, 0.1, 1, 10, 100]}"
   ]
  },
  {
   "cell_type": "code",
   "execution_count": 54,
   "metadata": {
    "colab": {},
    "colab_type": "code",
    "id": "4Jtr62p3JYDt"
   },
   "outputs": [],
   "source": [
    "clf = GridSearchCV(reg2, hyperparameters, cv=5, scoring='neg_mean_squared_error', n_jobs=-1, verbose=1)"
   ]
  },
  {
   "cell_type": "code",
   "execution_count": 55,
   "metadata": {
    "colab": {},
    "colab_type": "code",
    "id": "3jXHEymcJYDu"
   },
   "outputs": [
    {
     "name": "stdout",
     "output_type": "stream",
     "text": [
      "Fitting 5 folds for each of 25 candidates, totalling 125 fits\n"
     ]
    },
    {
     "name": "stderr",
     "output_type": "stream",
     "text": [
      "[Parallel(n_jobs=-1)]: Using backend LokyBackend with 4 concurrent workers.\n",
      "[Parallel(n_jobs=-1)]: Done 125 out of 125 | elapsed:    5.0s finished\n"
     ]
    },
    {
     "data": {
      "text/plain": [
       "GridSearchCV(cv=5, error_score='raise-deprecating',\n",
       "             estimator=ElasticNet(alpha=0.001, copy_X=True, fit_intercept=True,\n",
       "                                  l1_ratio=0.5, max_iter=1000000,\n",
       "                                  normalize=False, positive=False,\n",
       "                                  precompute=False, random_state=None,\n",
       "                                  selection='random', tol=0.0001,\n",
       "                                  warm_start=False),\n",
       "             iid='warn', n_jobs=-1,\n",
       "             param_grid={'alpha': [0.01, 0.1, 1, 10, 100],\n",
       "                         'l1_ratio': [0.0, 0.25, 0.5, 0.75, 1.0]},\n",
       "             pre_dispatch='2*n_jobs', refit=True, return_train_score=False,\n",
       "             scoring='neg_mean_squared_error', verbose=1)"
      ]
     },
     "execution_count": 55,
     "metadata": {},
     "output_type": "execute_result"
    }
   ],
   "source": [
    "clf.fit(X_train, y_train)"
   ]
  },
  {
   "cell_type": "code",
   "execution_count": 56,
   "metadata": {
    "colab": {},
    "colab_type": "code",
    "id": "iosfx-xUJYDv"
   },
   "outputs": [
    {
     "data": {
      "text/plain": [
       "{'alpha': 0.01, 'l1_ratio': 0.0}"
      ]
     },
     "execution_count": 56,
     "metadata": {},
     "output_type": "execute_result"
    }
   ],
   "source": [
    "clf.best_params_"
   ]
  },
  {
   "cell_type": "markdown",
   "metadata": {
    "colab_type": "text",
    "id": "pA2k3ZN3JYDx"
   },
   "source": [
    "Curieusement, quand on voit les résultats des *meilleurs* hyperparamètres, l'envie de raffiner votre grille de recherche dans la bonne région se fait probablement sentir ...\n"
   ]
  },
  {
   "cell_type": "markdown",
   "metadata": {
    "colab_type": "text",
    "id": "LCW-hXBfJYDx"
   },
   "source": [
    "## Entraînement et évaluation sur le test\n",
    "\n",
    "Une fois les meilleurs hyperparamètres choisis, on les utilise pour apprendre sur l'ensemble des données d'entraînement et vérifier une dernière fois notre apprentissage sur l'ensemble de test.\n"
   ]
  },
  {
   "cell_type": "code",
   "execution_count": 57,
   "metadata": {
    "colab": {},
    "colab_type": "code",
    "id": "ZKPojFJ9JYDx"
   },
   "outputs": [],
   "source": [
    "best_alpha = clf.best_params_['alpha']\n",
    "best_l1ratio = clf.best_params_['l1_ratio']"
   ]
  },
  {
   "cell_type": "code",
   "execution_count": 58,
   "metadata": {
    "colab": {},
    "colab_type": "code",
    "id": "c6MLql-FJYDy"
   },
   "outputs": [
    {
     "data": {
      "text/plain": [
       "ElasticNet(alpha=0.01, copy_X=True, fit_intercept=True, l1_ratio=0.0,\n",
       "           max_iter=100000, normalize=False, positive=False, precompute=False,\n",
       "           random_state=None, selection='random', tol=0.0001, warm_start=False)"
      ]
     },
     "execution_count": 58,
     "metadata": {},
     "output_type": "execute_result"
    }
   ],
   "source": [
    "reg2 = linear_model.ElasticNet(alpha=best_alpha, copy_X=True, fit_intercept=True, l1_ratio=best_l1ratio,\n",
    "      max_iter=100000, normalize=False, positive=False, precompute=False,\n",
    "      random_state=None, selection='random', tol=0.0001, warm_start=False)\n",
    "reg2.fit(X_train, y_train)"
   ]
  },
  {
   "cell_type": "code",
   "execution_count": 59,
   "metadata": {
    "colab": {},
    "colab_type": "code",
    "id": "SjFnaZWeJYD1"
   },
   "outputs": [
    {
     "name": "stdout",
     "output_type": "stream",
     "text": [
      "L'erreur d'entraînement du modèle appris est : 3043.42\n"
     ]
    }
   ],
   "source": [
    "y_train_pred = reg2.predict(X_train)\n",
    "training_error = mean_squared_error(y_train, y_train_pred)\n",
    "print(\"L'erreur d'entraînement du modèle appris est : %5.2f\" % training_error)"
   ]
  },
  {
   "cell_type": "code",
   "execution_count": 60,
   "metadata": {
    "colab": {},
    "colab_type": "code",
    "id": "ngmlw5NPJYD2"
   },
   "outputs": [
    {
     "name": "stdout",
     "output_type": "stream",
     "text": [
      "L'erreur de test du modèle appris est : 7347.01 ± 4863.27\n"
     ]
    }
   ],
   "source": [
    "y_test_pred = reg2.predict(X_test)\n",
    "test_error = mean_squared_error(y_test, y_test_pred)\n",
    "print(\"L'erreur de test du modèle appris est : %5.2f ± %2.2f\" % (test_error, confidence_interval(y_test, y_test_pred)))"
   ]
  },
  {
   "cell_type": "markdown",
   "metadata": {
    "colab_type": "text",
    "id": "-GPXO3W4JYD3"
   },
   "source": [
    "On voit ici que l'intervalle de confiance se situe autour de $\\pm 30\\%$, ce qui veut dire que le *vrai* risque est probablement assez éloigné du risque obtenu.\n",
    "\n",
    "Affichage du modèle appris :\n"
   ]
  },
  {
   "cell_type": "code",
   "execution_count": 61,
   "metadata": {
    "colab": {},
    "colab_type": "code",
    "id": "XCbJkk0fJYD6"
   },
   "outputs": [
    {
     "data": {
      "image/png": "[encoded data removed]",
      "text/plain": [
       "<Figure size 576x432 with 1 Axes>"
      ]
     },
     "metadata": {
      "needs_background": "light"
     },
     "output_type": "display_data"
    }
   ],
   "source": [
    "fig, ax = plt.subplots(figsize=(8,6))\n",
    "ax.plot(X, y, 'o')\n",
    "ax.plot(np.linspace(-10,10,100), np.polyval(listeParamPoly,np.linspace(-10,10,100)), color='black', linewidth=3)\n",
    "ax.set_title('Polynôme')\n",
    "ax.set_ylabel('y')\n",
    "ax.set_xlabel('x')\n",
    "\n",
    "linspace_x = np.linspace(-10, 10, num=100000)\n",
    "linspace_x = np.expand_dims(linspace_x, axis=1)\n",
    "\n",
    "linspace_X_augmented = feature_space_projection(linspace_x, phi)\n",
    "\n",
    "y_pred = reg2.predict(linspace_X_augmented)\n",
    "#ax.plot(linspace_x, y_pred, color='red', linewidth=3)\n",
    "\n",
    "plt.show()"
   ]
  }
 ],
 "metadata": {
  "kernelspec": {
   "display_name": "Python 3",
   "language": "python",
   "name": "python3"
  },
  "language_info": {
   "codemirror_mode": {
    "name": "ipython",
    "version": 3
   },
   "file_extension": ".py",
   "mimetype": "text/x-python",
   "name": "python",
   "nbconvert_exporter": "python",
   "pygments_lexer": "ipython3",
   "version": "3.7.3"
  }
 },
 "nbformat": 4,
 "nbformat_minor": 2
}
