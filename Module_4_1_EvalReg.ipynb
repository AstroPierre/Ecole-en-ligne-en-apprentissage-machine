{
 "cells": [
  {
   "cell_type": "markdown",
   "metadata": {},
   "source": [
    "---\n",
    "# Évaluation des modèles de régression\n",
    "---\n",
    "\n",
    "<center><img src=\"./img/mlprocess_4.png\" alt=\"Processus d'apprentissage automatique\" width=\"50%\"/></center>\n",
    "\n",
    "Dans cet exemple, nous allons évaluer, à l'aide des différentes métriques vues dans le cours, différents modèles de régression.\n",
    "\n",
    "Dans un premier temps, nous allons repartir de l'exemple simple vu dans le module d'introduction (notre polynôme de degré 4) et évaluer trois modèles différents. Dans un second temps, nous allons évaluer le modèle de votre choix sur un ensemble de données public : les données des habitants de Californie.\n",
    "\n",
    "Importons d'abord les librairies nécessaires.\n"
   ]
  },
  {
   "cell_type": "code",
   "execution_count": 1,
   "metadata": {},
   "outputs": [],
   "source": [
    "%matplotlib inline\n",
    "import numpy as np\n",
    "import matplotlib.pyplot as plt\n",
    "from mpl_toolkits import mplot3d\n",
    "from sklearn.preprocessing import PolynomialFeatures\n",
    "from sklearn.linear_model import Ridge, LinearRegression\n",
    "from sklearn.tree import DecisionTreeRegressor\n",
    "from sklearn.model_selection import train_test_split, cross_val_score, GridSearchCV, KFold\n",
    "from sklearn.metrics import mean_squared_error, mean_absolute_error, r2_score\n",
    "from sklearn.gaussian_process.kernels import RBF, WhiteKernel, ConstantKernel \n",
    "from sklearn.gaussian_process import GaussianProcessRegressor\n",
    "from sklearn.neural_network import MLPRegressor"
   ]
  },
  {
   "cell_type": "markdown",
   "metadata": {},
   "source": [
    "Générons les données sur notre polynôme de degré 4:"
   ]
  },
  {
   "cell_type": "code",
   "execution_count": 2,
   "metadata": {},
   "outputs": [],
   "source": [
    "X_lin = np.linspace(-10,10,100)[:,np.newaxis]\n",
    "def generate_data(N):\n",
    "    x = np.random.uniform(-10,10,N)\n",
    "    y = np.polyval([0.03, 0.2, -1, -10, 100],x) + np.random.normal(0.0, 15.0, N)\n",
    "    return x.reshape(-1, 1), y"
   ]
  },
  {
   "cell_type": "code",
   "execution_count": 3,
   "metadata": {},
   "outputs": [],
   "source": [
    "X,y = generate_data(200)"
   ]
  },
  {
   "cell_type": "markdown",
   "metadata": {},
   "source": [
    "Et vérifions les données : "
   ]
  },
  {
   "cell_type": "code",
   "execution_count": 4,
   "metadata": {},
   "outputs": [
    {
     "data": {
      "image/png": "[encoded data removed]",
      "text/plain": [
       "<Figure size 432x288 with 1 Axes>"
      ]
     },
     "metadata": {
      "needs_background": "light"
     },
     "output_type": "display_data"
    }
   ],
   "source": [
    "fig, ax = plt.subplots()\n",
    "ax.plot(X, y, 'o')\n",
    "ax.plot(np.linspace(-10,10,100), np.polyval([0.03, 0.2, -1, -10, 100],np.linspace(-10,10,100)), color='black', linewidth=3)\n",
    "ax.set_title('Data set')\n",
    "ax.set_ylabel('y')\n",
    "ax.set_xlabel('x')\n",
    "plt.show()"
   ]
  },
  {
   "cell_type": "markdown",
   "metadata": {},
   "source": [
    "## Préparation des données train/validation/test 40% / 30% / 30%\n",
    "\n",
    "Découpage du dataset en trois ensembles:"
   ]
  },
  {
   "cell_type": "code",
   "execution_count": 5,
   "metadata": {},
   "outputs": [],
   "source": [
    "X_, X_test, y_, y_test = train_test_split(X, y, test_size=0.30)\n",
    "X_train, X_val, y_train, y_val = train_test_split(X_, y_, test_size=0.428)"
   ]
  },
  {
   "cell_type": "markdown",
   "metadata": {},
   "source": [
    "## Calcul de l'erreur de Bayes sur l'ensemble de validation\n",
    "\n",
    "Voici un exemple de calcul des métriques $R^2$, erreur quadratique moyenne (MSE) et erreur absolue moyenne (MAE), si on avait le modèle parfait (c.-à-d. la fonction originale). \n"
   ]
  },
  {
   "cell_type": "code",
   "execution_count": 6,
   "metadata": {},
   "outputs": [
    {
     "name": "stdout",
     "output_type": "stream",
     "text": [
      "LR : R2: 0.9299460080389519 MSE: 231.81769262685756 MAE: 11.973429095647472\n"
     ]
    }
   ],
   "source": [
    "def f(x):\n",
    "    return np.polyval([0.03, 0.2, -1, -10, 100],x)\n",
    "\n",
    "R2 = r2_score(y_val, f(X_val))\n",
    "MSE = mean_squared_error(y_val, f(X_val))\n",
    "MAE = mean_absolute_error(y_val, f(X_val))\n",
    "print('LR :', 'R2:', R2, 'MSE:', MSE, 'MAE:', MAE)"
   ]
  },
  {
   "cell_type": "markdown",
   "metadata": {},
   "source": [
    "On ne peut pas faire mieux que ça avec ces métriques. Les nombres fournissent respectivement une borne supérieure pour le $R^2$ et des bornes inférieures pour la MSE et la MAE."
   ]
  },
  {
   "cell_type": "markdown",
   "metadata": {},
   "source": [
    "## Évaluation des métriques de 3 modèles sur l'ensemble de validation\n",
    "\n",
    "En utilisant une régression linéaire ([`LinearRegression`](https://scikit-learn.org/stable/modules/generated/sklearn.linear_model.LinearRegression.html)) voyons la performance que l'on peut obtenir. \n",
    "\n",
    "Essayez de visualiser le modèle résultant sur les données initiales afin de valider visuellement le résultat (profitons-en quand on peut).\n"
   ]
  },
  {
   "cell_type": "code",
   "execution_count": 7,
   "metadata": {},
   "outputs": [],
   "source": [
    "#..."
   ]
  },
  {
   "cell_type": "markdown",
   "metadata": {},
   "source": [
    "En utilisant le noyau ci-dessous (dont vous pouvez varier les hyperparamètres), reproduisez l'expérience avec un modèle de régression à base de processus gaussiens ([`GaussianProcessRegressor`](https://scikit-learn.org/stable/modules/generated/sklearn.gaussian_process.GaussianProcessRegressor.html))\n"
   ]
  },
  {
   "cell_type": "code",
   "execution_count": 8,
   "metadata": {},
   "outputs": [],
   "source": [
    "kernel = 100.0 * RBF(length_scale=100.0, length_scale_bounds=(1e-2, 1e3)) \\\n",
    "               + WhiteKernel(noise_level=10, noise_level_bounds=(1e-10, 1e+3))\n",
    "\n",
    "#..."
   ]
  },
  {
   "cell_type": "markdown",
   "metadata": {},
   "source": [
    "Essayons enfin avec un perceptron multicouche ([`MLPRegressor`](https://scikit-learn.org/stable/modules/generated/sklearn.neural_network.MLPRegressor.html))"
   ]
  },
  {
   "cell_type": "code",
   "execution_count": 9,
   "metadata": {},
   "outputs": [],
   "source": [
    "# ... "
   ]
  },
  {
   "cell_type": "markdown",
   "metadata": {},
   "source": [
    "Essayez plusieurs hyperparamètres et trouvez le meilleur modèle possible. Venez partager ensuite sur le forum le meilleur résultat que vous trouverez (en test ;-))\n"
   ]
  },
  {
   "cell_type": "markdown",
   "metadata": {},
   "source": [
    "# Exemple 1 avec données réelles : [california housing](https://developers.google.com/machine-learning/crash-course/california-housing-data-description)\n",
    "\n",
    "Essayons maintenant sur un ensemble de données réelles que vous avez probablement déjà vu dans le module de préparation de données. \n",
    "\n",
    "C'est l'ensemble de données utilisé dans le deuxième chapitre du livre d'Aurélien Géron \"Hands-On Machine learning with Scikit-Learn and TensorFlow\". Il constitue une excellente introduction à la mise en œuvre d'algorithmes d'apprentissage machine, car il nécessite un nettoyage rudimentaire des données, comporte une liste de variables facilement compréhensibles et se situe à une taille optimale entre être trop ludique et trop encombrant.\n",
    "\n",
    "Les données contiennent des informations provenant du recensement de 1990 en Californie. Ainsi, même si elles ne vous aident pas à prévoir les prix actuels du logement, comme d'autres ensembles de données plus récentes, elles fournissent un ensemble de données d'introduction accessible pour enseigner aux gens les bases de l'apprentissage machine.\n",
    "\n",
    "Récupérons les données et séparons-les en trois sous-ensembles (train-valid-test)\n",
    "\n"
   ]
  },
  {
   "cell_type": "code",
   "execution_count": 10,
   "metadata": {},
   "outputs": [],
   "source": [
    "from sklearn.datasets import fetch_california_housing\n",
    "dataset = fetch_california_housing()\n",
    "cal_X, cal_y = dataset.data, dataset.target\n",
    "\n",
    "cal_X_train, cal_X_test, cal_y_train, cal_y_test = train_test_split(cal_X, cal_y, test_size=0.30, random_state=42)"
   ]
  },
  {
   "cell_type": "markdown",
   "metadata": {},
   "source": [
    "### Entraînement et validation d'un régresseur sur le jeu de données California\n",
    "\n",
    "Choisissez un régresseur (par exemple une régression [linéaire](https://scikit-learn.org/stable/modules/generated/sklearn.linear_model.LinearRegression.html), un [SVR](https://scikit-learn.org/stable/modules/generated/sklearn.svm.SVR.html) ou un [MLP](https://scikit-learn.org/stable/modules/generated/sklearn.neural_network.MLPRegressor.html). Choisissez n'importe lequel [parmi ceux de SciKit-Learn](https://scikit-learn.org/stable/supervised_learning.html#supervised-learning)) et évaluez-le en validation croisée (à l'aide de la fonction [cross_val_score()]()). \n",
    "\n",
    "N'hésitez pas à aller sur le forum pour discuter de vos meilleurs modèles et hyperparamètres !\n"
   ]
  },
  {
   "cell_type": "code",
   "execution_count": 11,
   "metadata": {},
   "outputs": [],
   "source": [
    "# ... "
   ]
  },
  {
   "cell_type": "markdown",
   "metadata": {},
   "source": [
    "# Exemple 2 avec données réelles : [Diabète LARS](https://web.stanford.edu/~hastie/Papers/LARS/)\n",
    "\n",
    "Dans cet ensemble de données, dix variables de base (âge, sexe, indice de masse corporelle, pression artérielle moyenne et six mesures de sérum sanguin) ont été obtenues pour 44 patients diabétiques. À celles-ci s'ajoute la réponse d'intérêt, une mesure quantitative de la progression de la maladie un an après la base.\n"
   ]
  },
  {
   "cell_type": "code",
   "execution_count": 12,
   "metadata": {},
   "outputs": [],
   "source": [
    "from sklearn.datasets import load_diabetes\n",
    "dataset = load_diabetes()\n",
    "dia_X, dia_y = dataset.data, dataset.target\n",
    "\n",
    "dia_X_train, dia_X_test, dia_y_train, dia_y_test = train_test_split(dia_X, dia_y, test_size=0.30, random_state=42)"
   ]
  },
  {
   "cell_type": "markdown",
   "metadata": {},
   "source": [
    "### Entraînement et validation d'un régresseur sur le jeu de données sur le diabète.\n",
    "\n",
    "Il s'agit de revisiter l'exemple précédent avec un autre ensemble de données et donc un autre \"meilleur\" modèle.\n",
    "\n",
    "M'hésitez pas à aller sur le forum pour discuter de vos meilleurs modèles et hyperparamètres !\n"
   ]
  },
  {
   "cell_type": "code",
   "execution_count": 13,
   "metadata": {},
   "outputs": [],
   "source": [
    "# ..."
   ]
  }
 ],
 "metadata": {
  "kernelspec": {
   "display_name": "Python 3",
   "language": "python",
   "name": "python3"
  },
  "language_info": {
   "codemirror_mode": {
    "name": "ipython",
    "version": 3
   },
   "file_extension": ".py",
   "mimetype": "text/x-python",
   "name": "python",
   "nbconvert_exporter": "python",
   "pygments_lexer": "ipython3",
   "version": "3.7.3"
  }
 },
 "nbformat": 4,
 "nbformat_minor": 2
}
