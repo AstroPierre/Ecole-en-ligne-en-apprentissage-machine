{
 "cells": [
  {
   "cell_type": "markdown",
   "metadata": {
    "colab_type": "text",
    "id": "6_iAGO4MY_uF"
   },
   "source": [
    "---\n",
    "# Tutoriel 2 - Méthodes pratiques\n",
    "---\n",
    "\n",
    "<center><img src=\"./img/mlprocess_3.png\" alt=\"Processus d'apprentissage automatique\" width=\"50%\"/></center>\n",
    "\n",
    "Dans ce tutoriel, nous ferons une introduction à la librairie Poutyne qui facilite l'entraînement de réseaux de neurones en PyTorch. \n",
    "\n",
    "1. Introduction à Poutyne\n",
    "    1. Boucle d'entraînement, notion de ```Callbacks``` (```Logging```, ```WeightViz```, etc.)\n",
    "2. Visualisation des poids avec le callback ```WeightViz```\n",
    "    1. Introduction à TensorBoard\n",
    "3. Programmation d'un réseau multicouche\n",
    "    1. Fonctions d'activation\n",
    "4. Initialisation des poids\n",
    "5. Horaire d'entraînement (```Learning Rate```)\n",
    "6. Régularisation\n",
    "7. Ajout du callback ```EarlyStopping```\n",
    "9. Résultats sur l'ensemble de test\n"
   ]
  },
  {
   "cell_type": "markdown",
   "metadata": {
    "colab_type": "text",
    "id": "hzyazRUqY_uH"
   },
   "source": [
    "## 1. Introduction à Poutyne"
   ]
  },
  {
   "cell_type": "code",
   "execution_count": 1,
   "metadata": {},
   "outputs": [
    {
     "ename": "ModuleNotFoundError",
     "evalue": "No module named 'torch.utils.tensorboard'",
     "output_type": "error",
     "traceback": [
      "\u001b[1;31m---------------------------------------------------------------------------\u001b[0m",
      "\u001b[1;31mModuleNotFoundError\u001b[0m                       Traceback (most recent call last)",
      "\u001b[1;32m<ipython-input-1-251d42299027>\u001b[0m in \u001b[0;36m<module>\u001b[1;34m\u001b[0m\n\u001b[0;32m     10\u001b[0m \u001b[1;32mfrom\u001b[0m \u001b[0mpoutyne\u001b[0m\u001b[1;33m.\u001b[0m\u001b[0mframework\u001b[0m \u001b[1;32mimport\u001b[0m \u001b[0mModel\u001b[0m\u001b[1;33m,\u001b[0m \u001b[0mModelCheckpoint\u001b[0m\u001b[1;33m,\u001b[0m \u001b[0mCallback\u001b[0m\u001b[1;33m,\u001b[0m \u001b[0mCSVLogger\u001b[0m\u001b[1;33m,\u001b[0m \u001b[0mEarlyStopping\u001b[0m\u001b[1;33m,\u001b[0m \u001b[0mReduceLROnPlateau\u001b[0m\u001b[1;33m\u001b[0m\u001b[1;33m\u001b[0m\u001b[0m\n\u001b[0;32m     11\u001b[0m \u001b[1;32mfrom\u001b[0m \u001b[0mpoutyne\u001b[0m \u001b[1;32mimport\u001b[0m \u001b[0mtorch_to_numpy\u001b[0m\u001b[1;33m\u001b[0m\u001b[1;33m\u001b[0m\u001b[0m\n\u001b[1;32m---> 12\u001b[1;33m \u001b[1;32mfrom\u001b[0m \u001b[0mtorch\u001b[0m\u001b[1;33m.\u001b[0m\u001b[0mutils\u001b[0m\u001b[1;33m.\u001b[0m\u001b[0mtensorboard\u001b[0m \u001b[1;32mimport\u001b[0m \u001b[0mSummaryWriter\u001b[0m\u001b[1;33m\u001b[0m\u001b[1;33m\u001b[0m\u001b[0m\n\u001b[0m\u001b[0;32m     13\u001b[0m \u001b[1;32mfrom\u001b[0m \u001b[0mtorchvision\u001b[0m\u001b[1;33m.\u001b[0m\u001b[0mutils\u001b[0m \u001b[1;32mimport\u001b[0m \u001b[0mmake_grid\u001b[0m\u001b[1;33m\u001b[0m\u001b[1;33m\u001b[0m\u001b[0m\n\u001b[0;32m     14\u001b[0m \u001b[1;33m\u001b[0m\u001b[0m\n",
      "\u001b[1;31mModuleNotFoundError\u001b[0m: No module named 'torch.utils.tensorboard'"
     ]
    }
   ],
   "source": [
    "import math\n",
    "import torch\n",
    "import numpy as np\n",
    "from torch import optim, nn\n",
    "from torchvision.datasets.mnist import MNIST\n",
    "from torchvision.transforms import ToTensor\n",
    "from torch.utils.data import DataLoader, random_split\n",
    "from torch.utils.tensorboard import SummaryWriter\n",
    "from torchvision.utils import make_grid\n",
    "from poutyne.framework import Model, ModelCheckpoint, Callback, CSVLogger, EarlyStopping, ReduceLROnPlateau\n",
    "from poutyne import torch_to_numpy\n",
    "\n",
    "torch.manual_seed(42)\n",
    "np.random.seed(42)"
   ]
  },
  {
   "cell_type": "code",
   "execution_count": 3,
   "metadata": {},
   "outputs": [],
   "source": [
    "def load_mnist(download=False, path='./', transform=None):\n",
    "    \"\"\"Loads the MNIST dataset.\n",
    "\n",
    "    :param download: Download the dataset\n",
    "    :param path: Folder to put the dataset\n",
    "    :return: The train and test dataset\n",
    "    \"\"\"\n",
    "    train_dataset = MNIST(path, train=True, download=download, transform=transform)\n",
    "    test_dataset = MNIST(path, train=False, download=download, transform=transform)\n",
    "    return train_dataset, test_dataset\n",
    "\n",
    "\n",
    "def load_mnist_with_validation_set(download=False, path='./', train_split=0.8):\n",
    "    \"\"\"Loads the MNIST dataset.\n",
    "\n",
    "    :param download: Download the dataset\n",
    "    :param path: Folder to put the dataset\n",
    "    :return: The train, valid and test dataset ready to be ingest in a neural network\n",
    "    \"\"\"\n",
    "    train, test = load_mnist(download, path, transform=ToTensor())\n",
    "    lengths = [round(train_split*len(train)), round((1.0-train_split)*len(train))]\n",
    "    train, valid = random_split(train, lengths)\n",
    "    return train, valid, test\n",
    "\n",
    "def count_number_of_parameters(net):\n",
    "    return sum(p.numel() for p in net.parameters() if p.requires_grad)"
   ]
  },
  {
   "cell_type": "code",
   "execution_count": null,
   "metadata": {
    "colab": {},
    "colab_type": "code",
    "id": "qfl4VpAOY_uQ"
   },
   "outputs": [],
   "source": [
    "# Hyperparamètres d'entraînement\n",
    "cuda_device = 0\n",
    "device = torch.device(\"cuda:%d\" % cuda_device if torch.cuda.is_available() else \"cpu\")\n",
    "batch_size = 32\n",
    "learning_rate = 0.01\n",
    "n_epoch = 5\n",
    "num_classes = 10"
   ]
  },
  {
   "cell_type": "code",
   "execution_count": null,
   "metadata": {
    "colab": {},
    "colab_type": "code",
    "id": "fmhh4rJiY_uU"
   },
   "outputs": [],
   "source": [
    "train, valid, test = load_mnist_with_validation_set(download=True)"
   ]
  },
  {
   "cell_type": "code",
   "execution_count": null,
   "metadata": {
    "colab": {
     "base_uri": "https://localhost:8080/",
     "height": 34
    },
    "colab_type": "code",
    "executionInfo": {
     "elapsed": 228,
     "status": "ok",
     "timestamp": 1543539450188,
     "user": {
      "displayName": "Nicolas Garneau",
      "photoUrl": "",
      "userId": "14846125508805523822"
     },
     "user_tz": 300
    },
    "id": "olVDMWmSY_uX",
    "outputId": "c42d3111-c825-4c17-9ccf-dc7636dc7046"
   },
   "outputs": [],
   "source": [
    "# Tailles des ensembles d'entraînement, de validation et de test.\n",
    "len(train), len(valid), len(test)"
   ]
  },
  {
   "cell_type": "markdown",
   "metadata": {},
   "source": [
    "Nous définissons des chargeurs de données (`dataloaders`) qui vont nous fournir `batch_size` images à la fois, c'est-à-dire des lots (`batchs`) de taille `batch_size`. Nous avons 3  chargeurs de données pour les 3 ensembles utilisés: entraînement, validation et test."
   ]
  },
  {
   "cell_type": "code",
   "execution_count": null,
   "metadata": {
    "colab": {},
    "colab_type": "code",
    "id": "VYM10d33Y_uZ"
   },
   "outputs": [],
   "source": [
    "train_loader = DataLoader(train, batch_size=batch_size, shuffle=True)\n",
    "valid_loader = DataLoader(valid, batch_size=batch_size)\n",
    "test_loader = DataLoader(test, batch_size=batch_size)"
   ]
  },
  {
   "cell_type": "markdown",
   "metadata": {},
   "source": [
    "Le code suivant initialise un réseau identique à celui du Tutoriel 1 (voir tableau ci-dessous), mais en utilisant la méthode séquentielle de PyTorch. Cette méthode permet de voir notre réseau en fonction de ses différentes couches. Il est à noter qu'il n'est pas toujours possible d'utiliser cette méthode.\n",
    "\n",
    "| Type de couche              | Taille de sortie |      # de paramètres   |\n",
    "|-----------------------------|:----------------:|:----------------------:|\n",
    "| Input                       |   1x28x28   |              0            |\n",
    "| Flatten                     |  1\\*28\\*28  |              0            |\n",
    "| **Linear avec 10 neurones** |     10      | 28\\*28\\*10 + 10 = 7 850 |\n",
    "\n",
    "\\# total de paramètres du réseau: 7 850"
   ]
  },
  {
   "cell_type": "code",
   "execution_count": null,
   "metadata": {
    "colab": {},
    "colab_type": "code",
    "id": "waVLFMQlY_ue"
   },
   "outputs": [],
   "source": [
    "def create_simple_fully_connected_network():\n",
    "    return nn.Sequential(\n",
    "        nn.Flatten(),\n",
    "        nn.Linear(28*28, num_classes)\n",
    "    )"
   ]
  },
  {
   "cell_type": "markdown",
   "metadata": {},
   "source": [
    "La fonction ci-dessous effectue l'entraînement d'un réseau de neurones avec Poutyne. Pour ce faire, nous utilisons la classe Model de Poutyne qui est analogue à la classe Trainer que nous avions définie dans le tutoriel 1. Par contre, comme nous allons le voir, la classe Model offre beaucoup plus de fonctionnalités.\n"
   ]
  },
  {
   "cell_type": "code",
   "execution_count": null,
   "metadata": {
    "colab": {},
    "colab_type": "code",
    "id": "NmyhMUxwY_ug"
   },
   "outputs": [],
   "source": [
    "def train(name, network):\n",
    "    print(network)\n",
    "    optimizer = optim.SGD(network.parameters(), lr=learning_rate)\n",
    "    loss_function = nn.CrossEntropyLoss()\n",
    "\n",
    "    # Objet Model de Poutyne\n",
    "    model = Model(network, optimizer, loss_function, batch_metrics=['accuracy'])\n",
    "\n",
    "    # Envoi du modèle sur GPUs si disponibles\n",
    "    model.to(device)\n",
    "\n",
    "    # Lancement de l'entraînement\n",
    "    model.fit_generator(train_loader, valid_loader, epochs=n_epoch)"
   ]
  },
  {
   "cell_type": "code",
   "execution_count": null,
   "metadata": {
    "colab": {
     "base_uri": "https://localhost:8080/",
     "height": 102
    },
    "colab_type": "code",
    "executionInfo": {
     "elapsed": 84482,
     "status": "ok",
     "timestamp": 1543539541204,
     "user": {
      "displayName": "Nicolas Garneau",
      "photoUrl": "",
      "userId": "14846125508805523822"
     },
     "user_tz": 300
    },
    "id": "fj1hCvNnY_uj",
    "outputId": "38f19c34-fb42-484d-9609-67274df2d504"
   },
   "outputs": [],
   "source": [
    "net = create_simple_fully_connected_network()\n",
    "train('fc_simple', net)"
   ]
  },
  {
   "cell_type": "markdown",
   "metadata": {
    "colab_type": "text",
    "id": "BCXt4SHiY_um"
   },
   "source": [
    "## 2. Visualisation des poids"
   ]
  },
  {
   "cell_type": "markdown",
   "metadata": {
    "colab_type": "text",
    "id": "-d-mqBvjY_uo"
   },
   "source": [
    "Une des fonctionnalités essentielles de Poutyne sont les [callbacks](https://poutyne.org/callbacks.html). Un callback permet d'effectuer des actions pendant l'entraînement. L'exemple ci-dessous permet d'écrire dans [TensorBoard](https://www.tensorflow.org/tensorboard/) les poids de notre réseau pour que nous puissions regarder l'évolution de ceux-ci pendant l'entraînement."
   ]
  },
  {
   "cell_type": "code",
   "execution_count": null,
   "metadata": {
    "colab": {},
    "colab_type": "code",
    "id": "LJx4jro8Y_up"
   },
   "outputs": [],
   "source": [
    "class WeightsVisualizer(Callback):\n",
    "    def __init__(self, tensorboard_writer):\n",
    "        \"\"\"\n",
    "        Callback écrivant les poids dans TensorBoard à chaque début d'époque.\n",
    "        \n",
    "        Args:\n",
    "            tensorboard_writer (SummaryWriter): Objet pour écrire dans TensorBoard.\n",
    "        \"\"\"\n",
    "        super(WeightsVisualizer, self).__init__()\n",
    "        self.writer = tensorboard_writer\n",
    "\n",
    "    def on_epoch_begin(self, epoch, logs):\n",
    "        # À chaque début d'époque, nous allons chercher les poids de la couche 1.\n",
    "        weights = self.model.network[1].weight.view(-1, 1, 28, 28)\n",
    "        # Et nous les écrivons dans TensorBoard.\n",
    "        self.writer.add_image('weights', make_grid(weights, nrow=5), global_step=epoch)"
   ]
  },
  {
   "cell_type": "code",
   "execution_count": null,
   "metadata": {
    "colab": {},
    "colab_type": "code",
    "id": "8W1F3Q6-Y_us"
   },
   "outputs": [],
   "source": [
    "def train_visualizer(name, network):\n",
    "    print(network)\n",
    "    optimizer = optim.SGD(network.parameters(), lr=learning_rate)\n",
    "    loss_function = nn.CrossEntropyLoss()\n",
    "    \n",
    "    # Définition de l'objet permettant d'écrire dans TensorBoard.\n",
    "    writer = SummaryWriter('runs/')\n",
    "    \n",
    "    # Définition de la liste des callbacks. \n",
    "    # C'est une liste parce qu'il est possible d'en passer plusieurs.\n",
    "    # Nous instancions le callback défini précédemment.\n",
    "    callbacks = [WeightsVisualizer(writer)]\n",
    "\n",
    "    # Objet Model de Poutyne\n",
    "    model = Model(network, optimizer, loss_function, batch_metrics=['accuracy'])\n",
    "\n",
    "    # Envoi du modèle sur GPUs si disponibles\n",
    "    model.to(device)\n",
    "\n",
    "    # Lancement de l'entraînement\n",
    "    model.fit_generator(train_loader, valid_loader, epochs=n_epoch, callbacks=callbacks)"
   ]
  },
  {
   "cell_type": "code",
   "execution_count": null,
   "metadata": {
    "colab": {
     "base_uri": "https://localhost:8080/",
     "height": 1068
    },
    "colab_type": "code",
    "executionInfo": {
     "elapsed": 39483,
     "status": "error",
     "timestamp": 1543539638298,
     "user": {
      "displayName": "Nicolas Garneau",
      "photoUrl": "",
      "userId": "14846125508805523822"
     },
     "user_tz": 300
    },
    "id": "cQQ7DBjDY_uv",
    "outputId": "565dc391-12cd-42b9-e912-f4013761ecfe"
   },
   "outputs": [],
   "source": [
    "learning_rate = 0.0005\n",
    "net = create_simple_fully_connected_network()\n",
    "train_visualizer('fc_simple_visualizer', net)"
   ]
  },
  {
   "cell_type": "markdown",
   "metadata": {
    "colab_type": "text",
    "id": "QXa_NIHmY_ux"
   },
   "source": [
    "## 3. Programmation d'un réseau multicouche"
   ]
  },
  {
   "cell_type": "markdown",
   "metadata": {
    "colab_type": "text",
    "id": "l43a_avPY_uy"
   },
   "source": [
    "Nous allons augmenter le nombre de couches du réseau. En augmentant le nombre de couches, on augmente la capacité de notre réseau, à condition d'utiliser des fonctions d'activation! Implémentez le réseau suivant en utilisant la manière séquentielle. Un début de code vous est fourni.\n",
    "\n",
    "| Type de couche              | Taille de sortie |      # de paramètres   |\n",
    "|-----------------------------|:----------------:|:----------------------:|\n",
    "| Input                       |   1x28x28   |              0              |\n",
    "| Flatten                     |  1\\*28\\*28  |              0              |\n",
    "| **Linear with 256 neurons** |     256     | 28\\*28\\*256 + 256 = 200 960 |\n",
    "| ReLU                        |      *      |              0              |\n",
    "| **Linear with 128 neurons** |     128     |   256*128 + 128 = 32 896    |\n",
    "| ReLU                        |      *      |              0              |\n",
    "| **Linear with 64 neurons**  |     64      |     128*64 + 64 = 8 256     |\n",
    "| ReLU                        |      *      |              0              |\n",
    "| **Linear with 10 neurons**  |     10      |      64*10 + 10 = 650       |\n",
    "\n",
    "\\# total de paramètres du réseau: 242 762\n"
   ]
  },
  {
   "cell_type": "code",
   "execution_count": null,
   "metadata": {
    "colab": {},
    "colab_type": "code",
    "id": "cFhb5jpLY_u0"
   },
   "outputs": [],
   "source": [
    "def create_fully_connected_network():\n",
    "    return nn.Sequential(\n",
    "        nn.Flatten(),\n",
    "        nn.Linear(28*28, 256),\n",
    "        nn.ReLU(),\n",
    "        ... # À faire: complétez le réseau selon le tableau ci-dessus.\n",
    "    )"
   ]
  },
  {
   "cell_type": "code",
   "execution_count": null,
   "metadata": {
    "colab": {},
    "colab_type": "code",
    "id": "jg1juhscY_u4"
   },
   "outputs": [],
   "source": [
    "def train_mlp(name, network):\n",
    "    print(network)\n",
    "    optimizer = optim.SGD(network.parameters(), lr=learning_rate)\n",
    "    loss_function = nn.CrossEntropyLoss()\n",
    "\n",
    "    # Objet Model de Poutyne\n",
    "    model = Model(network, optimizer, loss_function, batch_metrics=['accuracy'])\n",
    "\n",
    "    # Envoi du modèle sur GPUs si disponibles\n",
    "    model.to(device)\n",
    "\n",
    "    # Lancement de l'entraînement\n",
    "    model.fit_generator(train_loader, valid_loader, epochs=n_epoch)"
   ]
  },
  {
   "cell_type": "code",
   "execution_count": null,
   "metadata": {
    "colab": {
     "base_uri": "https://localhost:8080/",
     "height": 102
    },
    "colab_type": "code",
    "executionInfo": {
     "elapsed": 99374,
     "status": "ok",
     "timestamp": 1543539744234,
     "user": {
      "displayName": "Nicolas Garneau",
      "photoUrl": "",
      "userId": "14846125508805523822"
     },
     "user_tz": 300
    },
    "id": "P3mDak56Y_u8",
    "outputId": "c5844701-1790-4b3c-9725-9fdee6aab6e2"
   },
   "outputs": [],
   "source": [
    "learning_rate = 0.01\n",
    "net = create_fully_connected_network()\n",
    "train_mlp('mlp', net)"
   ]
  },
  {
   "cell_type": "code",
   "execution_count": null,
   "metadata": {
    "colab": {
     "base_uri": "https://localhost:8080/",
     "height": 34
    },
    "colab_type": "code",
    "executionInfo": {
     "elapsed": 345,
     "status": "ok",
     "timestamp": 1543539747827,
     "user": {
      "displayName": "Nicolas Garneau",
      "photoUrl": "",
      "userId": "14846125508805523822"
     },
     "user_tz": 300
    },
    "id": "KC11k00FY_u_",
    "outputId": "867e92e5-0948-4fe5-f3ee-072a1e5737a0"
   },
   "outputs": [],
   "source": [
    "count_number_of_parameters(net)"
   ]
  },
  {
   "cell_type": "markdown",
   "metadata": {
    "colab_type": "text",
    "id": "UGtHbmgYY_vD"
   },
   "source": [
    "## 4. Initialisation des poids des neurones"
   ]
  },
  {
   "cell_type": "markdown",
   "metadata": {
    "colab_type": "text",
    "id": "PZEK5fizY_vE"
   },
   "source": [
    "L'initialisation des poids permet une convergence plus rapide dans la majorité des cas."
   ]
  },
  {
   "cell_type": "code",
   "execution_count": null,
   "metadata": {
    "colab": {},
    "colab_type": "code",
    "id": "9swulAJHY_vF"
   },
   "outputs": [],
   "source": [
    "net = create_fully_connected_network()\n",
    "named_parameters = list(net.named_parameters())"
   ]
  },
  {
   "cell_type": "code",
   "execution_count": null,
   "metadata": {
    "colab": {
     "base_uri": "https://localhost:8080/",
     "height": 170
    },
    "colab_type": "code",
    "executionInfo": {
     "elapsed": 218,
     "status": "ok",
     "timestamp": 1543539752023,
     "user": {
      "displayName": "Nicolas Garneau",
      "photoUrl": "",
      "userId": "14846125508805523822"
     },
     "user_tz": 300
    },
    "id": "LKXxUst-Y_vH",
    "outputId": "994608b9-984a-484f-89c3-84ae78b2ec42"
   },
   "outputs": [],
   "source": [
    "named_parameters[0]"
   ]
  },
  {
   "cell_type": "code",
   "execution_count": null,
   "metadata": {
    "colab": {
     "base_uri": "https://localhost:8080/",
     "height": 170
    },
    "colab_type": "code",
    "executionInfo": {
     "elapsed": 185,
     "status": "ok",
     "timestamp": 1543539755869,
     "user": {
      "displayName": "Nicolas Garneau",
      "photoUrl": "",
      "userId": "14846125508805523822"
     },
     "user_tz": 300
    },
    "id": "d82-NpHRY_vK",
    "outputId": "0c9928e9-7cbf-4fe7-a303-31477e4b9227"
   },
   "outputs": [],
   "source": [
    "nn.init.kaiming_normal_(named_parameters[0][1])"
   ]
  },
  {
   "cell_type": "code",
   "execution_count": null,
   "metadata": {
    "colab": {},
    "colab_type": "code",
    "id": "DmrFvSvVY_vN"
   },
   "outputs": [],
   "source": [
    "def init_weights(net):\n",
    "    for name, params in net.named_parameters():\n",
    "        if 'weight' in name:\n",
    "            nn.init.kaiming_normal_(params)\n",
    "        elif 'bias' in name:\n",
    "            nn.init.constant_(params, 0)\n",
    "init_weights(net)"
   ]
  },
  {
   "cell_type": "code",
   "execution_count": null,
   "metadata": {
    "colab": {
     "base_uri": "https://localhost:8080/",
     "height": 425
    },
    "colab_type": "code",
    "executionInfo": {
     "elapsed": 161,
     "status": "ok",
     "timestamp": 1543539761161,
     "user": {
      "displayName": "Nicolas Garneau",
      "photoUrl": "",
      "userId": "14846125508805523822"
     },
     "user_tz": 300
    },
    "id": "eqxPJ6LIY_vP",
    "outputId": "1a042403-d7ce-4d83-d80b-742d0378380d"
   },
   "outputs": [],
   "source": [
    "named_parameters[0], named_parameters[1]"
   ]
  },
  {
   "cell_type": "code",
   "execution_count": null,
   "metadata": {
    "colab": {
     "base_uri": "https://localhost:8080/",
     "height": 102
    },
    "colab_type": "code",
    "executionInfo": {
     "elapsed": 100023,
     "status": "ok",
     "timestamp": 1543539861471,
     "user": {
      "displayName": "Nicolas Garneau",
      "photoUrl": "",
      "userId": "14846125508805523822"
     },
     "user_tz": 300
    },
    "id": "JhATtkWbY_vT",
    "outputId": "a8172526-f920-4718-c5d5-455d5989f8fb"
   },
   "outputs": [],
   "source": [
    "train_mlp('mlp', net)"
   ]
  },
  {
   "cell_type": "markdown",
   "metadata": {
    "colab_type": "text",
    "id": "Sy3aQ-E0Y_vV"
   },
   "source": [
    "## 5. Régularisation de l'entraînement\n",
    "\n",
    "La régularisation est utilisée pour prévenir le surapprentissage (overfitting). Dans l'exemple ci-dessous, nous utilisons l'argument `weight_decay` de l'optimiseur pour activer la régularisation de type L2.\n"
   ]
  },
  {
   "cell_type": "markdown",
   "metadata": {
    "colab_type": "text",
    "id": "Jj3TMa3ZY_vV"
   },
   "source": [
    "Analysons d'abord la norme des poids.  C'est un indicateur de l'espace possible d'un réseau de neurones.\n"
   ]
  },
  {
   "cell_type": "code",
   "execution_count": null,
   "metadata": {
    "colab": {
     "base_uri": "https://localhost:8080/",
     "height": 34
    },
    "colab_type": "code",
    "executionInfo": {
     "elapsed": 265,
     "status": "ok",
     "timestamp": 1543539865697,
     "user": {
      "displayName": "Nicolas Garneau",
      "photoUrl": "",
      "userId": "14846125508805523822"
     },
     "user_tz": 300
    },
    "id": "-ZCULLFYY_vW",
    "outputId": "260815b2-b63c-4be5-9bba-d3614f4000c2"
   },
   "outputs": [],
   "source": [
    "torch.norm(named_parameters[0][1], 2)"
   ]
  },
  {
   "cell_type": "code",
   "execution_count": null,
   "metadata": {
    "colab": {},
    "colab_type": "code",
    "id": "aYWP5iqEY_vZ"
   },
   "outputs": [],
   "source": [
    "def train_mlp_reg(name, network):\n",
    "    print(network)\n",
    "    optimizer = optim.SGD(network.parameters(), lr=learning_rate, weight_decay=0.01)\n",
    "    loss_function = nn.CrossEntropyLoss()\n",
    "\n",
    "    # Objet Model de Poutyne\n",
    "    model = Model(network, optimizer, loss_function, batch_metrics=['accuracy'])\n",
    "\n",
    "    # Envoi du modèle sur GPUs si disponibles\n",
    "    model.to(device)\n",
    "\n",
    "    # Lancement de l'entraînement\n",
    "    model.fit_generator(train_loader, valid_loader, epochs=n_epoch)"
   ]
  },
  {
   "cell_type": "code",
   "execution_count": null,
   "metadata": {
    "colab": {
     "base_uri": "https://localhost:8080/",
     "height": 102
    },
    "colab_type": "code",
    "executionInfo": {
     "elapsed": 105896,
     "status": "ok",
     "timestamp": 1543539976669,
     "user": {
      "displayName": "Nicolas Garneau",
      "photoUrl": "",
      "userId": "14846125508805523822"
     },
     "user_tz": 300
    },
    "id": "1KtGLfsjY_vc",
    "outputId": "505cfdc8-2bce-4699-95a7-af23d85631d3"
   },
   "outputs": [],
   "source": [
    "net = create_fully_connected_network()\n",
    "init_weights(net)\n",
    "train_mlp_reg('mlp_reg', net)"
   ]
  },
  {
   "cell_type": "code",
   "execution_count": null,
   "metadata": {
    "colab": {
     "base_uri": "https://localhost:8080/",
     "height": 34
    },
    "colab_type": "code",
    "executionInfo": {
     "elapsed": 192,
     "status": "ok",
     "timestamp": 1543539980976,
     "user": {
      "displayName": "Nicolas Garneau",
      "photoUrl": "",
      "userId": "14846125508805523822"
     },
     "user_tz": 300
    },
    "id": "kshvNJDxY_vd",
    "outputId": "69157fd7-2f5e-4898-c5ed-794f936feb9d"
   },
   "outputs": [],
   "source": [
    "named_parameters = list(net.named_parameters())\n",
    "torch.norm(named_parameters[0][1], 2)"
   ]
  },
  {
   "cell_type": "markdown",
   "metadata": {},
   "source": [
    "## 6. Early Stopping et horaire d'entraînement\n",
    "\n",
    "Comme vu lors des présentations, le `early stopping` ainsi que les horaires d'entraînement peuvent nous aider à éviter le surapprentissage. Poutyne offre un callback de type [EarlyStopping](https://poutyne.org/callbacks.html#poutyne.framework.callbacks.EarlyStopping) et un callback de type [ReduceLROnPlateau](https://poutyne.org/callbacks.html#poutyne.framework.callbacks.lr_scheduler.ReduceLROnPlateau) pour faciliter l'utilisation de ces méthodes. Il est à noter que le callback `ReduceLROnPlateau` encapsule tout simplement une classe de PyTorch afin d'en faciliter l'utilisation.\n"
   ]
  },
  {
   "cell_type": "markdown",
   "metadata": {},
   "source": [
    "Complétez le code ci-dessous en instanciant un callback de type [EarlyStopping](https://poutyne.org/callbacks.html#poutyne.framework.callbacks.EarlyStopping) avec une patience de *5* et un callback de type [ReduceLROnPlateau](https://poutyne.org/callbacks.html#poutyne.framework.callbacks.lr_scheduler.ReduceLROnPlateau) avec une patience de *2*. Ajoutez l'argument `verbose=True` pour afficher les callbacks exécutés lors de l'entraînement."
   ]
  },
  {
   "cell_type": "code",
   "execution_count": null,
   "metadata": {
    "colab": {},
    "colab_type": "code",
    "id": "cZ8gBAceY_vm"
   },
   "outputs": [],
   "source": [
    "def train_mlp_early_stopping(name, network):\n",
    "    optimizer = optim.SGD(network.parameters(), lr=learning_rate, weight_decay=0.001)\n",
    "    loss_function = nn.CrossEntropyLoss()\n",
    "    \n",
    "    early_stopping = ... # À faire: instancier un callback de type EarlyStopping\n",
    "    lr_scheduler = ... # À faire: instancier un callback de type ReduceLROnPlateau\n",
    "    callbacks = [early_stopping, lr_scheduler]\n",
    "\n",
    "    # Objet Model de Poutyne\n",
    "    model = Model(network, optimizer, loss_function, batch_metrics=['accuracy'])\n",
    "\n",
    "    # Envoi du modèle sur GPUs si disponibles\n",
    "    model.to(device)\n",
    "\n",
    "    # Lancement de l'entraînement\n",
    "    model.fit_generator(train_loader, valid_loader, epochs=n_epoch, callbacks=callbacks)"
   ]
  },
  {
   "cell_type": "code",
   "execution_count": null,
   "metadata": {
    "colab": {
     "base_uri": "https://localhost:8080/",
     "height": 1105
    },
    "colab_type": "code",
    "executionInfo": {
     "elapsed": 1100932,
     "status": "ok",
     "timestamp": 1539100738276,
     "user": {
      "displayName": "Nicolas Garneau",
      "photoUrl": "",
      "userId": "14846125508805523822"
     },
     "user_tz": 240
    },
    "id": "WJ-QVo0EY_vo",
    "outputId": "2c13ba8f-cd50-4eb8-c738-202535be8052"
   },
   "outputs": [],
   "source": [
    "n_epoch = 100\n",
    "net = create_fully_connected_network()\n",
    "init_weights(net)\n",
    "train_mlp_early_stopping('mlp_early_stopping', net)"
   ]
  },
  {
   "cell_type": "markdown",
   "metadata": {
    "colab_type": "text",
    "id": "etPe79rgY_vr"
   },
   "source": [
    "## 7. Évaluation du modèle final"
   ]
  },
  {
   "cell_type": "markdown",
   "metadata": {
    "colab_type": "text",
    "id": "U9zh49_TY_vs"
   },
   "source": [
    "Créez votre propre modèle pour qu'il soit le meilleur possible sur l'ensemble de validation. Lorsque vous êtes fin prêts, évaluer la performance de celui-ci sur l'ensemble de test!"
   ]
  },
  {
   "cell_type": "code",
   "execution_count": null,
   "metadata": {
    "colab": {
     "base_uri": "https://localhost:8080/",
     "height": 334
    },
    "colab_type": "code",
    "executionInfo": {
     "elapsed": 310,
     "status": "error",
     "timestamp": 1539100738722,
     "user": {
      "displayName": "Nicolas Garneau",
      "photoUrl": "",
      "userId": "14846125508805523822"
     },
     "user_tz": 240
    },
    "id": "IRpbMXRmY_vt",
    "outputId": "7ddfb764-6381-4859-eba2-549b30068e8a"
   },
   "outputs": [],
   "source": [
    "# Créez votre réseau\n",
    "net = ...\n",
    "\n",
    "# Appliquez quelques méthodes que nous avons vues\n",
    "optimizer = ...\n",
    "n_epoch = 10\n",
    "loss_function = nn.CrossEntropyLoss()\n",
    "callbacks = []\n",
    "\n",
    "model = Model(net, optimizer, loss_function, batch_metrics=['accuracy'])\n",
    "model.to(device)\n",
    "\n",
    "# Train\n",
    "model.fit_generator(train_loader, valid_loader, epochs=n_epoch, callbacks=callbacks)"
   ]
  },
  {
   "cell_type": "markdown",
   "metadata": {
    "colab_type": "text",
    "id": "VqwCp5SuY_vv"
   },
   "source": [
    "Seulement lorsque vous êtes prêt!"
   ]
  },
  {
   "cell_type": "code",
   "execution_count": null,
   "metadata": {
    "colab": {},
    "colab_type": "code",
    "id": "H_ZxwaUzY_vv"
   },
   "outputs": [],
   "source": [
    "test_loss, test_acc = model.evaluate_generator(test_loader)\n",
    "print('Test:\\n\\tLoss: {}\\n\\tAccuracy: {}'.format(test_loss, test_acc))"
   ]
  },
  {
   "cell_type": "code",
   "execution_count": null,
   "metadata": {
    "colab": {},
    "colab_type": "code",
    "id": "-4oZQu24WPIv"
   },
   "outputs": [],
   "source": []
  }
 ],
 "metadata": {
  "accelerator": "GPU",
  "colab": {
   "collapsed_sections": [],
   "name": "Tutoriel 1.ipynb",
   "provenance": [],
   "version": "0.3.2"
  },
  "kernelspec": {
   "display_name": "Python 3",
   "language": "python",
   "name": "python3"
  },
  "language_info": {
   "codemirror_mode": {
    "name": "ipython",
    "version": 3
   },
   "file_extension": ".py",
   "mimetype": "text/x-python",
   "name": "python",
   "nbconvert_exporter": "python",
   "pygments_lexer": "ipython3",
   "version": "3.7.3"
  }
 },
 "nbformat": 4,
 "nbformat_minor": 1
}
