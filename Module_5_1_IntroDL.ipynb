{
 "cells": [
  {
   "cell_type": "markdown",
   "metadata": {
    "colab_type": "text",
    "id": "QzyJqYieWPHN"
   },
   "source": [
    "---\n",
    "# Tutoriel 1 - Familiarisation avec le dataset MNIST et création d'un premier réseau de neurones avec PyTorch.\n",
    "---\n",
    "\n",
    "<center><img src=\"./img/mlprocess_3.png\" alt=\"Processus d'apprentissage automatique\" width=\"50%\"/></center>\n",
    "\n",
    "Dans ce tutoriel, nous allons reprendre l'exercice précédent avec les images de chiffres (MNIST) et construire un réseau de neurones simple en utilisant la librairie [PyTorch](https://pytorch.org/) développée par Facebook pour créer des réseaux de neurones plus complexes que les [MLPs de Scikit-Learn](https://scikit-learn.org/stable/modules/generated/sklearn.neural_network.MLPClassifier.html).\n",
    "\n",
    "Voici les différentes étapes suivies dans ce tutoriel:\n",
    "\n",
    "1. Chargement et exploration du dataset MNIST.\n",
    "2. Définition d'un réseau simple.\n",
    "3. Définition de l'optimiseur.\n",
    "4. Définition de la fonction de perte et d'une métrique.\n",
    "5. Boucle d'entraînement:\n",
    "    1. Piger une \"minibatch\" (pour la SGD)\n",
    "    2. Forward Pass\n",
    "    3. Back propagation\n",
    "    4. Optimisation\n",
    "6. Résultats sur l'ensemble de test.\n",
    "\n",
    "Commençons par charger les modules nécessaires et définir quelques fonctions :\n"
   ]
  },
  {
   "cell_type": "code",
   "execution_count": 1,
   "metadata": {},
   "outputs": [],
   "source": [
    "%matplotlib inline\n",
    "import os\n",
    "import math\n",
    "import torch\n",
    "import numpy as np\n",
    "from torch import optim, nn\n",
    "from torchvision.transforms import ToTensor\n",
    "from torchvision.datasets.mnist import MNIST\n",
    "from torch.utils.data import DataLoader, random_split\n",
    "\n",
    "torch.manual_seed(42)\n",
    "np.random.seed(42)"
   ]
  },
  {
   "cell_type": "code",
   "execution_count": 2,
   "metadata": {
    "colab": {},
    "colab_type": "code",
    "id": "HLhY4-bkksTd"
   },
   "outputs": [],
   "source": [
    "def load_mnist(download=False, path='./', transform=None):\n",
    "    \"\"\"Loads the MNIST dataset.\n",
    "\n",
    "    :param download: Download the dataset\n",
    "    :param path: Folder to put the dataset\n",
    "    :return: The train and test dataset\n",
    "    \"\"\"\n",
    "    train_dataset = MNIST(path, train=True, download=download, transform=transform)\n",
    "    test_dataset = MNIST(path, train=False, download=download, transform=transform)\n",
    "    return train_dataset, test_dataset\n",
    "\n",
    "\n",
    "def load_mnist_with_validation_set(download=False, path='./', train_split=0.8):\n",
    "    \"\"\"Loads the MNIST dataset.\n",
    "\n",
    "    :param download: Download the dataset\n",
    "    :param path: Folder to put the dataset\n",
    "    :return: The train, valid and test dataset ready to be ingest in a neural network\n",
    "    \"\"\"\n",
    "    train, test = load_mnist(download, path, transform=ToTensor())\n",
    "    lengths = [round(train_split*len(train)), round((1.0-train_split)*len(train))]\n",
    "    train, valid = random_split(train, lengths)\n",
    "    return train, valid, test\n",
    "\n",
    "def count_number_of_parameters(net):\n",
    "    \"\"\" Count the number of parameters of a neural net\n",
    "\n",
    "    :param net: a pytorch neural network\n",
    "    :return: The number of parameters in the net\n",
    "    \"\"\"\n",
    "    return sum(p.numel() for p in net.parameters() if p.requires_grad)"
   ]
  },
  {
   "cell_type": "markdown",
   "metadata": {
    "colab_type": "text",
    "id": "tlhgw2brWPHS"
   },
   "source": [
    "## 1. Chargement et exploration du dataset MNIST\n",
    "\n",
    "Analysons plus en détail notre dataset, nos entrées et nos sorties (ou nos x et y)."
   ]
  },
  {
   "cell_type": "code",
   "execution_count": 3,
   "metadata": {
    "colab": {
     "base_uri": "https://localhost:8080/",
     "height": 119
    },
    "colab_type": "code",
    "executionInfo": {
     "elapsed": 1719,
     "status": "ok",
     "timestamp": 1543538626105,
     "user": {
      "displayName": "Nicolas Garneau",
      "photoUrl": "",
      "userId": "14846125508805523822"
     },
     "user_tz": 300
    },
    "id": "AJwMKH8bWPHV",
    "outputId": "5f0673fe-e82d-4f0c-c05f-e816d7723909"
   },
   "outputs": [
    {
     "name": "stderr",
     "output_type": "stream",
     "text": [
      "'rm' n'est pas reconnu en tant que commande interne\n",
      "ou externe, un programme ex‚cutable ou un fichier de commandes.\n"
     ]
    }
   ],
   "source": [
    "train, test = load_mnist(download=True)\n",
    "\n",
    "# Retirons les fichiers inutiles pour optimiser l'espace utilisé.\n",
    "!rm -f ./MNIST/raw/*ubyte*"
   ]
  },
  {
   "cell_type": "code",
   "execution_count": 4,
   "metadata": {
    "colab": {
     "base_uri": "https://localhost:8080/",
     "height": 204
    },
    "colab_type": "code",
    "executionInfo": {
     "elapsed": 187,
     "status": "ok",
     "timestamp": 1543538627517,
     "user": {
      "displayName": "Nicolas Garneau",
      "photoUrl": "",
      "userId": "14846125508805523822"
     },
     "user_tz": 300
    },
    "id": "gXqFJXiGWPHZ",
    "outputId": "99dc2f77-b95f-4547-ddaa-3bb7db873840"
   },
   "outputs": [
    {
     "data": {
      "text/plain": [
       "(Dataset MNIST\n",
       "     Number of datapoints: 60000\n",
       "     Split: train\n",
       "     Root Location: ./\n",
       "     Transforms (if any): None\n",
       "     Target Transforms (if any): None, Dataset MNIST\n",
       "     Number of datapoints: 10000\n",
       "     Split: test\n",
       "     Root Location: ./\n",
       "     Transforms (if any): None\n",
       "     Target Transforms (if any): None)"
      ]
     },
     "execution_count": 4,
     "metadata": {},
     "output_type": "execute_result"
    }
   ],
   "source": [
    "train, test"
   ]
  },
  {
   "cell_type": "code",
   "execution_count": 5,
   "metadata": {
    "colab": {
     "base_uri": "https://localhost:8080/",
     "height": 34
    },
    "colab_type": "code",
    "executionInfo": {
     "elapsed": 234,
     "status": "ok",
     "timestamp": 1543538630189,
     "user": {
      "displayName": "Nicolas Garneau",
      "photoUrl": "",
      "userId": "14846125508805523822"
     },
     "user_tz": 300
    },
    "id": "cdpuybBGWPHd",
    "outputId": "15a2bfb6-b255-4b1a-93da-47448513a4ac"
   },
   "outputs": [
    {
     "data": {
      "text/plain": [
       "(60000, 10000)"
      ]
     },
     "execution_count": 5,
     "metadata": {},
     "output_type": "execute_result"
    }
   ],
   "source": [
    "# Tailles des ensembles d'entraînement et de test\n",
    "len(train), len(test)"
   ]
  },
  {
   "cell_type": "code",
   "execution_count": 6,
   "metadata": {
    "colab": {
     "base_uri": "https://localhost:8080/",
     "height": 34
    },
    "colab_type": "code",
    "executionInfo": {
     "elapsed": 191,
     "status": "ok",
     "timestamp": 1543538631064,
     "user": {
      "displayName": "Nicolas Garneau",
      "photoUrl": "",
      "userId": "14846125508805523822"
     },
     "user_tz": 300
    },
    "id": "ig_Cv8H4WPHg",
    "outputId": "80f76ff3-00da-4424-f792-b7c28b67f333"
   },
   "outputs": [
    {
     "name": "stdout",
     "output_type": "stream",
     "text": [
      "(<PIL.Image.Image image mode=L size=28x28 at 0x215D81F0198>, tensor(5))\n"
     ]
    },
    {
     "data": {
      "image/png": "[encoded data removed]",
      "text/plain": [
       "<PIL.Image.Image image mode=L size=28x28 at 0x215D81F0198>"
      ]
     },
     "execution_count": 6,
     "metadata": {},
     "output_type": "execute_result"
    }
   ],
   "source": [
    "# Affiche la première image du dataset.\n",
    "first_image = train[0]\n",
    "print(first_image)\n",
    "first_image[0]"
   ]
  },
  {
   "cell_type": "code",
   "execution_count": 7,
   "metadata": {
    "colab": {},
    "colab_type": "code",
    "id": "TvZMTuOcWPHo"
   },
   "outputs": [],
   "source": [
    "?ToTensor"
   ]
  },
  {
   "cell_type": "code",
   "execution_count": 8,
   "metadata": {
    "colab": {
     "base_uri": "https://localhost:8080/",
     "height": 1921
    },
    "colab_type": "code",
    "executionInfo": {
     "elapsed": 286,
     "status": "ok",
     "timestamp": 1543538637187,
     "user": {
      "displayName": "Nicolas Garneau",
      "photoUrl": "",
      "userId": "14846125508805523822"
     },
     "user_tz": 300
    },
    "id": "TKwuwkLuWPHr",
    "outputId": "ee88fdbc-ca6f-4e38-fd04-ce7e69661ad2",
    "scrolled": true
   },
   "outputs": [
    {
     "data": {
      "text/plain": [
       "tensor([[[0.0000, 0.0000, 0.0000, 0.0000, 0.0000, 0.0000, 0.0000, 0.0000,\n",
       "          0.0000, 0.0000, 0.0000, 0.0000, 0.0000, 0.0000, 0.0000, 0.0000,\n",
       "          0.0000, 0.0000, 0.0000, 0.0000, 0.0000, 0.0000, 0.0000, 0.0000,\n",
       "          0.0000, 0.0000, 0.0000, 0.0000],\n",
       "         [0.0000, 0.0000, 0.0000, 0.0000, 0.0000, 0.0000, 0.0000, 0.0000,\n",
       "          0.0000, 0.0000, 0.0000, 0.0000, 0.0000, 0.0000, 0.0000, 0.0000,\n",
       "          0.0000, 0.0000, 0.0000, 0.0000, 0.0000, 0.0000, 0.0000, 0.0000,\n",
       "          0.0000, 0.0000, 0.0000, 0.0000],\n",
       "         [0.0000, 0.0000, 0.0000, 0.0000, 0.0000, 0.0000, 0.0000, 0.0000,\n",
       "          0.0000, 0.0000, 0.0000, 0.0000, 0.0000, 0.0000, 0.0000, 0.0000,\n",
       "          0.0000, 0.0000, 0.0000, 0.0000, 0.0000, 0.0000, 0.0000, 0.0000,\n",
       "          0.0000, 0.0000, 0.0000, 0.0000],\n",
       "         [0.0000, 0.0000, 0.0000, 0.0000, 0.0000, 0.0000, 0.0000, 0.0000,\n",
       "          0.0000, 0.0000, 0.0000, 0.0000, 0.0000, 0.0000, 0.0000, 0.0000,\n",
       "          0.0000, 0.0000, 0.0000, 0.0000, 0.0000, 0.0000, 0.0000, 0.0000,\n",
       "          0.0000, 0.0000, 0.0000, 0.0000],\n",
       "         [0.0000, 0.0000, 0.0000, 0.0000, 0.0000, 0.0000, 0.0000, 0.0000,\n",
       "          0.0000, 0.0000, 0.0000, 0.0000, 0.0000, 0.0000, 0.0000, 0.0000,\n",
       "          0.0000, 0.0000, 0.0000, 0.0000, 0.0000, 0.0000, 0.0000, 0.0000,\n",
       "          0.0000, 0.0000, 0.0000, 0.0000],\n",
       "         [0.0000, 0.0000, 0.0000, 0.0000, 0.0000, 0.0000, 0.0000, 0.0000,\n",
       "          0.0000, 0.0000, 0.0000, 0.0000, 0.0118, 0.0706, 0.0706, 0.0706,\n",
       "          0.4941, 0.5333, 0.6863, 0.1020, 0.6510, 1.0000, 0.9686, 0.4980,\n",
       "          0.0000, 0.0000, 0.0000, 0.0000],\n",
       "         [0.0000, 0.0000, 0.0000, 0.0000, 0.0000, 0.0000, 0.0000, 0.0000,\n",
       "          0.1176, 0.1412, 0.3686, 0.6039, 0.6667, 0.9922, 0.9922, 0.9922,\n",
       "          0.9922, 0.9922, 0.8824, 0.6745, 0.9922, 0.9490, 0.7647, 0.2510,\n",
       "          0.0000, 0.0000, 0.0000, 0.0000],\n",
       "         [0.0000, 0.0000, 0.0000, 0.0000, 0.0000, 0.0000, 0.0000, 0.1922,\n",
       "          0.9333, 0.9922, 0.9922, 0.9922, 0.9922, 0.9922, 0.9922, 0.9922,\n",
       "          0.9922, 0.9843, 0.3647, 0.3216, 0.3216, 0.2196, 0.1529, 0.0000,\n",
       "          0.0000, 0.0000, 0.0000, 0.0000],\n",
       "         [0.0000, 0.0000, 0.0000, 0.0000, 0.0000, 0.0000, 0.0000, 0.0706,\n",
       "          0.8588, 0.9922, 0.9922, 0.9922, 0.9922, 0.9922, 0.7765, 0.7137,\n",
       "          0.9686, 0.9451, 0.0000, 0.0000, 0.0000, 0.0000, 0.0000, 0.0000,\n",
       "          0.0000, 0.0000, 0.0000, 0.0000],\n",
       "         [0.0000, 0.0000, 0.0000, 0.0000, 0.0000, 0.0000, 0.0000, 0.0000,\n",
       "          0.3137, 0.6118, 0.4196, 0.9922, 0.9922, 0.8039, 0.0431, 0.0000,\n",
       "          0.1686, 0.6039, 0.0000, 0.0000, 0.0000, 0.0000, 0.0000, 0.0000,\n",
       "          0.0000, 0.0000, 0.0000, 0.0000],\n",
       "         [0.0000, 0.0000, 0.0000, 0.0000, 0.0000, 0.0000, 0.0000, 0.0000,\n",
       "          0.0000, 0.0549, 0.0039, 0.6039, 0.9922, 0.3529, 0.0000, 0.0000,\n",
       "          0.0000, 0.0000, 0.0000, 0.0000, 0.0000, 0.0000, 0.0000, 0.0000,\n",
       "          0.0000, 0.0000, 0.0000, 0.0000],\n",
       "         [0.0000, 0.0000, 0.0000, 0.0000, 0.0000, 0.0000, 0.0000, 0.0000,\n",
       "          0.0000, 0.0000, 0.0000, 0.5451, 0.9922, 0.7451, 0.0078, 0.0000,\n",
       "          0.0000, 0.0000, 0.0000, 0.0000, 0.0000, 0.0000, 0.0000, 0.0000,\n",
       "          0.0000, 0.0000, 0.0000, 0.0000],\n",
       "         [0.0000, 0.0000, 0.0000, 0.0000, 0.0000, 0.0000, 0.0000, 0.0000,\n",
       "          0.0000, 0.0000, 0.0000, 0.0431, 0.7451, 0.9922, 0.2745, 0.0000,\n",
       "          0.0000, 0.0000, 0.0000, 0.0000, 0.0000, 0.0000, 0.0000, 0.0000,\n",
       "          0.0000, 0.0000, 0.0000, 0.0000],\n",
       "         [0.0000, 0.0000, 0.0000, 0.0000, 0.0000, 0.0000, 0.0000, 0.0000,\n",
       "          0.0000, 0.0000, 0.0000, 0.0000, 0.1373, 0.9451, 0.8824, 0.6275,\n",
       "          0.4235, 0.0039, 0.0000, 0.0000, 0.0000, 0.0000, 0.0000, 0.0000,\n",
       "          0.0000, 0.0000, 0.0000, 0.0000],\n",
       "         [0.0000, 0.0000, 0.0000, 0.0000, 0.0000, 0.0000, 0.0000, 0.0000,\n",
       "          0.0000, 0.0000, 0.0000, 0.0000, 0.0000, 0.3176, 0.9412, 0.9922,\n",
       "          0.9922, 0.4667, 0.0980, 0.0000, 0.0000, 0.0000, 0.0000, 0.0000,\n",
       "          0.0000, 0.0000, 0.0000, 0.0000],\n",
       "         [0.0000, 0.0000, 0.0000, 0.0000, 0.0000, 0.0000, 0.0000, 0.0000,\n",
       "          0.0000, 0.0000, 0.0000, 0.0000, 0.0000, 0.0000, 0.1765, 0.7294,\n",
       "          0.9922, 0.9922, 0.5882, 0.1059, 0.0000, 0.0000, 0.0000, 0.0000,\n",
       "          0.0000, 0.0000, 0.0000, 0.0000],\n",
       "         [0.0000, 0.0000, 0.0000, 0.0000, 0.0000, 0.0000, 0.0000, 0.0000,\n",
       "          0.0000, 0.0000, 0.0000, 0.0000, 0.0000, 0.0000, 0.0000, 0.0627,\n",
       "          0.3647, 0.9882, 0.9922, 0.7333, 0.0000, 0.0000, 0.0000, 0.0000,\n",
       "          0.0000, 0.0000, 0.0000, 0.0000],\n",
       "         [0.0000, 0.0000, 0.0000, 0.0000, 0.0000, 0.0000, 0.0000, 0.0000,\n",
       "          0.0000, 0.0000, 0.0000, 0.0000, 0.0000, 0.0000, 0.0000, 0.0000,\n",
       "          0.0000, 0.9765, 0.9922, 0.9765, 0.2510, 0.0000, 0.0000, 0.0000,\n",
       "          0.0000, 0.0000, 0.0000, 0.0000],\n",
       "         [0.0000, 0.0000, 0.0000, 0.0000, 0.0000, 0.0000, 0.0000, 0.0000,\n",
       "          0.0000, 0.0000, 0.0000, 0.0000, 0.0000, 0.0000, 0.1804, 0.5098,\n",
       "          0.7176, 0.9922, 0.9922, 0.8118, 0.0078, 0.0000, 0.0000, 0.0000,\n",
       "          0.0000, 0.0000, 0.0000, 0.0000],\n",
       "         [0.0000, 0.0000, 0.0000, 0.0000, 0.0000, 0.0000, 0.0000, 0.0000,\n",
       "          0.0000, 0.0000, 0.0000, 0.0000, 0.1529, 0.5804, 0.8980, 0.9922,\n",
       "          0.9922, 0.9922, 0.9804, 0.7137, 0.0000, 0.0000, 0.0000, 0.0000,\n",
       "          0.0000, 0.0000, 0.0000, 0.0000],\n",
       "         [0.0000, 0.0000, 0.0000, 0.0000, 0.0000, 0.0000, 0.0000, 0.0000,\n",
       "          0.0000, 0.0000, 0.0941, 0.4471, 0.8667, 0.9922, 0.9922, 0.9922,\n",
       "          0.9922, 0.7882, 0.3059, 0.0000, 0.0000, 0.0000, 0.0000, 0.0000,\n",
       "          0.0000, 0.0000, 0.0000, 0.0000],\n",
       "         [0.0000, 0.0000, 0.0000, 0.0000, 0.0000, 0.0000, 0.0000, 0.0000,\n",
       "          0.0902, 0.2588, 0.8353, 0.9922, 0.9922, 0.9922, 0.9922, 0.7765,\n",
       "          0.3176, 0.0078, 0.0000, 0.0000, 0.0000, 0.0000, 0.0000, 0.0000,\n",
       "          0.0000, 0.0000, 0.0000, 0.0000],\n",
       "         [0.0000, 0.0000, 0.0000, 0.0000, 0.0000, 0.0000, 0.0706, 0.6706,\n",
       "          0.8588, 0.9922, 0.9922, 0.9922, 0.9922, 0.7647, 0.3137, 0.0353,\n",
       "          0.0000, 0.0000, 0.0000, 0.0000, 0.0000, 0.0000, 0.0000, 0.0000,\n",
       "          0.0000, 0.0000, 0.0000, 0.0000],\n",
       "         [0.0000, 0.0000, 0.0000, 0.0000, 0.2157, 0.6745, 0.8863, 0.9922,\n",
       "          0.9922, 0.9922, 0.9922, 0.9569, 0.5216, 0.0431, 0.0000, 0.0000,\n",
       "          0.0000, 0.0000, 0.0000, 0.0000, 0.0000, 0.0000, 0.0000, 0.0000,\n",
       "          0.0000, 0.0000, 0.0000, 0.0000],\n",
       "         [0.0000, 0.0000, 0.0000, 0.0000, 0.5333, 0.9922, 0.9922, 0.9922,\n",
       "          0.8314, 0.5294, 0.5176, 0.0627, 0.0000, 0.0000, 0.0000, 0.0000,\n",
       "          0.0000, 0.0000, 0.0000, 0.0000, 0.0000, 0.0000, 0.0000, 0.0000,\n",
       "          0.0000, 0.0000, 0.0000, 0.0000],\n",
       "         [0.0000, 0.0000, 0.0000, 0.0000, 0.0000, 0.0000, 0.0000, 0.0000,\n",
       "          0.0000, 0.0000, 0.0000, 0.0000, 0.0000, 0.0000, 0.0000, 0.0000,\n",
       "          0.0000, 0.0000, 0.0000, 0.0000, 0.0000, 0.0000, 0.0000, 0.0000,\n",
       "          0.0000, 0.0000, 0.0000, 0.0000],\n",
       "         [0.0000, 0.0000, 0.0000, 0.0000, 0.0000, 0.0000, 0.0000, 0.0000,\n",
       "          0.0000, 0.0000, 0.0000, 0.0000, 0.0000, 0.0000, 0.0000, 0.0000,\n",
       "          0.0000, 0.0000, 0.0000, 0.0000, 0.0000, 0.0000, 0.0000, 0.0000,\n",
       "          0.0000, 0.0000, 0.0000, 0.0000],\n",
       "         [0.0000, 0.0000, 0.0000, 0.0000, 0.0000, 0.0000, 0.0000, 0.0000,\n",
       "          0.0000, 0.0000, 0.0000, 0.0000, 0.0000, 0.0000, 0.0000, 0.0000,\n",
       "          0.0000, 0.0000, 0.0000, 0.0000, 0.0000, 0.0000, 0.0000, 0.0000,\n",
       "          0.0000, 0.0000, 0.0000, 0.0000]]])"
      ]
     },
     "execution_count": 8,
     "metadata": {},
     "output_type": "execute_result"
    }
   ],
   "source": [
    "tensor = ToTensor()(first_image[0])\n",
    "tensor"
   ]
  },
  {
   "cell_type": "code",
   "execution_count": 9,
   "metadata": {
    "colab": {
     "base_uri": "https://localhost:8080/",
     "height": 34
    },
    "colab_type": "code",
    "executionInfo": {
     "elapsed": 199,
     "status": "ok",
     "timestamp": 1543538641399,
     "user": {
      "displayName": "Nicolas Garneau",
      "photoUrl": "",
      "userId": "14846125508805523822"
     },
     "user_tz": 300
    },
    "id": "_u8uawNrWPHt",
    "outputId": "68468c18-82c9-4957-9e73-7f500a1dafbd"
   },
   "outputs": [
    {
     "data": {
      "text/plain": [
       "torch.Size([1, 28, 28])"
      ]
     },
     "execution_count": 9,
     "metadata": {},
     "output_type": "execute_result"
    }
   ],
   "source": [
    "# Dimensions des images en tons de gris\n",
    "tensor.shape"
   ]
  },
  {
   "cell_type": "code",
   "execution_count": 10,
   "metadata": {
    "colab": {},
    "colab_type": "code",
    "id": "SJ4J64c4WPHy"
   },
   "outputs": [],
   "source": [
    "?train"
   ]
  },
  {
   "cell_type": "code",
   "execution_count": 11,
   "metadata": {
    "colab": {},
    "colab_type": "code",
    "id": "PLYFx_ECWPH0"
   },
   "outputs": [],
   "source": [
    "train.transform = ToTensor()\n",
    "test.transform = ToTensor()"
   ]
  },
  {
   "cell_type": "markdown",
   "metadata": {
    "colab_type": "text",
    "id": "ND6uM2XrWPH2"
   },
   "source": [
    "### Création d'un ensemble de validation\n",
    "\n",
    "On va utiliser 20% des données d'entraînement à cette fin."
   ]
  },
  {
   "cell_type": "code",
   "execution_count": 12,
   "metadata": {
    "colab": {},
    "colab_type": "code",
    "id": "FZJLSiWlWPH3"
   },
   "outputs": [],
   "source": [
    "lengths = [round(0.8*len(train)), round(0.2*len(train))]\n",
    "train, valid = random_split(train, lengths)"
   ]
  },
  {
   "cell_type": "code",
   "execution_count": 13,
   "metadata": {
    "colab": {
     "base_uri": "https://localhost:8080/",
     "height": 34
    },
    "colab_type": "code",
    "executionInfo": {
     "elapsed": 207,
     "status": "ok",
     "timestamp": 1543538647611,
     "user": {
      "displayName": "Nicolas Garneau",
      "photoUrl": "",
      "userId": "14846125508805523822"
     },
     "user_tz": 300
    },
    "id": "ijBzQAJrWPH6",
    "outputId": "91979bbb-5ecc-4743-e2d7-1b07a8e03654"
   },
   "outputs": [
    {
     "data": {
      "text/plain": [
       "(48000, 12000, 10000)"
      ]
     },
     "execution_count": 13,
     "metadata": {},
     "output_type": "execute_result"
    }
   ],
   "source": [
    "# Tailles finales des trois ensembles\n",
    "len(train), len(valid), len(test)"
   ]
  },
  {
   "cell_type": "markdown",
   "metadata": {
    "colab_type": "text",
    "id": "cnyHxIQqWPH9"
   },
   "source": [
    "## 2. Définition d'un réseau simple"
   ]
  },
  {
   "cell_type": "code",
   "execution_count": 14,
   "metadata": {},
   "outputs": [],
   "source": [
    "# Hyperparamètres d'entraînement\n",
    "use_gpu = torch.cuda.is_available()\n",
    "n_epoch = 20\n",
    "batch_size = 32\n",
    "learning_rate = 0.01"
   ]
  },
  {
   "cell_type": "markdown",
   "metadata": {},
   "source": [
    "Le tableau suivant décrit le réseau en couches que nous allons créer. Le code ci-dessous utilise la manière orientée objet de PyTorch pour définir le réseau.\n",
    "\n",
    "| Type de couche              | Taille de sortie |      # de paramètres   |\n",
    "|-----------------------------|:----------------:|:----------------------:|\n",
    "| Input                       |   1x28x28   |              0            |\n",
    "| Flatten                     |  1\\*28\\*28  |              0            |\n",
    "| **Linear avec 10 neurones** |     10      | 28\\*28\\*10 + 10 = 7 850 |\n",
    "\n",
    "\\# total de paramètres du réseau: 7 850\n"
   ]
  },
  {
   "cell_type": "code",
   "execution_count": 15,
   "metadata": {
    "colab": {
     "base_uri": "https://localhost:8080/",
     "height": 68
    },
    "colab_type": "code",
    "executionInfo": {
     "elapsed": 195,
     "status": "ok",
     "timestamp": 1543538651933,
     "user": {
      "displayName": "Nicolas Garneau",
      "photoUrl": "",
      "userId": "14846125508805523822"
     },
     "user_tz": 300
    },
    "id": "rEyOIU4ZWPH9",
    "outputId": "559cc80c-f0ea-4782-f289-03d5222c4292"
   },
   "outputs": [
    {
     "data": {
      "text/plain": [
       "Net(\n",
       "  (fully_connected): Linear(in_features=784, out_features=10, bias=True)\n",
       ")"
      ]
     },
     "execution_count": 15,
     "metadata": {},
     "output_type": "execute_result"
    }
   ],
   "source": [
    "class Net(nn.Module): # La classe nn.Module représente un réseau de neurones dans PyTorch.\n",
    "    def __init__(self):\n",
    "        super(Net, self).__init__()\n",
    "        # Nous instancions les couches du réseau dans la méthode __init__.\n",
    "        self.fully_connected = nn.Linear(28 * 28, 10)\n",
    "\n",
    "    def forward(self, x):\n",
    "        # La méthode forward spécifie les calculs faits par le réseau.\n",
    "        x = x.view(-1, 28 * 28)\n",
    "        x = self.fully_connected(x)\n",
    "        return x\n",
    "\n",
    "model = Net()\n",
    "if use_gpu:\n",
    "    model.cuda()\n",
    "model"
   ]
  },
  {
   "cell_type": "code",
   "execution_count": 16,
   "metadata": {
    "colab": {
     "base_uri": "https://localhost:8080/",
     "height": 34
    },
    "colab_type": "code",
    "executionInfo": {
     "elapsed": 227,
     "status": "ok",
     "timestamp": 1543538660476,
     "user": {
      "displayName": "Nicolas Garneau",
      "photoUrl": "",
      "userId": "14846125508805523822"
     },
     "user_tz": 300
    },
    "id": "XObJbspuWPIC",
    "outputId": "659d4af8-ae38-4122-b947-5ca89dc549b4"
   },
   "outputs": [
    {
     "data": {
      "text/plain": [
       "2"
      ]
     },
     "execution_count": 16,
     "metadata": {},
     "output_type": "execute_result"
    }
   ],
   "source": [
    "parameters = list(model.parameters())\n",
    "len(parameters)"
   ]
  },
  {
   "cell_type": "code",
   "execution_count": 17,
   "metadata": {
    "colab": {
     "base_uri": "https://localhost:8080/",
     "height": 204
    },
    "colab_type": "code",
    "executionInfo": {
     "elapsed": 273,
     "status": "ok",
     "timestamp": 1543538665098,
     "user": {
      "displayName": "Nicolas Garneau",
      "photoUrl": "",
      "userId": "14846125508805523822"
     },
     "user_tz": 300
    },
    "id": "PLga_0o6WPIG",
    "outputId": "079df2bf-7d93-4abf-9f97-a060734a6fa8"
   },
   "outputs": [
    {
     "data": {
      "text/plain": [
       "(Parameter containing:\n",
       " tensor([[ 0.0110, -0.0096, -0.0194,  ...,  0.0244, -0.0186,  0.0118],\n",
       "         [-0.0061,  0.0233, -0.0160,  ...,  0.0348, -0.0215,  0.0044],\n",
       "         [-0.0071,  0.0019,  0.0007,  ...,  0.0242,  0.0239, -0.0050],\n",
       "         ...,\n",
       "         [ 0.0130, -0.0074,  0.0242,  ...,  0.0298, -0.0304,  0.0287],\n",
       "         [ 0.0353,  0.0200, -0.0307,  ..., -0.0224, -0.0333, -0.0140],\n",
       "         [-0.0011, -0.0336,  0.0070,  ...,  0.0062,  0.0054, -0.0352]],\n",
       "        requires_grad=True), Parameter containing:\n",
       " tensor([ 0.0111, -0.0121,  0.0291,  0.0269, -0.0321,  0.0173,  0.0212, -0.0109,\n",
       "          0.0141,  0.0218], requires_grad=True))"
      ]
     },
     "execution_count": 17,
     "metadata": {},
     "output_type": "execute_result"
    }
   ],
   "source": [
    "parameters[0], parameters[1]"
   ]
  },
  {
   "cell_type": "code",
   "execution_count": 18,
   "metadata": {
    "colab": {
     "base_uri": "https://localhost:8080/",
     "height": 34
    },
    "colab_type": "code",
    "executionInfo": {
     "elapsed": 181,
     "status": "ok",
     "timestamp": 1543538669773,
     "user": {
      "displayName": "Nicolas Garneau",
      "photoUrl": "",
      "userId": "14846125508805523822"
     },
     "user_tz": 300
    },
    "id": "GGLa7wLzWPIL",
    "outputId": "845b1489-5d56-4a2b-94cb-496770a6d612"
   },
   "outputs": [
    {
     "data": {
      "text/plain": [
       "torch.Size([10, 784])"
      ]
     },
     "execution_count": 18,
     "metadata": {},
     "output_type": "execute_result"
    }
   ],
   "source": [
    "parameters[0].shape"
   ]
  },
  {
   "cell_type": "code",
   "execution_count": 19,
   "metadata": {
    "colab": {
     "base_uri": "https://localhost:8080/",
     "height": 34
    },
    "colab_type": "code",
    "executionInfo": {
     "elapsed": 190,
     "status": "ok",
     "timestamp": 1543538673682,
     "user": {
      "displayName": "Nicolas Garneau",
      "photoUrl": "",
      "userId": "14846125508805523822"
     },
     "user_tz": 300
    },
    "id": "QvnF-RWJWPIR",
    "outputId": "50207e02-108d-483f-e434-6aa627760fa8"
   },
   "outputs": [
    {
     "data": {
      "text/plain": [
       "7850"
      ]
     },
     "execution_count": 19,
     "metadata": {},
     "output_type": "execute_result"
    }
   ],
   "source": [
    "count_number_of_parameters(model)"
   ]
  },
  {
   "cell_type": "markdown",
   "metadata": {
    "colab_type": "text",
    "id": "euMMjHRoWPIT"
   },
   "source": [
    "## 3. Définition de l'optimiseur\n",
    "\n",
    "L'optimiseur a besoin des paramètres du réseau à optimiser ainsi que du taux d'apprentissage (`learning rate`) pour calculer les ajustements de poids de neurones à effectuer pendant l'optimisation."
   ]
  },
  {
   "cell_type": "code",
   "execution_count": 20,
   "metadata": {
    "colab": {},
    "colab_type": "code",
    "id": "WZfMwNRSWPIU"
   },
   "outputs": [],
   "source": [
    "optimizer = optim.SGD(model.parameters(), lr=learning_rate)"
   ]
  },
  {
   "cell_type": "markdown",
   "metadata": {
    "colab_type": "text",
    "id": "mtrTOUvwWPIW"
   },
   "source": [
    "## 4. Définition de la fonction de perte et d'une métrique"
   ]
  },
  {
   "cell_type": "markdown",
   "metadata": {
    "colab_type": "text",
    "id": "VAR61UhIWPIX"
   },
   "source": [
    "NB: Dans PyTorch, la fonction de perte ```CrossEntropyLoss``` implique une couche ```Softmax``` en sortie."
   ]
  },
  {
   "cell_type": "code",
   "execution_count": 21,
   "metadata": {
    "colab": {},
    "colab_type": "code",
    "id": "bj7vmAP9WPIY"
   },
   "outputs": [],
   "source": [
    "criterion = nn.CrossEntropyLoss()"
   ]
  },
  {
   "cell_type": "markdown",
   "metadata": {
    "colab_type": "text",
    "id": "w8h1hpH7WPIZ"
   },
   "source": [
    "Pour la métrique, nous allons utiliser l'exactitude fournie par ```sklearn```."
   ]
  },
  {
   "cell_type": "code",
   "execution_count": 22,
   "metadata": {
    "colab": {},
    "colab_type": "code",
    "id": "gVTyLS0fWPIb"
   },
   "outputs": [],
   "source": [
    "from sklearn.metrics import accuracy_score\n",
    "def metric(y_true, y_pred): return accuracy_score(y_true, y_pred) * 100"
   ]
  },
  {
   "cell_type": "markdown",
   "metadata": {
    "colab_type": "text",
    "id": "WdRY3VFTWPId"
   },
   "source": [
    "## 5 Boucle d'entraînement"
   ]
  },
  {
   "cell_type": "markdown",
   "metadata": {},
   "source": [
    "Nous définissons des chargeurs de données (`dataloaders`) qui vont nous fournir `batch_size` images à la fois, c'est-à-dire des lots (`batchs`) de taille `batch_size`. Nous avons 3  chargeurs de données pour les 3 ensembles utilisés: entraînement, validation et test."
   ]
  },
  {
   "cell_type": "code",
   "execution_count": 23,
   "metadata": {
    "colab": {},
    "colab_type": "code",
    "id": "6WwlWsEPWPIe"
   },
   "outputs": [],
   "source": [
    "train_loader = DataLoader(train, batch_size=batch_size, shuffle=True)\n",
    "valid_loader = DataLoader(valid, batch_size=batch_size)\n",
    "test_loader = DataLoader(test, batch_size=batch_size)"
   ]
  },
  {
   "cell_type": "markdown",
   "metadata": {},
   "source": [
    "Nous définissons maintenant une classe Trainer qui aura la tâche d'effectuer l'entraînement et l'évaluation de notre modèle. Dans le prochain tutoriel, nous explorerons la librairie Poutyne qui va faire tout ça pour nous et bien plus encore.\n",
    "\n",
    "Un des détails à comprendre à lisant le code ci-dessous est que le gradient est stocké dans les paramètres lorsque PyTorch le calcule pour nous. Nous n'avons donc pas besoin d'accéder au gradient directement. L'optimiseur se charge de tout pour nous.\n"
   ]
  },
  {
   "cell_type": "code",
   "execution_count": 24,
   "metadata": {
    "colab": {},
    "colab_type": "code",
    "id": "fH8VnHROWPIh"
   },
   "outputs": [],
   "source": [
    "class Trainer:\n",
    "    def __init__(self, model, optimizer, criterion, metric, use_gpu=False):\n",
    "        self.model = model\n",
    "        self.optimizer = optimizer\n",
    "        self.criterion = criterion\n",
    "        self.metric = metric\n",
    "        self.use_gpu = use_gpu\n",
    "        \n",
    "    def evaluate_model(self, loader):\n",
    "        true = []\n",
    "        pred = []\n",
    "        val_loss = []\n",
    "\n",
    "        # Activation du mode d'évaluation du modèle\n",
    "        self.model.eval()\n",
    "        \n",
    "        # Désactivation du calcul du gradient en évaluation\n",
    "        with torch.no_grad():\n",
    "            for batch in loader:\n",
    "                inputs, targets = batch\n",
    "                \n",
    "                # Envoi de la batch sur les GPUs si disponibles.\n",
    "                if self.use_gpu:\n",
    "                    inputs = inputs.cuda()\n",
    "                    targets = targets.cuda()\n",
    "\n",
    "                # Appel de la méthode forward de notre modèle.\n",
    "                output = self.model(inputs)\n",
    "\n",
    "                predictions = output.max(dim=1)[1]\n",
    "\n",
    "                val_loss.append(self.criterion(output, targets).item())\n",
    "                true.extend(targets.detach().cpu().numpy().tolist())\n",
    "                pred.extend(predictions.detach().cpu().numpy().tolist())\n",
    "\n",
    "        return self.metric(true, pred), sum(val_loss) / len(val_loss)\n",
    "\n",
    "    def train_model(self, train_loader, valid_loader, n_epoch):\n",
    "        for i in range(n_epoch):\n",
    "            # Activation du mode d'entraînement du modèle\n",
    "            self.model.train()\n",
    "            \n",
    "            for batch in train_loader:\n",
    "                inputs, targets = batch\n",
    "                \n",
    "                # Envoi de la batch sur les GPUs si disponibles.\n",
    "                if self.use_gpu:\n",
    "                    inputs = inputs.cuda()\n",
    "                    targets = targets.cuda()\n",
    "                \n",
    "                # Le gradient est mis à zéro pour éviter que le gradient de l'ancienne et de la nouvelle batch se mélangent. \n",
    "                self.optimizer.zero_grad()\n",
    "                \n",
    "                # Appel de la méthode forward de notre modèle.\n",
    "                output = self.model(inputs)\n",
    "\n",
    "                # Calcul de la perte\n",
    "                loss = self.criterion(output, targets)\n",
    "                \n",
    "                # Rétropropagation du gradient (le gradient est stocké dans les paramètres)\n",
    "                loss.backward()\n",
    "                \n",
    "                # Mise à jour des poids en fonction du gradient calculé.\n",
    "                self.optimizer.step()\n",
    "\n",
    "            train_acc, train_loss = self.evaluate_model(train_loader)\n",
    "            val_acc, val_loss = self.evaluate_model(valid_loader)\n",
    "            \n",
    "            print('Epoch {} - Train acc: {:.2f} - Val acc: {:.2f} - Train loss: {:.4f} - Val loss: {:.4f}'.format(\n",
    "                i,\n",
    "                train_acc,\n",
    "                val_acc,\n",
    "                train_loss,\n",
    "                val_loss\n",
    "            ))"
   ]
  },
  {
   "cell_type": "markdown",
   "metadata": {},
   "source": [
    "On peut maintenant entraîner et de tester notre modèle! Le réseau sera entraîné sur 20 époques tel que spécifié plus haut dans \n",
    "les hyperparamètres d'entraînement."
   ]
  },
  {
   "cell_type": "code",
   "execution_count": 25,
   "metadata": {
    "colab": {
     "base_uri": "https://localhost:8080/",
     "height": 394
    },
    "colab_type": "code",
    "executionInfo": {
     "elapsed": 283267,
     "status": "ok",
     "timestamp": 1543538984044,
     "user": {
      "displayName": "Nicolas Garneau",
      "photoUrl": "",
      "userId": "14846125508805523822"
     },
     "user_tz": 300
    },
    "id": "KZ3AVGJbWPIj",
    "outputId": "364b4c85-ac02-4057-e965-bc0d02812485"
   },
   "outputs": [
    {
     "name": "stdout",
     "output_type": "stream",
     "text": [
      "Epoch 0 - Train acc: 87.21 - Val acc: 86.83 - Train loss: 0.5331 - Val loss: 0.5452\n",
      "Epoch 1 - Train acc: 88.61 - Val acc: 88.08 - Train loss: 0.4393 - Val loss: 0.4530\n",
      "Epoch 2 - Train acc: 89.31 - Val acc: 88.86 - Train loss: 0.4002 - Val loss: 0.4158\n",
      "Epoch 3 - Train acc: 89.82 - Val acc: 89.26 - Train loss: 0.3770 - Val loss: 0.3933\n",
      "Epoch 4 - Train acc: 90.14 - Val acc: 89.64 - Train loss: 0.3617 - Val loss: 0.3794\n",
      "Epoch 5 - Train acc: 90.42 - Val acc: 89.83 - Train loss: 0.3502 - Val loss: 0.3689\n",
      "Epoch 6 - Train acc: 90.61 - Val acc: 90.03 - Train loss: 0.3414 - Val loss: 0.3609\n",
      "Epoch 7 - Train acc: 90.74 - Val acc: 90.10 - Train loss: 0.3340 - Val loss: 0.3542\n",
      "Epoch 8 - Train acc: 90.91 - Val acc: 90.22 - Train loss: 0.3280 - Val loss: 0.3490\n",
      "Epoch 9 - Train acc: 90.99 - Val acc: 90.33 - Train loss: 0.3237 - Val loss: 0.3451\n",
      "Epoch 10 - Train acc: 91.19 - Val acc: 90.45 - Train loss: 0.3189 - Val loss: 0.3418\n",
      "Epoch 11 - Train acc: 91.26 - Val acc: 90.48 - Train loss: 0.3150 - Val loss: 0.3381\n",
      "Epoch 12 - Train acc: 91.37 - Val acc: 90.61 - Train loss: 0.3116 - Val loss: 0.3352\n",
      "Epoch 13 - Train acc: 91.45 - Val acc: 90.62 - Train loss: 0.3085 - Val loss: 0.3330\n",
      "Epoch 14 - Train acc: 91.50 - Val acc: 90.72 - Train loss: 0.3058 - Val loss: 0.3307\n",
      "Epoch 15 - Train acc: 91.60 - Val acc: 90.77 - Train loss: 0.3031 - Val loss: 0.3284\n",
      "Epoch 16 - Train acc: 91.70 - Val acc: 90.85 - Train loss: 0.3008 - Val loss: 0.3266\n",
      "Epoch 17 - Train acc: 91.82 - Val acc: 90.97 - Train loss: 0.2987 - Val loss: 0.3247\n",
      "Epoch 18 - Train acc: 91.79 - Val acc: 90.89 - Train loss: 0.2968 - Val loss: 0.3236\n",
      "Epoch 19 - Train acc: 91.88 - Val acc: 90.99 - Train loss: 0.2950 - Val loss: 0.3222\n"
     ]
    }
   ],
   "source": [
    "trainer = Trainer(model, optimizer, criterion, metric, use_gpu)\n",
    "trainer.train_model(train_loader, valid_loader, n_epoch)"
   ]
  },
  {
   "cell_type": "code",
   "execution_count": 26,
   "metadata": {
    "colab": {
     "base_uri": "https://localhost:8080/",
     "height": 54
    },
    "colab_type": "code",
    "executionInfo": {
     "elapsed": 1456,
     "status": "ok",
     "timestamp": 1543539006016,
     "user": {
      "displayName": "Nicolas Garneau",
      "photoUrl": "",
      "userId": "14846125508805523822"
     },
     "user_tz": 300
    },
    "id": "SRTFRsxuWPIl",
    "outputId": "d2466c39-4639-4099-af5a-c8265ced9c43"
   },
   "outputs": [],
   "source": [
    "test_acc, test_loss = trainer.evaluate_model(test_loader)"
   ]
  },
  {
   "cell_type": "code",
   "execution_count": 27,
   "metadata": {
    "colab": {
     "base_uri": "https://localhost:8080/",
     "height": 34
    },
    "colab_type": "code",
    "executionInfo": {
     "elapsed": 205,
     "status": "ok",
     "timestamp": 1543539007467,
     "user": {
      "displayName": "Nicolas Garneau",
      "photoUrl": "",
      "userId": "14846125508805523822"
     },
     "user_tz": 300
    },
    "id": "UzEBGGGjWPIo",
    "outputId": "79cb4268-51e0-4d50-bf28-bcd3e4e664ab"
   },
   "outputs": [
    {
     "data": {
      "text/plain": [
       "(91.77, 0.29140586808276253)"
      ]
     },
     "execution_count": 27,
     "metadata": {},
     "output_type": "execute_result"
    }
   ],
   "source": [
    "# Performances finales en test\n",
    "test_acc, test_loss"
   ]
  },
  {
   "cell_type": "code",
   "execution_count": null,
   "metadata": {},
   "outputs": [],
   "source": []
  }
 ],
 "metadata": {
  "accelerator": "GPU",
  "colab": {
   "collapsed_sections": [],
   "name": "Tutoriel 1.ipynb",
   "provenance": [],
   "version": "0.3.2"
  },
  "kernelspec": {
   "display_name": "Python 3",
   "language": "python",
   "name": "python3"
  },
  "language_info": {
   "codemirror_mode": {
    "name": "ipython",
    "version": 3
   },
   "file_extension": ".py",
   "mimetype": "text/x-python",
   "name": "python",
   "nbconvert_exporter": "python",
   "pygments_lexer": "ipython3",
   "version": "3.7.3"
  }
 },
 "nbformat": 4,
 "nbformat_minor": 1
}
